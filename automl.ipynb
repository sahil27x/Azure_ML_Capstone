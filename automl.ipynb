{
 "cells": [
  {
   "cell_type": "markdown",
   "metadata": {},
   "source": [
    "# Automated ML\n",
    "\n",
    "TODO: Import Dependencies. In the cell below, import all the dependencies that you will need to complete the project."
   ]
  },
  {
   "cell_type": "code",
   "execution_count": 1,
   "metadata": {
    "gather": {
     "logged": 1598423888013
    },
    "jupyter": {
     "outputs_hidden": false,
     "source_hidden": false
    },
    "nteract": {
     "transient": {
      "deleting": false
     }
    }
   },
   "outputs": [
    {
     "name": "stdout",
     "output_type": "stream",
     "text": [
      "SDK version: 1.19.0\n"
     ]
    }
   ],
   "source": [
    "import logging\n",
    "import os\n",
    "import csv\n",
    "import joblib, pickle\n",
    "\n",
    "from matplotlib import pyplot as plt\n",
    "import numpy as np\n",
    "import pandas as pd\n",
    "\n",
    "import azureml.core\n",
    "from azureml.core.experiment import Experiment\n",
    "from azureml.core.workspace import Workspace\n",
    "from azureml.train.automl import AutoMLConfig\n",
    "from azureml.core.dataset import Dataset\n",
    "from azureml.data.dataset_factory import TabularDatasetFactory\n",
    "\n",
    "#from azureml.pipeline.steps import AutoMLStep\n",
    "\n",
    "# Check core SDK version number\n",
    "print(\"SDK version:\", azureml.core.VERSION)"
   ]
  },
  {
   "cell_type": "markdown",
   "metadata": {},
   "source": [
    "## Dataset\n",
    "\n",
    "### Overview\n",
    "TODO: In this markdown cell, give an overview of the dataset you are using. Also mention the task you will be performing.\n",
    "\n",
    "\n",
    "TODO: Get data. In the cell below, write code to access the data you will be using in this project. Remember that the dataset needs to be external."
   ]
  },
  {
   "cell_type": "code",
   "execution_count": 2,
   "metadata": {
    "gather": {
     "logged": 1598423890461
    },
    "jupyter": {
     "outputs_hidden": false,
     "source_hidden": false
    },
    "nteract": {
     "transient": {
      "deleting": false
     }
    }
   },
   "outputs": [],
   "source": [
    "ws = Workspace.from_config()\n",
    "\n",
    "# choose a name for experiment\n",
    "experiment_name = 'capstone-project'\n",
    "\n",
    "experiment=Experiment(ws, experiment_name)"
   ]
  },
  {
   "cell_type": "code",
   "execution_count": 3,
   "metadata": {},
   "outputs": [],
   "source": [
    "from azureml.core.compute import ComputeTarget, AmlCompute\n",
    "from azureml.core.compute_target import ComputeTargetException\n",
    "\n",
    "compute_cluster = 'automl-cluster'\n",
    "\n",
    "try:\n",
    "    comp_trget = ComputeTarget(workspace=ws, name=compute_cluster)\n",
    "    print('Cluster already exists')\n",
    "except ComputeTargetException:\n",
    "    compute_confg = AmlCompute.provisioning_configuration(vm_size=\"STANDARD_D2_V2\",max_nodes=4)\n",
    "    comp_trget = ComputeTarget.create(ws,compute_cluster,compute_confg)"
   ]
  },
  {
   "cell_type": "code",
   "execution_count": 4,
   "metadata": {},
   "outputs": [],
   "source": [
    "data_link = 'https://raw.githubusercontent.com/murphy999/Udacity-Azure-ML-Scholarship/master/nd00333-capstone/starter_file/Telco-Customer-Churn.csv'\n",
    "input_data = TabularDatasetFactory.from_delimited_files(path=data_link)"
   ]
  },
  {
   "cell_type": "code",
   "execution_count": 5,
   "metadata": {},
   "outputs": [
    {
     "name": "stderr",
     "output_type": "stream",
     "text": [
      "/mnt/batch/tasks/shared/LS_root/mounts/clusters/notebook131255/code/Users/odl_user_131255/model_training.py:40: SettingWithCopyWarning: \n",
      "A value is trying to be set on a copy of a slice from a DataFrame.\n",
      "Try using .loc[row_indexer,col_indexer] = value instead\n",
      "\n",
      "See the caveats in the documentation: http://pandas.pydata.org/pandas-docs/stable/user_guide/indexing.html#returning-a-view-versus-a-copy\n",
      "  df['Partner'] = df.Partner.apply(lambda s: 1 if s == True else 0)\n",
      "/mnt/batch/tasks/shared/LS_root/mounts/clusters/notebook131255/code/Users/odl_user_131255/model_training.py:41: SettingWithCopyWarning: \n",
      "A value is trying to be set on a copy of a slice from a DataFrame.\n",
      "Try using .loc[row_indexer,col_indexer] = value instead\n",
      "\n",
      "See the caveats in the documentation: http://pandas.pydata.org/pandas-docs/stable/user_guide/indexing.html#returning-a-view-versus-a-copy\n",
      "  df['Dependents'] = df.Dependents.apply(lambda s: 1 if s == True else 0)\n",
      "/mnt/batch/tasks/shared/LS_root/mounts/clusters/notebook131255/code/Users/odl_user_131255/model_training.py:42: SettingWithCopyWarning: \n",
      "A value is trying to be set on a copy of a slice from a DataFrame.\n",
      "Try using .loc[row_indexer,col_indexer] = value instead\n",
      "\n",
      "See the caveats in the documentation: http://pandas.pydata.org/pandas-docs/stable/user_guide/indexing.html#returning-a-view-versus-a-copy\n",
      "  df['PaperlessBilling'] = df.PaperlessBilling.apply(lambda s: 1 if s == True else 0)\n",
      "/mnt/batch/tasks/shared/LS_root/mounts/clusters/notebook131255/code/Users/odl_user_131255/model_training.py:43: SettingWithCopyWarning: \n",
      "A value is trying to be set on a copy of a slice from a DataFrame.\n",
      "Try using .loc[row_indexer,col_indexer] = value instead\n",
      "\n",
      "See the caveats in the documentation: http://pandas.pydata.org/pandas-docs/stable/user_guide/indexing.html#returning-a-view-versus-a-copy\n",
      "  df['PhoneService'] = df.PhoneService.apply(lambda s: 1 if s == True else 0)\n",
      "/mnt/batch/tasks/shared/LS_root/mounts/clusters/notebook131255/code/Users/odl_user_131255/model_training.py:44: SettingWithCopyWarning: \n",
      "A value is trying to be set on a copy of a slice from a DataFrame.\n",
      "Try using .loc[row_indexer,col_indexer] = value instead\n",
      "\n",
      "See the caveats in the documentation: http://pandas.pydata.org/pandas-docs/stable/user_guide/indexing.html#returning-a-view-versus-a-copy\n",
      "  df['MultipleLines'] = df.MultipleLines.apply(lambda s: 1 if s == \"Yes\" else 0)\n",
      "/mnt/batch/tasks/shared/LS_root/mounts/clusters/notebook131255/code/Users/odl_user_131255/model_training.py:45: SettingWithCopyWarning: \n",
      "A value is trying to be set on a copy of a slice from a DataFrame.\n",
      "Try using .loc[row_indexer,col_indexer] = value instead\n",
      "\n",
      "See the caveats in the documentation: http://pandas.pydata.org/pandas-docs/stable/user_guide/indexing.html#returning-a-view-versus-a-copy\n",
      "  df['OnlineSecurity'] = df.OnlineSecurity.apply(lambda s: 1 if s == \"Yes\" else 0)\n",
      "/mnt/batch/tasks/shared/LS_root/mounts/clusters/notebook131255/code/Users/odl_user_131255/model_training.py:46: SettingWithCopyWarning: \n",
      "A value is trying to be set on a copy of a slice from a DataFrame.\n",
      "Try using .loc[row_indexer,col_indexer] = value instead\n",
      "\n",
      "See the caveats in the documentation: http://pandas.pydata.org/pandas-docs/stable/user_guide/indexing.html#returning-a-view-versus-a-copy\n",
      "  df['OnlineBackup'] = df.OnlineBackup.apply(lambda s: 1 if s == \"Yes\" else 0)\n",
      "/mnt/batch/tasks/shared/LS_root/mounts/clusters/notebook131255/code/Users/odl_user_131255/model_training.py:47: SettingWithCopyWarning: \n",
      "A value is trying to be set on a copy of a slice from a DataFrame.\n",
      "Try using .loc[row_indexer,col_indexer] = value instead\n",
      "\n",
      "See the caveats in the documentation: http://pandas.pydata.org/pandas-docs/stable/user_guide/indexing.html#returning-a-view-versus-a-copy\n",
      "  df['DeviceProtection'] = df.DeviceProtection.apply(lambda s: 1 if s == \"Yes\" else 0)\n",
      "/mnt/batch/tasks/shared/LS_root/mounts/clusters/notebook131255/code/Users/odl_user_131255/model_training.py:48: SettingWithCopyWarning: \n",
      "A value is trying to be set on a copy of a slice from a DataFrame.\n",
      "Try using .loc[row_indexer,col_indexer] = value instead\n",
      "\n",
      "See the caveats in the documentation: http://pandas.pydata.org/pandas-docs/stable/user_guide/indexing.html#returning-a-view-versus-a-copy\n",
      "  df['TechSupport'] = df.TechSupport.apply(lambda s: 1 if s == \"Yes\" else 0)\n",
      "/mnt/batch/tasks/shared/LS_root/mounts/clusters/notebook131255/code/Users/odl_user_131255/model_training.py:49: SettingWithCopyWarning: \n",
      "A value is trying to be set on a copy of a slice from a DataFrame.\n",
      "Try using .loc[row_indexer,col_indexer] = value instead\n",
      "\n",
      "See the caveats in the documentation: http://pandas.pydata.org/pandas-docs/stable/user_guide/indexing.html#returning-a-view-versus-a-copy\n",
      "  df['StreamingMovies'] = df.StreamingMovies.apply(lambda s: 1 if s == \"Yes\" else 0)\n",
      "/mnt/batch/tasks/shared/LS_root/mounts/clusters/notebook131255/code/Users/odl_user_131255/model_training.py:50: SettingWithCopyWarning: \n",
      "A value is trying to be set on a copy of a slice from a DataFrame.\n",
      "Try using .loc[row_indexer,col_indexer] = value instead\n",
      "\n",
      "See the caveats in the documentation: http://pandas.pydata.org/pandas-docs/stable/user_guide/indexing.html#returning-a-view-versus-a-copy\n",
      "  df['StreamingTV'] = df.StreamingTV.apply(lambda s: 1 if s == \"Yes\" else 0)\n"
     ]
    },
    {
     "data": {
      "text/html": [
       "<div>\n",
       "<style scoped>\n",
       "    .dataframe tbody tr th:only-of-type {\n",
       "        vertical-align: middle;\n",
       "    }\n",
       "\n",
       "    .dataframe tbody tr th {\n",
       "        vertical-align: top;\n",
       "    }\n",
       "\n",
       "    .dataframe thead th {\n",
       "        text-align: right;\n",
       "    }\n",
       "</style>\n",
       "<table border=\"1\" class=\"dataframe\">\n",
       "  <thead>\n",
       "    <tr style=\"text-align: right;\">\n",
       "      <th></th>\n",
       "      <th>SeniorCitizen</th>\n",
       "      <th>Partner</th>\n",
       "      <th>Dependents</th>\n",
       "      <th>tenure</th>\n",
       "      <th>PhoneService</th>\n",
       "      <th>MultipleLines</th>\n",
       "      <th>OnlineSecurity</th>\n",
       "      <th>OnlineBackup</th>\n",
       "      <th>DeviceProtection</th>\n",
       "      <th>TechSupport</th>\n",
       "      <th>...</th>\n",
       "      <th>gender_Male</th>\n",
       "      <th>InternetService_Fiber optic</th>\n",
       "      <th>InternetService_No</th>\n",
       "      <th>PaymentMethod_Bank transfer (automatic)</th>\n",
       "      <th>PaymentMethod_Credit card (automatic)</th>\n",
       "      <th>PaymentMethod_Electronic check</th>\n",
       "      <th>PaymentMethod_Mailed check</th>\n",
       "      <th>Contract_One year</th>\n",
       "      <th>Contract_Two year</th>\n",
       "      <th>Churn</th>\n",
       "    </tr>\n",
       "  </thead>\n",
       "  <tbody>\n",
       "    <tr>\n",
       "      <th>0</th>\n",
       "      <td>0</td>\n",
       "      <td>1</td>\n",
       "      <td>0</td>\n",
       "      <td>1</td>\n",
       "      <td>0</td>\n",
       "      <td>0</td>\n",
       "      <td>0</td>\n",
       "      <td>1</td>\n",
       "      <td>0</td>\n",
       "      <td>0</td>\n",
       "      <td>...</td>\n",
       "      <td>0</td>\n",
       "      <td>0</td>\n",
       "      <td>0</td>\n",
       "      <td>0</td>\n",
       "      <td>0</td>\n",
       "      <td>1</td>\n",
       "      <td>0</td>\n",
       "      <td>0</td>\n",
       "      <td>0</td>\n",
       "      <td>0</td>\n",
       "    </tr>\n",
       "    <tr>\n",
       "      <th>1</th>\n",
       "      <td>0</td>\n",
       "      <td>0</td>\n",
       "      <td>0</td>\n",
       "      <td>34</td>\n",
       "      <td>1</td>\n",
       "      <td>0</td>\n",
       "      <td>1</td>\n",
       "      <td>0</td>\n",
       "      <td>1</td>\n",
       "      <td>0</td>\n",
       "      <td>...</td>\n",
       "      <td>1</td>\n",
       "      <td>0</td>\n",
       "      <td>0</td>\n",
       "      <td>0</td>\n",
       "      <td>0</td>\n",
       "      <td>0</td>\n",
       "      <td>1</td>\n",
       "      <td>1</td>\n",
       "      <td>0</td>\n",
       "      <td>0</td>\n",
       "    </tr>\n",
       "    <tr>\n",
       "      <th>2</th>\n",
       "      <td>0</td>\n",
       "      <td>0</td>\n",
       "      <td>0</td>\n",
       "      <td>2</td>\n",
       "      <td>1</td>\n",
       "      <td>0</td>\n",
       "      <td>1</td>\n",
       "      <td>1</td>\n",
       "      <td>0</td>\n",
       "      <td>0</td>\n",
       "      <td>...</td>\n",
       "      <td>1</td>\n",
       "      <td>0</td>\n",
       "      <td>0</td>\n",
       "      <td>0</td>\n",
       "      <td>0</td>\n",
       "      <td>0</td>\n",
       "      <td>1</td>\n",
       "      <td>0</td>\n",
       "      <td>0</td>\n",
       "      <td>1</td>\n",
       "    </tr>\n",
       "    <tr>\n",
       "      <th>3</th>\n",
       "      <td>0</td>\n",
       "      <td>0</td>\n",
       "      <td>0</td>\n",
       "      <td>45</td>\n",
       "      <td>0</td>\n",
       "      <td>0</td>\n",
       "      <td>1</td>\n",
       "      <td>0</td>\n",
       "      <td>1</td>\n",
       "      <td>1</td>\n",
       "      <td>...</td>\n",
       "      <td>1</td>\n",
       "      <td>0</td>\n",
       "      <td>0</td>\n",
       "      <td>1</td>\n",
       "      <td>0</td>\n",
       "      <td>0</td>\n",
       "      <td>0</td>\n",
       "      <td>1</td>\n",
       "      <td>0</td>\n",
       "      <td>0</td>\n",
       "    </tr>\n",
       "    <tr>\n",
       "      <th>4</th>\n",
       "      <td>0</td>\n",
       "      <td>0</td>\n",
       "      <td>0</td>\n",
       "      <td>2</td>\n",
       "      <td>1</td>\n",
       "      <td>0</td>\n",
       "      <td>0</td>\n",
       "      <td>0</td>\n",
       "      <td>0</td>\n",
       "      <td>0</td>\n",
       "      <td>...</td>\n",
       "      <td>0</td>\n",
       "      <td>1</td>\n",
       "      <td>0</td>\n",
       "      <td>0</td>\n",
       "      <td>0</td>\n",
       "      <td>1</td>\n",
       "      <td>0</td>\n",
       "      <td>0</td>\n",
       "      <td>0</td>\n",
       "      <td>1</td>\n",
       "    </tr>\n",
       "  </tbody>\n",
       "</table>\n",
       "<p>5 rows × 25 columns</p>\n",
       "</div>"
      ],
      "text/plain": [
       "   SeniorCitizen  Partner  Dependents  tenure  PhoneService  MultipleLines  \\\n",
       "0              0        1           0       1             0              0   \n",
       "1              0        0           0      34             1              0   \n",
       "2              0        0           0       2             1              0   \n",
       "3              0        0           0      45             0              0   \n",
       "4              0        0           0       2             1              0   \n",
       "\n",
       "   OnlineSecurity  OnlineBackup  DeviceProtection  TechSupport  ...  \\\n",
       "0               0             1                 0            0  ...   \n",
       "1               1             0                 1            0  ...   \n",
       "2               1             1                 0            0  ...   \n",
       "3               1             0                 1            1  ...   \n",
       "4               0             0                 0            0  ...   \n",
       "\n",
       "   gender_Male  InternetService_Fiber optic  InternetService_No  \\\n",
       "0            0                            0                   0   \n",
       "1            1                            0                   0   \n",
       "2            1                            0                   0   \n",
       "3            1                            0                   0   \n",
       "4            0                            1                   0   \n",
       "\n",
       "   PaymentMethod_Bank transfer (automatic)  \\\n",
       "0                                        0   \n",
       "1                                        0   \n",
       "2                                        0   \n",
       "3                                        1   \n",
       "4                                        0   \n",
       "\n",
       "   PaymentMethod_Credit card (automatic)  PaymentMethod_Electronic check  \\\n",
       "0                                      0                               1   \n",
       "1                                      0                               0   \n",
       "2                                      0                               0   \n",
       "3                                      0                               0   \n",
       "4                                      0                               1   \n",
       "\n",
       "   PaymentMethod_Mailed check  Contract_One year  Contract_Two year  Churn  \n",
       "0                           0                  0                  0      0  \n",
       "1                           1                  1                  0      0  \n",
       "2                           1                  0                  0      1  \n",
       "3                           0                  1                  0      0  \n",
       "4                           0                  0                  0      1  \n",
       "\n",
       "[5 rows x 25 columns]"
      ]
     },
     "execution_count": 5,
     "metadata": {},
     "output_type": "execute_result"
    }
   ],
   "source": [
    "from model_training import clean_data\n",
    "\n",
    "# Use the clean_data function to clean your data.\n",
    "x, y = clean_data(input_data)\n",
    "predict_col = pd.DataFrame(y)\n",
    "predict_col.head()\n",
    "complete_data = pd.concat([x,predict_col],axis=1)\n",
    "complete_data.head()"
   ]
  },
  {
   "cell_type": "code",
   "execution_count": 6,
   "metadata": {},
   "outputs": [
    {
     "data": {
      "text/html": [
       "<div>\n",
       "<style scoped>\n",
       "    .dataframe tbody tr th:only-of-type {\n",
       "        vertical-align: middle;\n",
       "    }\n",
       "\n",
       "    .dataframe tbody tr th {\n",
       "        vertical-align: top;\n",
       "    }\n",
       "\n",
       "    .dataframe thead th {\n",
       "        text-align: right;\n",
       "    }\n",
       "</style>\n",
       "<table border=\"1\" class=\"dataframe\">\n",
       "  <thead>\n",
       "    <tr style=\"text-align: right;\">\n",
       "      <th></th>\n",
       "      <th>SeniorCitizen</th>\n",
       "      <th>Partner</th>\n",
       "      <th>Dependents</th>\n",
       "      <th>tenure</th>\n",
       "      <th>PhoneService</th>\n",
       "      <th>MultipleLines</th>\n",
       "      <th>OnlineSecurity</th>\n",
       "      <th>OnlineBackup</th>\n",
       "      <th>DeviceProtection</th>\n",
       "      <th>TechSupport</th>\n",
       "      <th>...</th>\n",
       "      <th>gender_Male</th>\n",
       "      <th>InternetService_Fiber optic</th>\n",
       "      <th>InternetService_No</th>\n",
       "      <th>PaymentMethod_Bank transfer (automatic)</th>\n",
       "      <th>PaymentMethod_Credit card (automatic)</th>\n",
       "      <th>PaymentMethod_Electronic check</th>\n",
       "      <th>PaymentMethod_Mailed check</th>\n",
       "      <th>Contract_One year</th>\n",
       "      <th>Contract_Two year</th>\n",
       "      <th>Churn</th>\n",
       "    </tr>\n",
       "  </thead>\n",
       "  <tbody>\n",
       "    <tr>\n",
       "      <th>3828</th>\n",
       "      <td>0</td>\n",
       "      <td>1</td>\n",
       "      <td>0</td>\n",
       "      <td>65</td>\n",
       "      <td>1</td>\n",
       "      <td>0</td>\n",
       "      <td>0</td>\n",
       "      <td>0</td>\n",
       "      <td>0</td>\n",
       "      <td>0</td>\n",
       "      <td>...</td>\n",
       "      <td>0</td>\n",
       "      <td>0</td>\n",
       "      <td>1</td>\n",
       "      <td>1</td>\n",
       "      <td>0</td>\n",
       "      <td>0</td>\n",
       "      <td>0</td>\n",
       "      <td>0</td>\n",
       "      <td>1</td>\n",
       "      <td>0</td>\n",
       "    </tr>\n",
       "    <tr>\n",
       "      <th>3731</th>\n",
       "      <td>0</td>\n",
       "      <td>0</td>\n",
       "      <td>0</td>\n",
       "      <td>2</td>\n",
       "      <td>1</td>\n",
       "      <td>0</td>\n",
       "      <td>0</td>\n",
       "      <td>0</td>\n",
       "      <td>0</td>\n",
       "      <td>0</td>\n",
       "      <td>...</td>\n",
       "      <td>1</td>\n",
       "      <td>1</td>\n",
       "      <td>0</td>\n",
       "      <td>0</td>\n",
       "      <td>0</td>\n",
       "      <td>1</td>\n",
       "      <td>0</td>\n",
       "      <td>0</td>\n",
       "      <td>0</td>\n",
       "      <td>0</td>\n",
       "    </tr>\n",
       "    <tr>\n",
       "      <th>4051</th>\n",
       "      <td>0</td>\n",
       "      <td>1</td>\n",
       "      <td>0</td>\n",
       "      <td>72</td>\n",
       "      <td>1</td>\n",
       "      <td>1</td>\n",
       "      <td>0</td>\n",
       "      <td>1</td>\n",
       "      <td>0</td>\n",
       "      <td>0</td>\n",
       "      <td>...</td>\n",
       "      <td>0</td>\n",
       "      <td>1</td>\n",
       "      <td>0</td>\n",
       "      <td>0</td>\n",
       "      <td>1</td>\n",
       "      <td>0</td>\n",
       "      <td>0</td>\n",
       "      <td>0</td>\n",
       "      <td>1</td>\n",
       "      <td>0</td>\n",
       "    </tr>\n",
       "    <tr>\n",
       "      <th>1258</th>\n",
       "      <td>0</td>\n",
       "      <td>0</td>\n",
       "      <td>0</td>\n",
       "      <td>47</td>\n",
       "      <td>1</td>\n",
       "      <td>0</td>\n",
       "      <td>0</td>\n",
       "      <td>0</td>\n",
       "      <td>0</td>\n",
       "      <td>0</td>\n",
       "      <td>...</td>\n",
       "      <td>0</td>\n",
       "      <td>0</td>\n",
       "      <td>1</td>\n",
       "      <td>0</td>\n",
       "      <td>0</td>\n",
       "      <td>0</td>\n",
       "      <td>1</td>\n",
       "      <td>0</td>\n",
       "      <td>1</td>\n",
       "      <td>0</td>\n",
       "    </tr>\n",
       "    <tr>\n",
       "      <th>3455</th>\n",
       "      <td>0</td>\n",
       "      <td>0</td>\n",
       "      <td>0</td>\n",
       "      <td>1</td>\n",
       "      <td>1</td>\n",
       "      <td>0</td>\n",
       "      <td>0</td>\n",
       "      <td>0</td>\n",
       "      <td>0</td>\n",
       "      <td>0</td>\n",
       "      <td>...</td>\n",
       "      <td>1</td>\n",
       "      <td>1</td>\n",
       "      <td>0</td>\n",
       "      <td>0</td>\n",
       "      <td>0</td>\n",
       "      <td>1</td>\n",
       "      <td>0</td>\n",
       "      <td>0</td>\n",
       "      <td>0</td>\n",
       "      <td>1</td>\n",
       "    </tr>\n",
       "  </tbody>\n",
       "</table>\n",
       "<p>5 rows × 25 columns</p>\n",
       "</div>"
      ],
      "text/plain": [
       "      SeniorCitizen  Partner  Dependents  tenure  PhoneService  MultipleLines  \\\n",
       "3828              0        1           0      65             1              0   \n",
       "3731              0        0           0       2             1              0   \n",
       "4051              0        1           0      72             1              1   \n",
       "1258              0        0           0      47             1              0   \n",
       "3455              0        0           0       1             1              0   \n",
       "\n",
       "      OnlineSecurity  OnlineBackup  DeviceProtection  TechSupport  ...  \\\n",
       "3828               0             0                 0            0  ...   \n",
       "3731               0             0                 0            0  ...   \n",
       "4051               0             1                 0            0  ...   \n",
       "1258               0             0                 0            0  ...   \n",
       "3455               0             0                 0            0  ...   \n",
       "\n",
       "      gender_Male  InternetService_Fiber optic  InternetService_No  \\\n",
       "3828            0                            0                   1   \n",
       "3731            1                            1                   0   \n",
       "4051            0                            1                   0   \n",
       "1258            0                            0                   1   \n",
       "3455            1                            1                   0   \n",
       "\n",
       "      PaymentMethod_Bank transfer (automatic)  \\\n",
       "3828                                        1   \n",
       "3731                                        0   \n",
       "4051                                        0   \n",
       "1258                                        0   \n",
       "3455                                        0   \n",
       "\n",
       "      PaymentMethod_Credit card (automatic)  PaymentMethod_Electronic check  \\\n",
       "3828                                      0                               0   \n",
       "3731                                      0                               1   \n",
       "4051                                      1                               0   \n",
       "1258                                      0                               0   \n",
       "3455                                      0                               1   \n",
       "\n",
       "      PaymentMethod_Mailed check  Contract_One year  Contract_Two year  Churn  \n",
       "3828                           0                  0                  1      0  \n",
       "3731                           0                  0                  0      0  \n",
       "4051                           0                  0                  1      0  \n",
       "1258                           1                  0                  1      0  \n",
       "3455                           0                  0                  0      1  \n",
       "\n",
       "[5 rows x 25 columns]"
      ]
     },
     "execution_count": 6,
     "metadata": {},
     "output_type": "execute_result"
    }
   ],
   "source": [
    "# split data into training and test data\n",
    "from sklearn.model_selection import train_test_split\n",
    "train_data, test_data = train_test_split(complete_data,test_size=0.25)\n",
    "train_data.head()"
   ]
  },
  {
   "cell_type": "code",
   "execution_count": 7,
   "metadata": {},
   "outputs": [],
   "source": [
    "# Save training data to a csv file \n",
    "train_data.to_csv(\"customer_churn_traindata.csv\")"
   ]
  },
  {
   "cell_type": "code",
   "execution_count": 8,
   "metadata": {},
   "outputs": [
    {
     "name": "stdout",
     "output_type": "stream",
     "text": [
      "Uploading an estimated of 5 files\n",
      "Uploading ./automl.ipynb\n",
      "Uploaded ./automl.ipynb, 1 files out of an estimated total of 5\n",
      "Uploading ./customer_churn_traindata.csv\n",
      "Uploaded ./customer_churn_traindata.csv, 2 files out of an estimated total of 5\n",
      "Uploading ./model_training.py\n",
      "Uploaded ./model_training.py, 3 files out of an estimated total of 5\n",
      "Uploading ./score.py\n",
      "Uploaded ./score.py, 4 files out of an estimated total of 5\n",
      "Uploading ./__pycache__/model_training.cpython-36.pyc\n",
      "Uploaded ./__pycache__/model_training.cpython-36.pyc, 5 files out of an estimated total of 5\n",
      "Uploaded 5 files\n"
     ]
    }
   ],
   "source": [
    "data_store = ws.get_default_datastore()\n",
    "data_store.upload(src_dir='./',target_path='./')\n",
    "ftrain_data = Dataset.Tabular.from_delimited_files(path = [(data_store, './customer_churn_traindata.csv')])"
   ]
  },
  {
   "cell_type": "code",
   "execution_count": 9,
   "metadata": {},
   "outputs": [],
   "source": [
    "temp = ftrain_data.drop_columns('Column1')"
   ]
  },
  {
   "cell_type": "markdown",
   "metadata": {},
   "source": [
    "## AutoML Configuration\n",
    "\n",
    "TODO: Explain why you chose the automl settings and cofiguration you used below."
   ]
  },
  {
   "cell_type": "code",
   "execution_count": 10,
   "metadata": {
    "gather": {
     "logged": 1598429217746
    },
    "jupyter": {
     "outputs_hidden": false,
     "source_hidden": false
    },
    "nteract": {
     "transient": {
      "deleting": false
     }
    }
   },
   "outputs": [],
   "source": [
    "# TODO: Put your automl settings here\n",
    "automl_settings = {\n",
    "    \"experiment_timeout_minutes\": 25,\n",
    "    \"max_concurrent_iterations\": 4,\n",
    "    \"primary_metric\" : 'accuracy'\n",
    "}\n",
    "\n",
    "# TODO: Put your automl config here\n",
    "automl_config = AutoMLConfig(\n",
    "                             compute_target=comp_trget,\n",
    "                             task = \"classification\",\n",
    "                             training_data=temp,\n",
    "                             label_column_name=\"Churn\",   \n",
    "                             enable_early_stopping= True,\n",
    "                             featurization= 'auto',\n",
    "                             n_cross_validations=7,\n",
    "                             **automl_settings\n",
    ")"
   ]
  },
  {
   "cell_type": "code",
   "execution_count": 11,
   "metadata": {
    "gather": {
     "logged": 1598431107951
    },
    "jupyter": {
     "outputs_hidden": false,
     "source_hidden": false
    },
    "nteract": {
     "transient": {
      "deleting": false
     }
    }
   },
   "outputs": [
    {
     "name": "stdout",
     "output_type": "stream",
     "text": [
      "Running on remote.\n",
      "No run_configuration provided, running on automl-cluster with default configuration\n",
      "Running on remote compute: automl-cluster\n",
      "Parent Run ID: AutoML_830bd105-83b1-4a29-97f8-2458b6cd4c04\n",
      "\n",
      "Current status: FeaturesGeneration. Generating features for the dataset.\n",
      "Current status: DatasetCrossValidationSplit. Generating individually featurized CV splits.\n",
      "Current status: ModelSelection. Beginning model selection.\n",
      "\n",
      "****************************************************************************************************\n",
      "DATA GUARDRAILS: \n",
      "\n",
      "TYPE:         Class balancing detection\n",
      "STATUS:       PASSED\n",
      "DESCRIPTION:  Your inputs were analyzed, and all classes are balanced in your training data.\n",
      "              Learn more about imbalanced data: https://aka.ms/AutomatedMLImbalancedData\n",
      "\n",
      "****************************************************************************************************\n",
      "\n",
      "TYPE:         Missing feature values imputation\n",
      "STATUS:       PASSED\n",
      "DESCRIPTION:  No feature missing values were detected in the training data.\n",
      "              Learn more about missing value imputation: https://aka.ms/AutomatedMLFeaturization\n",
      "\n",
      "****************************************************************************************************\n",
      "\n",
      "TYPE:         High cardinality feature detection\n",
      "STATUS:       PASSED\n",
      "DESCRIPTION:  Your inputs were analyzed, and no high cardinality features were detected.\n",
      "              Learn more about high cardinality feature handling: https://aka.ms/AutomatedMLFeaturization\n",
      "\n",
      "****************************************************************************************************\n",
      "\n",
      "****************************************************************************************************\n",
      "ITERATION: The iteration being evaluated.\n",
      "PIPELINE: A summary description of the pipeline being evaluated.\n",
      "DURATION: Time taken for the current iteration.\n",
      "METRIC: The result of computing score on the fitted pipeline.\n",
      "BEST: The best observed score thus far.\n",
      "****************************************************************************************************\n",
      "\n",
      " ITERATION   PIPELINE                                       DURATION      METRIC      BEST\n",
      "         0   MaxAbsScaler LightGBM                          0:00:46       0.7931    0.7931\n",
      "         3   MinMaxScaler RandomForest                      0:00:57       0.7810    0.7931\n",
      "         1   MaxAbsScaler XGBoostClassifier                 0:00:50       0.7984    0.7984\n",
      "         6   TruncatedSVDWrapper XGBoostClassifier          0:01:40       0.7819    0.7984\n",
      "         4   MinMaxScaler RandomForest                      0:03:16       0.7569    0.7984\n",
      "         2   MinMaxScaler RandomForest                      0:03:26       0.7867    0.7984\n",
      "         5   StandardScalerWrapper XGBoostClassifier        0:03:27       0.7863    0.7984\n",
      "         8   SparseNormalizer XGBoostClassifier             0:00:53       0.7901    0.7984\n",
      "        10   StandardScalerWrapper XGBoostClassifier        0:00:47       0.7838    0.7984\n",
      "         9   RobustScaler RandomForest                      0:00:49       0.7816    0.7984\n",
      "         7   MinMaxScaler SVM                               0:02:09       0.7471    0.7984\n",
      "        11   StandardScalerWrapper RandomForest             0:00:52       0.7873    0.7984\n",
      "        12   MinMaxScaler LogisticRegression                0:00:43       0.8015    0.8015\n",
      "        13   SparseNormalizer XGBoostClassifier             0:00:51       0.7911    0.8015\n",
      "        14   StandardScalerWrapper LightGBM                 0:00:45       0.7899    0.8015\n",
      "        15   MinMaxScaler LightGBM                          0:00:54       0.7897    0.8015\n",
      "        18   MinMaxScaler LightGBM                          0:00:41       0.8022    0.8022\n",
      "        16   MaxAbsScaler LightGBM                          0:00:49       0.7757    0.8022\n",
      "        17   StandardScalerWrapper LightGBM                 0:00:51       0.7882    0.8022\n",
      "        20   MaxAbsScaler LightGBM                          0:00:46       0.7734    0.8022\n",
      "        22   SparseNormalizer XGBoostClassifier             0:00:42       0.7876    0.8022\n",
      "        19   RobustScaler RandomForest                      0:00:58       0.7848    0.8022\n",
      "        21   StandardScalerWrapper LightGBM                 0:00:49       0.7975    0.8022\n",
      "        23   StandardScalerWrapper RandomForest             0:00:46       0.7806    0.8022\n",
      "        25   MaxAbsScaler LightGBM                          0:00:42       0.7357    0.8022\n",
      "        26   StandardScalerWrapper XGBoostClassifier        0:00:42       0.7964    0.8022\n",
      "        24   SparseNormalizer LightGBM                      0:00:51       0.8003    0.8022\n",
      "        28   MinMaxScaler LightGBM                          0:00:43       0.7954    0.8022\n",
      "        29   StandardScalerWrapper RandomForest             0:00:45       0.7217    0.8022\n",
      "        30   StandardScalerWrapper ExtremeRandomTrees       0:00:46       0.7264    0.8022\n",
      "        27   MinMaxScaler LightGBM                          0:00:58       0.7821    0.8022\n",
      "        31   MaxAbsScaler LightGBM                          0:00:40       0.7854    0.8022\n",
      "        32   StandardScalerWrapper XGBoostClassifier        0:00:46       0.7966    0.8022\n",
      "        33   StandardScalerWrapper XGBoostClassifier        0:00:54       0.7962    0.8022\n",
      "        34   MaxAbsScaler LightGBM                          0:00:46       0.7922    0.8022\n",
      "        35                                                  0:00:18          nan    0.8022\n",
      "        37    StackEnsemble                                 0:01:35       0.8049    0.8049\n",
      "        36    VotingEnsemble                                0:02:03       0.8079    0.8079\n"
     ]
    }
   ],
   "source": [
    "# TODO: Submit your experiment\n",
    "remote_run = experiment.submit(automl_config, show_output = True)"
   ]
  },
  {
   "cell_type": "markdown",
   "metadata": {},
   "source": [
    "## Run Details\n",
    "\n",
    "OPTIONAL: Write about the different models trained and their performance. Why do you think some models did better than others?\n",
    "\n",
    "TODO: In the cell below, use the `RunDetails` widget to show the different experiments."
   ]
  },
  {
   "cell_type": "code",
   "execution_count": 12,
   "metadata": {
    "gather": {
     "logged": 1598431121770
    },
    "jupyter": {
     "outputs_hidden": false,
     "source_hidden": false
    },
    "nteract": {
     "transient": {
      "deleting": false
     }
    }
   },
   "outputs": [
    {
     "data": {
      "application/vnd.jupyter.widget-view+json": {
       "model_id": "1500ae58ad9e4f6cb602b39d42cf72a0",
       "version_major": 2,
       "version_minor": 0
      },
      "text/plain": [
       "_AutoMLWidget(widget_settings={'childWidgetDisplay': 'popup', 'send_telemetry': False, 'log_level': 'INFO', 's…"
      ]
     },
     "metadata": {},
     "output_type": "display_data"
    },
    {
     "data": {
      "application/aml.mini.widget.v1": "{\"status\": \"Completed\", \"workbench_run_details_uri\": \"https://ml.azure.com/experiments/capstone-project/runs/AutoML_830bd105-83b1-4a29-97f8-2458b6cd4c04?wsid=/subscriptions/1b944a9b-fdae-4f97-aeb1-b7eea0beac53/resourcegroups/aml-quickstarts-131255/workspaces/quick-starts-ws-131255\", \"run_id\": \"AutoML_830bd105-83b1-4a29-97f8-2458b6cd4c04\", \"run_properties\": {\"run_id\": \"AutoML_830bd105-83b1-4a29-97f8-2458b6cd4c04\", \"created_utc\": \"2020-12-21T13:00:38.349575Z\", \"properties\": {\"num_iterations\": \"1000\", \"training_type\": \"TrainFull\", \"acquisition_function\": \"EI\", \"primary_metric\": \"accuracy\", \"train_split\": \"0\", \"acquisition_parameter\": \"0\", \"num_cross_validation\": \"7\", \"target\": \"automl-cluster\", \"AMLSettingsJsonString\": \"{\\\"path\\\":null,\\\"name\\\":\\\"capstone-project\\\",\\\"subscription_id\\\":\\\"1b944a9b-fdae-4f97-aeb1-b7eea0beac53\\\",\\\"resource_group\\\":\\\"aml-quickstarts-131255\\\",\\\"workspace_name\\\":\\\"quick-starts-ws-131255\\\",\\\"region\\\":\\\"southcentralus\\\",\\\"compute_target\\\":\\\"automl-cluster\\\",\\\"spark_service\\\":null,\\\"azure_service\\\":\\\"remote\\\",\\\"many_models\\\":false,\\\"pipeline_fetch_max_batch_size\\\":1,\\\"iterations\\\":1000,\\\"primary_metric\\\":\\\"accuracy\\\",\\\"task_type\\\":\\\"classification\\\",\\\"data_script\\\":null,\\\"validation_size\\\":0.0,\\\"n_cross_validations\\\":7,\\\"y_min\\\":null,\\\"y_max\\\":null,\\\"num_classes\\\":null,\\\"featurization\\\":\\\"auto\\\",\\\"_ignore_package_version_incompatibilities\\\":false,\\\"is_timeseries\\\":false,\\\"max_cores_per_iteration\\\":1,\\\"max_concurrent_iterations\\\":4,\\\"iteration_timeout_minutes\\\":null,\\\"mem_in_mb\\\":null,\\\"enforce_time_on_windows\\\":false,\\\"experiment_timeout_minutes\\\":25,\\\"experiment_exit_score\\\":null,\\\"whitelist_models\\\":null,\\\"blacklist_algos\\\":[\\\"TensorFlowLinearClassifier\\\",\\\"TensorFlowDNN\\\"],\\\"supported_models\\\":[\\\"DecisionTree\\\",\\\"SVM\\\",\\\"XGBoostClassifier\\\",\\\"LightGBM\\\",\\\"LinearSVM\\\",\\\"GradientBoosting\\\",\\\"MultinomialNaiveBayes\\\",\\\"RandomForest\\\",\\\"KNN\\\",\\\"ExtremeRandomTrees\\\",\\\"LogisticRegression\\\",\\\"SGD\\\",\\\"TensorFlowDNN\\\",\\\"TensorFlowLinearClassifier\\\",\\\"BernoulliNaiveBayes\\\",\\\"AveragedPerceptronClassifier\\\"],\\\"auto_blacklist\\\":true,\\\"blacklist_samples_reached\\\":false,\\\"exclude_nan_labels\\\":true,\\\"verbosity\\\":20,\\\"_debug_log\\\":\\\"azureml_automl.log\\\",\\\"show_warnings\\\":false,\\\"model_explainability\\\":true,\\\"service_url\\\":null,\\\"sdk_url\\\":null,\\\"sdk_packages\\\":null,\\\"enable_onnx_compatible_models\\\":false,\\\"enable_split_onnx_featurizer_estimator_models\\\":false,\\\"vm_type\\\":\\\"STANDARD_D2_V2\\\",\\\"telemetry_verbosity\\\":20,\\\"send_telemetry\\\":true,\\\"enable_dnn\\\":false,\\\"scenario\\\":\\\"SDK-1.13.0\\\",\\\"environment_label\\\":null,\\\"force_text_dnn\\\":false,\\\"enable_feature_sweeping\\\":true,\\\"enable_early_stopping\\\":true,\\\"early_stopping_n_iters\\\":10,\\\"metrics\\\":null,\\\"enable_ensembling\\\":true,\\\"enable_stack_ensembling\\\":true,\\\"ensemble_iterations\\\":15,\\\"enable_tf\\\":false,\\\"enable_subsampling\\\":null,\\\"subsample_seed\\\":null,\\\"enable_nimbusml\\\":false,\\\"enable_streaming\\\":false,\\\"force_streaming\\\":false,\\\"track_child_runs\\\":true,\\\"allowed_private_models\\\":[],\\\"label_column_name\\\":\\\"Churn\\\",\\\"weight_column_name\\\":null,\\\"cv_split_column_names\\\":null,\\\"enable_local_managed\\\":false,\\\"_local_managed_run_id\\\":null,\\\"cost_mode\\\":1,\\\"lag_length\\\":0,\\\"metric_operation\\\":\\\"maximize\\\",\\\"preprocess\\\":true}\", \"DataPrepJsonString\": \"{\\\\\\\"training_data\\\\\\\": \\\\\\\"{\\\\\\\\\\\\\\\"blocks\\\\\\\\\\\\\\\": [{\\\\\\\\\\\\\\\"id\\\\\\\\\\\\\\\": \\\\\\\\\\\\\\\"06e57bd6-9e08-44a6-b0a4-0ed1edefca75\\\\\\\\\\\\\\\", \\\\\\\\\\\\\\\"type\\\\\\\\\\\\\\\": \\\\\\\\\\\\\\\"Microsoft.DPrep.GetDatastoreFilesBlock\\\\\\\\\\\\\\\", \\\\\\\\\\\\\\\"arguments\\\\\\\\\\\\\\\": {\\\\\\\\\\\\\\\"datastores\\\\\\\\\\\\\\\": [{\\\\\\\\\\\\\\\"datastoreName\\\\\\\\\\\\\\\": \\\\\\\\\\\\\\\"workspaceblobstore\\\\\\\\\\\\\\\", \\\\\\\\\\\\\\\"path\\\\\\\\\\\\\\\": \\\\\\\\\\\\\\\"./customer_churn_traindata.csv\\\\\\\\\\\\\\\", \\\\\\\\\\\\\\\"resourceGroup\\\\\\\\\\\\\\\": \\\\\\\\\\\\\\\"aml-quickstarts-131255\\\\\\\\\\\\\\\", \\\\\\\\\\\\\\\"subscription\\\\\\\\\\\\\\\": \\\\\\\\\\\\\\\"1b944a9b-fdae-4f97-aeb1-b7eea0beac53\\\\\\\\\\\\\\\", \\\\\\\\\\\\\\\"workspaceName\\\\\\\\\\\\\\\": \\\\\\\\\\\\\\\"quick-starts-ws-131255\\\\\\\\\\\\\\\"}]}, \\\\\\\\\\\\\\\"localData\\\\\\\\\\\\\\\": {}, \\\\\\\\\\\\\\\"isEnabled\\\\\\\\\\\\\\\": true, \\\\\\\\\\\\\\\"name\\\\\\\\\\\\\\\": null, \\\\\\\\\\\\\\\"annotation\\\\\\\\\\\\\\\": null}, {\\\\\\\\\\\\\\\"id\\\\\\\\\\\\\\\": \\\\\\\\\\\\\\\"17f87506-81c9-41ce-94ac-1333e85841d5\\\\\\\\\\\\\\\", \\\\\\\\\\\\\\\"type\\\\\\\\\\\\\\\": \\\\\\\\\\\\\\\"Microsoft.DPrep.ParseDelimitedBlock\\\\\\\\\\\\\\\", \\\\\\\\\\\\\\\"arguments\\\\\\\\\\\\\\\": {\\\\\\\\\\\\\\\"columnHeadersMode\\\\\\\\\\\\\\\": 3, \\\\\\\\\\\\\\\"fileEncoding\\\\\\\\\\\\\\\": 0, \\\\\\\\\\\\\\\"handleQuotedLineBreaks\\\\\\\\\\\\\\\": false, \\\\\\\\\\\\\\\"preview\\\\\\\\\\\\\\\": false, \\\\\\\\\\\\\\\"separator\\\\\\\\\\\\\\\": \\\\\\\\\\\\\\\",\\\\\\\\\\\\\\\", \\\\\\\\\\\\\\\"skipRows\\\\\\\\\\\\\\\": 0, \\\\\\\\\\\\\\\"skipRowsMode\\\\\\\\\\\\\\\": 0}, \\\\\\\\\\\\\\\"localData\\\\\\\\\\\\\\\": {}, \\\\\\\\\\\\\\\"isEnabled\\\\\\\\\\\\\\\": true, \\\\\\\\\\\\\\\"name\\\\\\\\\\\\\\\": null, \\\\\\\\\\\\\\\"annotation\\\\\\\\\\\\\\\": null}, {\\\\\\\\\\\\\\\"id\\\\\\\\\\\\\\\": \\\\\\\\\\\\\\\"3e86f52c-f82b-4b5a-89bd-4a97c2f3831e\\\\\\\\\\\\\\\", \\\\\\\\\\\\\\\"type\\\\\\\\\\\\\\\": \\\\\\\\\\\\\\\"Microsoft.DPrep.DropColumnsBlock\\\\\\\\\\\\\\\", \\\\\\\\\\\\\\\"arguments\\\\\\\\\\\\\\\": {\\\\\\\\\\\\\\\"columns\\\\\\\\\\\\\\\": {\\\\\\\\\\\\\\\"type\\\\\\\\\\\\\\\": 0, \\\\\\\\\\\\\\\"details\\\\\\\\\\\\\\\": {\\\\\\\\\\\\\\\"selectedColumns\\\\\\\\\\\\\\\": [\\\\\\\\\\\\\\\"Path\\\\\\\\\\\\\\\"]}}}, \\\\\\\\\\\\\\\"localData\\\\\\\\\\\\\\\": {}, \\\\\\\\\\\\\\\"isEnabled\\\\\\\\\\\\\\\": true, \\\\\\\\\\\\\\\"name\\\\\\\\\\\\\\\": null, \\\\\\\\\\\\\\\"annotation\\\\\\\\\\\\\\\": null}, {\\\\\\\\\\\\\\\"id\\\\\\\\\\\\\\\": \\\\\\\\\\\\\\\"a0eac3f5-4de7-47cc-a0a0-88131a450c86\\\\\\\\\\\\\\\", \\\\\\\\\\\\\\\"type\\\\\\\\\\\\\\\": \\\\\\\\\\\\\\\"Microsoft.DPrep.SetColumnTypesBlock\\\\\\\\\\\\\\\", \\\\\\\\\\\\\\\"arguments\\\\\\\\\\\\\\\": {\\\\\\\\\\\\\\\"columnConversion\\\\\\\\\\\\\\\": [{\\\\\\\\\\\\\\\"column\\\\\\\\\\\\\\\": {\\\\\\\\\\\\\\\"type\\\\\\\\\\\\\\\": 2, \\\\\\\\\\\\\\\"details\\\\\\\\\\\\\\\": {\\\\\\\\\\\\\\\"selectedColumn\\\\\\\\\\\\\\\": \\\\\\\\\\\\\\\"Column1\\\\\\\\\\\\\\\"}}, \\\\\\\\\\\\\\\"typeProperty\\\\\\\\\\\\\\\": 2}, {\\\\\\\\\\\\\\\"column\\\\\\\\\\\\\\\": {\\\\\\\\\\\\\\\"type\\\\\\\\\\\\\\\": 2, \\\\\\\\\\\\\\\"details\\\\\\\\\\\\\\\": {\\\\\\\\\\\\\\\"selectedColumn\\\\\\\\\\\\\\\": \\\\\\\\\\\\\\\"SeniorCitizen\\\\\\\\\\\\\\\"}}, \\\\\\\\\\\\\\\"typeProperty\\\\\\\\\\\\\\\": 2}, {\\\\\\\\\\\\\\\"column\\\\\\\\\\\\\\\": {\\\\\\\\\\\\\\\"type\\\\\\\\\\\\\\\": 2, \\\\\\\\\\\\\\\"details\\\\\\\\\\\\\\\": {\\\\\\\\\\\\\\\"selectedColumn\\\\\\\\\\\\\\\": \\\\\\\\\\\\\\\"Partner\\\\\\\\\\\\\\\"}}, \\\\\\\\\\\\\\\"typeProperty\\\\\\\\\\\\\\\": 2}, {\\\\\\\\\\\\\\\"column\\\\\\\\\\\\\\\": {\\\\\\\\\\\\\\\"type\\\\\\\\\\\\\\\": 2, \\\\\\\\\\\\\\\"details\\\\\\\\\\\\\\\": {\\\\\\\\\\\\\\\"selectedColumn\\\\\\\\\\\\\\\": \\\\\\\\\\\\\\\"Dependents\\\\\\\\\\\\\\\"}}, \\\\\\\\\\\\\\\"typeProperty\\\\\\\\\\\\\\\": 2}, {\\\\\\\\\\\\\\\"column\\\\\\\\\\\\\\\": {\\\\\\\\\\\\\\\"type\\\\\\\\\\\\\\\": 2, \\\\\\\\\\\\\\\"details\\\\\\\\\\\\\\\": {\\\\\\\\\\\\\\\"selectedColumn\\\\\\\\\\\\\\\": \\\\\\\\\\\\\\\"tenure\\\\\\\\\\\\\\\"}}, \\\\\\\\\\\\\\\"typeProperty\\\\\\\\\\\\\\\": 2}, {\\\\\\\\\\\\\\\"column\\\\\\\\\\\\\\\": {\\\\\\\\\\\\\\\"type\\\\\\\\\\\\\\\": 2, \\\\\\\\\\\\\\\"details\\\\\\\\\\\\\\\": {\\\\\\\\\\\\\\\"selectedColumn\\\\\\\\\\\\\\\": \\\\\\\\\\\\\\\"PhoneService\\\\\\\\\\\\\\\"}}, \\\\\\\\\\\\\\\"typeProperty\\\\\\\\\\\\\\\": 2}, {\\\\\\\\\\\\\\\"column\\\\\\\\\\\\\\\": {\\\\\\\\\\\\\\\"type\\\\\\\\\\\\\\\": 2, \\\\\\\\\\\\\\\"details\\\\\\\\\\\\\\\": {\\\\\\\\\\\\\\\"selectedColumn\\\\\\\\\\\\\\\": \\\\\\\\\\\\\\\"MultipleLines\\\\\\\\\\\\\\\"}}, \\\\\\\\\\\\\\\"typeProperty\\\\\\\\\\\\\\\": 2}, {\\\\\\\\\\\\\\\"column\\\\\\\\\\\\\\\": {\\\\\\\\\\\\\\\"type\\\\\\\\\\\\\\\": 2, \\\\\\\\\\\\\\\"details\\\\\\\\\\\\\\\": {\\\\\\\\\\\\\\\"selectedColumn\\\\\\\\\\\\\\\": \\\\\\\\\\\\\\\"OnlineSecurity\\\\\\\\\\\\\\\"}}, \\\\\\\\\\\\\\\"typeProperty\\\\\\\\\\\\\\\": 2}, {\\\\\\\\\\\\\\\"column\\\\\\\\\\\\\\\": {\\\\\\\\\\\\\\\"type\\\\\\\\\\\\\\\": 2, \\\\\\\\\\\\\\\"details\\\\\\\\\\\\\\\": {\\\\\\\\\\\\\\\"selectedColumn\\\\\\\\\\\\\\\": \\\\\\\\\\\\\\\"OnlineBackup\\\\\\\\\\\\\\\"}}, \\\\\\\\\\\\\\\"typeProperty\\\\\\\\\\\\\\\": 2}, {\\\\\\\\\\\\\\\"column\\\\\\\\\\\\\\\": {\\\\\\\\\\\\\\\"type\\\\\\\\\\\\\\\": 2, \\\\\\\\\\\\\\\"details\\\\\\\\\\\\\\\": {\\\\\\\\\\\\\\\"selectedColumn\\\\\\\\\\\\\\\": \\\\\\\\\\\\\\\"DeviceProtection\\\\\\\\\\\\\\\"}}, \\\\\\\\\\\\\\\"typeProperty\\\\\\\\\\\\\\\": 2}, {\\\\\\\\\\\\\\\"column\\\\\\\\\\\\\\\": {\\\\\\\\\\\\\\\"type\\\\\\\\\\\\\\\": 2, \\\\\\\\\\\\\\\"details\\\\\\\\\\\\\\\": {\\\\\\\\\\\\\\\"selectedColumn\\\\\\\\\\\\\\\": \\\\\\\\\\\\\\\"TechSupport\\\\\\\\\\\\\\\"}}, \\\\\\\\\\\\\\\"typeProperty\\\\\\\\\\\\\\\": 2}, {\\\\\\\\\\\\\\\"column\\\\\\\\\\\\\\\": {\\\\\\\\\\\\\\\"type\\\\\\\\\\\\\\\": 2, \\\\\\\\\\\\\\\"details\\\\\\\\\\\\\\\": {\\\\\\\\\\\\\\\"selectedColumn\\\\\\\\\\\\\\\": \\\\\\\\\\\\\\\"StreamingTV\\\\\\\\\\\\\\\"}}, \\\\\\\\\\\\\\\"typeProperty\\\\\\\\\\\\\\\": 2}, {\\\\\\\\\\\\\\\"column\\\\\\\\\\\\\\\": {\\\\\\\\\\\\\\\"type\\\\\\\\\\\\\\\": 2, \\\\\\\\\\\\\\\"details\\\\\\\\\\\\\\\": {\\\\\\\\\\\\\\\"selectedColumn\\\\\\\\\\\\\\\": \\\\\\\\\\\\\\\"StreamingMovies\\\\\\\\\\\\\\\"}}, \\\\\\\\\\\\\\\"typeProperty\\\\\\\\\\\\\\\": 2}, {\\\\\\\\\\\\\\\"column\\\\\\\\\\\\\\\": {\\\\\\\\\\\\\\\"type\\\\\\\\\\\\\\\": 2, \\\\\\\\\\\\\\\"details\\\\\\\\\\\\\\\": {\\\\\\\\\\\\\\\"selectedColumn\\\\\\\\\\\\\\\": \\\\\\\\\\\\\\\"PaperlessBilling\\\\\\\\\\\\\\\"}}, \\\\\\\\\\\\\\\"typeProperty\\\\\\\\\\\\\\\": 2}, {\\\\\\\\\\\\\\\"column\\\\\\\\\\\\\\\": {\\\\\\\\\\\\\\\"type\\\\\\\\\\\\\\\": 2, \\\\\\\\\\\\\\\"details\\\\\\\\\\\\\\\": {\\\\\\\\\\\\\\\"selectedColumn\\\\\\\\\\\\\\\": \\\\\\\\\\\\\\\"MonthlyCharges\\\\\\\\\\\\\\\"}}, \\\\\\\\\\\\\\\"typeProperty\\\\\\\\\\\\\\\": 3}, {\\\\\\\\\\\\\\\"column\\\\\\\\\\\\\\\": {\\\\\\\\\\\\\\\"type\\\\\\\\\\\\\\\": 2, \\\\\\\\\\\\\\\"details\\\\\\\\\\\\\\\": {\\\\\\\\\\\\\\\"selectedColumn\\\\\\\\\\\\\\\": \\\\\\\\\\\\\\\"TotalCharges\\\\\\\\\\\\\\\"}}, \\\\\\\\\\\\\\\"typeProperty\\\\\\\\\\\\\\\": 3}, {\\\\\\\\\\\\\\\"column\\\\\\\\\\\\\\\": {\\\\\\\\\\\\\\\"type\\\\\\\\\\\\\\\": 2, \\\\\\\\\\\\\\\"details\\\\\\\\\\\\\\\": {\\\\\\\\\\\\\\\"selectedColumn\\\\\\\\\\\\\\\": \\\\\\\\\\\\\\\"gender_Male\\\\\\\\\\\\\\\"}}, \\\\\\\\\\\\\\\"typeProperty\\\\\\\\\\\\\\\": 2}, {\\\\\\\\\\\\\\\"column\\\\\\\\\\\\\\\": {\\\\\\\\\\\\\\\"type\\\\\\\\\\\\\\\": 2, \\\\\\\\\\\\\\\"details\\\\\\\\\\\\\\\": {\\\\\\\\\\\\\\\"selectedColumn\\\\\\\\\\\\\\\": \\\\\\\\\\\\\\\"InternetService_Fiber optic\\\\\\\\\\\\\\\"}}, \\\\\\\\\\\\\\\"typeProperty\\\\\\\\\\\\\\\": 2}, {\\\\\\\\\\\\\\\"column\\\\\\\\\\\\\\\": {\\\\\\\\\\\\\\\"type\\\\\\\\\\\\\\\": 2, \\\\\\\\\\\\\\\"details\\\\\\\\\\\\\\\": {\\\\\\\\\\\\\\\"selectedColumn\\\\\\\\\\\\\\\": \\\\\\\\\\\\\\\"InternetService_No\\\\\\\\\\\\\\\"}}, \\\\\\\\\\\\\\\"typeProperty\\\\\\\\\\\\\\\": 2}, {\\\\\\\\\\\\\\\"column\\\\\\\\\\\\\\\": {\\\\\\\\\\\\\\\"type\\\\\\\\\\\\\\\": 2, \\\\\\\\\\\\\\\"details\\\\\\\\\\\\\\\": {\\\\\\\\\\\\\\\"selectedColumn\\\\\\\\\\\\\\\": \\\\\\\\\\\\\\\"PaymentMethod_Bank transfer (automatic)\\\\\\\\\\\\\\\"}}, \\\\\\\\\\\\\\\"typeProperty\\\\\\\\\\\\\\\": 2}, {\\\\\\\\\\\\\\\"column\\\\\\\\\\\\\\\": {\\\\\\\\\\\\\\\"type\\\\\\\\\\\\\\\": 2, \\\\\\\\\\\\\\\"details\\\\\\\\\\\\\\\": {\\\\\\\\\\\\\\\"selectedColumn\\\\\\\\\\\\\\\": \\\\\\\\\\\\\\\"PaymentMethod_Credit card (automatic)\\\\\\\\\\\\\\\"}}, \\\\\\\\\\\\\\\"typeProperty\\\\\\\\\\\\\\\": 2}, {\\\\\\\\\\\\\\\"column\\\\\\\\\\\\\\\": {\\\\\\\\\\\\\\\"type\\\\\\\\\\\\\\\": 2, \\\\\\\\\\\\\\\"details\\\\\\\\\\\\\\\": {\\\\\\\\\\\\\\\"selectedColumn\\\\\\\\\\\\\\\": \\\\\\\\\\\\\\\"PaymentMethod_Electronic check\\\\\\\\\\\\\\\"}}, \\\\\\\\\\\\\\\"typeProperty\\\\\\\\\\\\\\\": 2}, {\\\\\\\\\\\\\\\"column\\\\\\\\\\\\\\\": {\\\\\\\\\\\\\\\"type\\\\\\\\\\\\\\\": 2, \\\\\\\\\\\\\\\"details\\\\\\\\\\\\\\\": {\\\\\\\\\\\\\\\"selectedColumn\\\\\\\\\\\\\\\": \\\\\\\\\\\\\\\"PaymentMethod_Mailed check\\\\\\\\\\\\\\\"}}, \\\\\\\\\\\\\\\"typeProperty\\\\\\\\\\\\\\\": 2}, {\\\\\\\\\\\\\\\"column\\\\\\\\\\\\\\\": {\\\\\\\\\\\\\\\"type\\\\\\\\\\\\\\\": 2, \\\\\\\\\\\\\\\"details\\\\\\\\\\\\\\\": {\\\\\\\\\\\\\\\"selectedColumn\\\\\\\\\\\\\\\": \\\\\\\\\\\\\\\"Contract_One year\\\\\\\\\\\\\\\"}}, \\\\\\\\\\\\\\\"typeProperty\\\\\\\\\\\\\\\": 2}, {\\\\\\\\\\\\\\\"column\\\\\\\\\\\\\\\": {\\\\\\\\\\\\\\\"type\\\\\\\\\\\\\\\": 2, \\\\\\\\\\\\\\\"details\\\\\\\\\\\\\\\": {\\\\\\\\\\\\\\\"selectedColumn\\\\\\\\\\\\\\\": \\\\\\\\\\\\\\\"Contract_Two year\\\\\\\\\\\\\\\"}}, \\\\\\\\\\\\\\\"typeProperty\\\\\\\\\\\\\\\": 2}, {\\\\\\\\\\\\\\\"column\\\\\\\\\\\\\\\": {\\\\\\\\\\\\\\\"type\\\\\\\\\\\\\\\": 2, \\\\\\\\\\\\\\\"details\\\\\\\\\\\\\\\": {\\\\\\\\\\\\\\\"selectedColumn\\\\\\\\\\\\\\\": \\\\\\\\\\\\\\\"Churn\\\\\\\\\\\\\\\"}}, \\\\\\\\\\\\\\\"typeProperty\\\\\\\\\\\\\\\": 2}]}, \\\\\\\\\\\\\\\"localData\\\\\\\\\\\\\\\": {}, \\\\\\\\\\\\\\\"isEnabled\\\\\\\\\\\\\\\": true, \\\\\\\\\\\\\\\"name\\\\\\\\\\\\\\\": null, \\\\\\\\\\\\\\\"annotation\\\\\\\\\\\\\\\": null}, {\\\\\\\\\\\\\\\"id\\\\\\\\\\\\\\\": \\\\\\\\\\\\\\\"201e0403-896e-4e43-85c6-7791c1df3a26\\\\\\\\\\\\\\\", \\\\\\\\\\\\\\\"type\\\\\\\\\\\\\\\": \\\\\\\\\\\\\\\"Microsoft.DPrep.DropColumnsBlock\\\\\\\\\\\\\\\", \\\\\\\\\\\\\\\"arguments\\\\\\\\\\\\\\\": {\\\\\\\\\\\\\\\"columns\\\\\\\\\\\\\\\": {\\\\\\\\\\\\\\\"type\\\\\\\\\\\\\\\": 0, \\\\\\\\\\\\\\\"details\\\\\\\\\\\\\\\": {\\\\\\\\\\\\\\\"selectedColumns\\\\\\\\\\\\\\\": [\\\\\\\\\\\\\\\"Column1\\\\\\\\\\\\\\\"]}}}, \\\\\\\\\\\\\\\"localData\\\\\\\\\\\\\\\": {}, \\\\\\\\\\\\\\\"isEnabled\\\\\\\\\\\\\\\": true, \\\\\\\\\\\\\\\"name\\\\\\\\\\\\\\\": null, \\\\\\\\\\\\\\\"annotation\\\\\\\\\\\\\\\": null}], \\\\\\\\\\\\\\\"inspectors\\\\\\\\\\\\\\\": [], \\\\\\\\\\\\\\\"meta\\\\\\\\\\\\\\\": {\\\\\\\\\\\\\\\"savedDatasetId\\\\\\\\\\\\\\\": \\\\\\\\\\\\\\\"71040a24-478d-4afa-9723-26306e63acf3\\\\\\\\\\\\\\\", \\\\\\\\\\\\\\\"datasetType\\\\\\\\\\\\\\\": \\\\\\\\\\\\\\\"tabular\\\\\\\\\\\\\\\", \\\\\\\\\\\\\\\"subscriptionId\\\\\\\\\\\\\\\": \\\\\\\\\\\\\\\"1b944a9b-fdae-4f97-aeb1-b7eea0beac53\\\\\\\\\\\\\\\", \\\\\\\\\\\\\\\"workspaceId\\\\\\\\\\\\\\\": \\\\\\\\\\\\\\\"6751617e-3a90-44f5-a47f-e0e400e83f24\\\\\\\\\\\\\\\", \\\\\\\\\\\\\\\"workspaceLocation\\\\\\\\\\\\\\\": \\\\\\\\\\\\\\\"southcentralus\\\\\\\\\\\\\\\"}}\\\\\\\", \\\\\\\"activities\\\\\\\": 0}\", \"EnableSubsampling\": null, \"runTemplate\": \"AutoML\", \"azureml.runsource\": \"automl\", \"display_task_type\": \"classification\", \"dependencies_versions\": \"{\\\"azureml-widgets\\\": \\\"1.19.0\\\", \\\"azureml-train\\\": \\\"1.19.0\\\", \\\"azureml-train-restclients-hyperdrive\\\": \\\"1.19.0\\\", \\\"azureml-train-core\\\": \\\"1.19.0\\\", \\\"azureml-train-automl\\\": \\\"1.19.0\\\", \\\"azureml-train-automl-runtime\\\": \\\"1.19.0\\\", \\\"azureml-train-automl-client\\\": \\\"1.19.0\\\", \\\"azureml-tensorboard\\\": \\\"1.19.0\\\", \\\"azureml-telemetry\\\": \\\"1.19.0\\\", \\\"azureml-sdk\\\": \\\"1.19.0\\\", \\\"azureml-samples\\\": \\\"0+unknown\\\", \\\"azureml-pipeline\\\": \\\"1.19.0\\\", \\\"azureml-pipeline-steps\\\": \\\"1.19.0\\\", \\\"azureml-pipeline-core\\\": \\\"1.19.0\\\", \\\"azureml-opendatasets\\\": \\\"1.19.0\\\", \\\"azureml-model-management-sdk\\\": \\\"1.0.1b6.post1\\\", \\\"azureml-mlflow\\\": \\\"1.19.0\\\", \\\"azureml-interpret\\\": \\\"1.19.0\\\", \\\"azureml-explain-model\\\": \\\"1.19.0\\\", \\\"azureml-defaults\\\": \\\"1.19.0\\\", \\\"azureml-dataset-runtime\\\": \\\"1.19.0\\\", \\\"azureml-dataprep\\\": \\\"2.6.1\\\", \\\"azureml-dataprep-rslex\\\": \\\"1.4.0\\\", \\\"azureml-dataprep-native\\\": \\\"26.0.0\\\", \\\"azureml-datadrift\\\": \\\"1.19.0\\\", \\\"azureml-core\\\": \\\"1.19.0\\\", \\\"azureml-contrib-services\\\": \\\"1.19.0\\\", \\\"azureml-contrib-server\\\": \\\"1.19.0\\\", \\\"azureml-contrib-reinforcementlearning\\\": \\\"1.19.0\\\", \\\"azureml-contrib-pipeline-steps\\\": \\\"1.19.0\\\", \\\"azureml-contrib-notebook\\\": \\\"1.19.0\\\", \\\"azureml-contrib-interpret\\\": \\\"1.19.0\\\", \\\"azureml-contrib-gbdt\\\": \\\"1.19.0\\\", \\\"azureml-contrib-fairness\\\": \\\"1.19.0\\\", \\\"azureml-contrib-dataset\\\": \\\"1.19.0\\\", \\\"azureml-cli-common\\\": \\\"1.19.0\\\", \\\"azureml-automl-runtime\\\": \\\"1.19.0\\\", \\\"azureml-automl-core\\\": \\\"1.19.0\\\", \\\"azureml-accel-models\\\": \\\"1.19.0\\\"}\", \"_aml_system_scenario_identification\": \"Remote.Parent\", \"ClientType\": \"SDK\", \"environment_cpu_name\": \"AzureML-AutoML\", \"environment_cpu_version\": \"49\", \"environment_gpu_name\": \"AzureML-AutoML-GPU\", \"environment_gpu_version\": \"37\", \"root_attribution\": \"automl\", \"attribution\": \"AutoML\", \"Orchestrator\": \"AutoML\", \"CancelUri\": \"https://southcentralus.experiments.azureml.net/jasmine/v1.0/subscriptions/1b944a9b-fdae-4f97-aeb1-b7eea0beac53/resourceGroups/aml-quickstarts-131255/providers/Microsoft.MachineLearningServices/workspaces/quick-starts-ws-131255/experimentids/532eba26-00e7-4a9e-88a5-576788f7937f/cancel/AutoML_830bd105-83b1-4a29-97f8-2458b6cd4c04\", \"ClientSdkVersion\": \"1.18.0.post1\", \"snapshotId\": \"00000000-0000-0000-0000-000000000000\", \"SetupRunId\": \"AutoML_830bd105-83b1-4a29-97f8-2458b6cd4c04_setup\", \"SetupRunContainerId\": \"dcid.AutoML_830bd105-83b1-4a29-97f8-2458b6cd4c04_setup\", \"FeaturizationRunJsonPath\": \"featurizer_container.json\", \"FeaturizationRunId\": \"AutoML_830bd105-83b1-4a29-97f8-2458b6cd4c04_featurize\", \"ProblemInfoJsonString\": \"{\\\"dataset_num_categorical\\\": 0, \\\"is_sparse\\\": false, \\\"subsampling\\\": false, \\\"dataset_classes\\\": 2, \\\"dataset_features\\\": 24, \\\"dataset_samples\\\": 5274, \\\"single_frequency_class_detected\\\": false}\", \"ModelExplainRunId\": \"AutoML_830bd105-83b1-4a29-97f8-2458b6cd4c04_ModelExplain\"}, \"tags\": {\"model_explain_run\": \"best_run\", \"_aml_system_azureml.automlComponent\": \"AutoML\", \"pipeline_id\": \"\", \"score\": \"\", \"predicted_cost\": \"\", \"fit_time\": \"\", \"training_percent\": \"\", \"iteration\": \"\", \"run_preprocessor\": \"\", \"run_algorithm\": \"\", \"dynamic_whitelisting_iterations\": \"<25>;<28>;<35>;\", \"automl_best_child_run_id\": \"AutoML_830bd105-83b1-4a29-97f8-2458b6cd4c04_36\"}, \"end_time_utc\": \"2020-12-21T13:25:42.470351Z\", \"status\": \"Completed\", \"log_files\": {}, \"log_groups\": [], \"run_duration\": \"0:25:04\"}, \"child_runs\": [{\"run_id\": \"AutoML_830bd105-83b1-4a29-97f8-2458b6cd4c04_0\", \"run_number\": 5, \"metric\": null, \"status\": \"Completed\", \"run_type\": \"azureml.scriptrun\", \"training_percent\": \"100\", \"start_time\": \"2020-12-21T13:09:32.159689Z\", \"end_time\": \"2020-12-21T13:10:18.486168Z\", \"created_time\": \"2020-12-21T13:09:22.175847Z\", \"created_time_dt\": \"2020-12-21T13:09:22.175847Z\", \"duration\": \"0:00:56\", \"iteration\": \"0\", \"goal\": \"accuracy_max\", \"run_name\": \"MaxAbsScaler, LightGBM\", \"run_properties\": \"copy=True\", \"primary_metric\": 0.79313792, \"best_metric\": 0.79313792}, {\"run_id\": \"AutoML_830bd105-83b1-4a29-97f8-2458b6cd4c04_3\", \"run_number\": 6, \"metric\": null, \"status\": \"Completed\", \"run_type\": \"azureml.scriptrun\", \"training_percent\": \"100\", \"start_time\": \"2020-12-21T13:10:20.592482Z\", \"end_time\": \"2020-12-21T13:11:17.558546Z\", \"created_time\": \"2020-12-21T13:09:22.201614Z\", \"created_time_dt\": \"2020-12-21T13:09:22.201614Z\", \"duration\": \"0:01:55\", \"iteration\": \"3\", \"goal\": \"accuracy_max\", \"run_name\": \"MinMaxScaler, RandomForest\", \"run_properties\": \"copy=True, feature_range=(0, 1\", \"primary_metric\": 0.78100356, \"best_metric\": 0.7984495}, {\"run_id\": \"AutoML_830bd105-83b1-4a29-97f8-2458b6cd4c04_1\", \"run_number\": 7, \"metric\": null, \"status\": \"Completed\", \"run_type\": \"azureml.scriptrun\", \"training_percent\": \"100\", \"start_time\": \"2020-12-21T13:11:18.546543Z\", \"end_time\": \"2020-12-21T13:12:08.370972Z\", \"created_time\": \"2020-12-21T13:09:22.244949Z\", \"created_time_dt\": \"2020-12-21T13:09:22.244949Z\", \"duration\": \"0:02:46\", \"iteration\": \"1\", \"goal\": \"accuracy_max\", \"run_name\": \"MaxAbsScaler, XGBoostClassifier\", \"run_properties\": \"copy=True\", \"primary_metric\": 0.7984495, \"best_metric\": 0.7984495}, {\"run_id\": \"AutoML_830bd105-83b1-4a29-97f8-2458b6cd4c04_2\", \"run_number\": 8, \"metric\": null, \"status\": \"Completed\", \"run_type\": \"azureml.scriptrun\", \"training_percent\": \"100\", \"start_time\": \"2020-12-21T13:11:45.719911Z\", \"end_time\": \"2020-12-21T13:15:12.063115Z\", \"created_time\": \"2020-12-21T13:09:22.203593Z\", \"created_time_dt\": \"2020-12-21T13:09:22.203593Z\", \"duration\": \"0:05:49\", \"iteration\": \"2\", \"goal\": \"accuracy_max\", \"run_name\": \"MinMaxScaler, RandomForest\", \"run_properties\": \"copy=True, feature_range=(0, 1\", \"primary_metric\": 0.7866913, \"best_metric\": 0.7984495}, {\"run_id\": \"AutoML_830bd105-83b1-4a29-97f8-2458b6cd4c04_4\", \"run_number\": 9, \"metric\": null, \"status\": \"Completed\", \"run_type\": \"azureml.scriptrun\", \"training_percent\": \"100\", \"start_time\": \"2020-12-21T13:11:46.498916Z\", \"end_time\": \"2020-12-21T13:15:02.599704Z\", \"created_time\": \"2020-12-21T13:10:19.719908Z\", \"created_time_dt\": \"2020-12-21T13:10:19.719908Z\", \"duration\": \"0:04:42\", \"iteration\": \"4\", \"goal\": \"accuracy_max\", \"run_name\": \"MinMaxScaler, RandomForest\", \"run_properties\": \"copy=True, feature_range=(0, 1\", \"primary_metric\": 0.75692632, \"best_metric\": 0.7984495}, {\"run_id\": \"AutoML_830bd105-83b1-4a29-97f8-2458b6cd4c04_5\", \"run_number\": 10, \"metric\": null, \"status\": \"Completed\", \"run_type\": \"azureml.scriptrun\", \"training_percent\": \"100\", \"start_time\": \"2020-12-21T13:11:45.560589Z\", \"end_time\": \"2020-12-21T13:15:12.112926Z\", \"created_time\": \"2020-12-21T13:11:20.282266Z\", \"created_time_dt\": \"2020-12-21T13:11:20.282266Z\", \"duration\": \"0:03:51\", \"iteration\": \"5\", \"goal\": \"accuracy_max\", \"run_name\": \"StandardScalerWrapper, XGBoostClassifier\", \"run_properties\": \"<azureml.automl.runtime.shared.model_wrappers.StandardScalerWrapper object at 0x7f99f99217b8\", \"primary_metric\": 0.78631514, \"best_metric\": 0.7984495}, {\"run_id\": \"AutoML_830bd105-83b1-4a29-97f8-2458b6cd4c04_6\", \"run_number\": 11, \"metric\": null, \"status\": \"Completed\", \"run_type\": \"azureml.scriptrun\", \"training_percent\": \"100\", \"start_time\": \"2020-12-21T13:12:24.510185Z\", \"end_time\": \"2020-12-21T13:14:04.125593Z\", \"created_time\": \"2020-12-21T13:12:10.964432Z\", \"created_time_dt\": \"2020-12-21T13:12:10.964432Z\", \"duration\": \"0:01:53\", \"iteration\": \"6\", \"goal\": \"accuracy_max\", \"run_name\": \"TruncatedSVDWrapper, XGBoostClassifier\", \"run_properties\": \"n_components=0.95, random_state=None\", \"primary_metric\": 0.78194862, \"best_metric\": 0.7984495}, {\"run_id\": \"AutoML_830bd105-83b1-4a29-97f8-2458b6cd4c04_7\", \"run_number\": 12, \"metric\": null, \"status\": \"Completed\", \"run_type\": \"azureml.scriptrun\", \"training_percent\": \"100\", \"start_time\": \"2020-12-21T13:14:25.326632Z\", \"end_time\": \"2020-12-21T13:16:33.975628Z\", \"created_time\": \"2020-12-21T13:14:09.452819Z\", \"created_time_dt\": \"2020-12-21T13:14:09.452819Z\", \"duration\": \"0:02:24\", \"iteration\": \"7\", \"goal\": \"accuracy_max\", \"run_name\": \"MinMaxScaler, SVM\", \"run_properties\": \"copy=True, feature_range=(0, 1\", \"primary_metric\": 0.74705951, \"best_metric\": 0.7984495}, {\"run_id\": \"AutoML_830bd105-83b1-4a29-97f8-2458b6cd4c04_8\", \"run_number\": 13, \"metric\": null, \"status\": \"Completed\", \"run_type\": \"azureml.scriptrun\", \"training_percent\": \"100\", \"start_time\": \"2020-12-21T13:15:19.601082Z\", \"end_time\": \"2020-12-21T13:16:13.050784Z\", \"created_time\": \"2020-12-21T13:15:06.392299Z\", \"created_time_dt\": \"2020-12-21T13:15:06.392299Z\", \"duration\": \"0:01:06\", \"iteration\": \"8\", \"goal\": \"accuracy_max\", \"run_name\": \"SparseNormalizer, XGBoostClassifier\", \"run_properties\": \"<azureml.automl.runtime.shared.model_wrappers.SparseNormalizer object at 0x7f8cf9d29c50\", \"primary_metric\": 0.79010521, \"best_metric\": 0.7984495}, {\"run_id\": \"AutoML_830bd105-83b1-4a29-97f8-2458b6cd4c04_10\", \"run_number\": 14, \"metric\": null, \"status\": \"Completed\", \"run_type\": \"azureml.scriptrun\", \"training_percent\": \"100\", \"start_time\": \"2020-12-21T13:15:30.809252Z\", \"end_time\": \"2020-12-21T13:16:17.559766Z\", \"created_time\": \"2020-12-21T13:15:15.900235Z\", \"created_time_dt\": \"2020-12-21T13:15:15.900235Z\", \"duration\": \"0:01:01\", \"iteration\": \"10\", \"goal\": \"accuracy_max\", \"run_name\": \"StandardScalerWrapper, XGBoostClassifier\", \"run_properties\": \"<azureml.automl.runtime.shared.model_wrappers.StandardScalerWrapper object at 0x7f00281776d8\", \"primary_metric\": 0.7838458, \"best_metric\": 0.7984495}, {\"run_id\": \"AutoML_830bd105-83b1-4a29-97f8-2458b6cd4c04_9\", \"run_number\": 15, \"metric\": null, \"status\": \"Completed\", \"run_type\": \"azureml.scriptrun\", \"training_percent\": \"100\", \"start_time\": \"2020-12-21T13:15:30.7936Z\", \"end_time\": \"2020-12-21T13:16:19.948657Z\", \"created_time\": \"2020-12-21T13:15:15.94477Z\", \"created_time_dt\": \"2020-12-21T13:15:15.94477Z\", \"duration\": \"0:01:04\", \"iteration\": \"9\", \"goal\": \"accuracy_max\", \"run_name\": \"RobustScaler, RandomForest\", \"run_properties\": \"copy=True, quantile_range=[25, 75], with_centering=False,\\n             with_scaling=True\", \"primary_metric\": 0.7815707, \"best_metric\": 0.7984495}, {\"run_id\": \"AutoML_830bd105-83b1-4a29-97f8-2458b6cd4c04_11\", \"run_number\": 16, \"metric\": null, \"status\": \"Completed\", \"run_type\": \"azureml.scriptrun\", \"training_percent\": \"100\", \"start_time\": \"2020-12-21T13:16:37.483079Z\", \"end_time\": \"2020-12-21T13:17:29.20891Z\", \"created_time\": \"2020-12-21T13:16:16.638414Z\", \"created_time_dt\": \"2020-12-21T13:16:16.638414Z\", \"duration\": \"0:01:12\", \"iteration\": \"11\", \"goal\": \"accuracy_max\", \"run_name\": \"StandardScalerWrapper, RandomForest\", \"run_properties\": \"<azureml.automl.runtime.shared.model_wrappers.StandardScalerWrapper object at 0x7f6c948a5240\", \"primary_metric\": 0.78725794, \"best_metric\": 0.7984495}, {\"run_id\": \"AutoML_830bd105-83b1-4a29-97f8-2458b6cd4c04_13\", \"run_number\": 17, \"metric\": null, \"status\": \"Completed\", \"run_type\": \"azureml.scriptrun\", \"training_percent\": \"100\", \"start_time\": \"2020-12-21T13:16:44.371544Z\", \"end_time\": \"2020-12-21T13:17:35.527126Z\", \"created_time\": \"2020-12-21T13:16:30.245012Z\", \"created_time_dt\": \"2020-12-21T13:16:30.245012Z\", \"duration\": \"0:01:05\", \"iteration\": \"13\", \"goal\": \"accuracy_max\", \"run_name\": \"SparseNormalizer, XGBoostClassifier\", \"run_properties\": \"<azureml.automl.runtime.shared.model_wrappers.SparseNormalizer object at 0x7f63dc049ba8\", \"primary_metric\": 0.79105103, \"best_metric\": 0.80148297}, {\"run_id\": \"AutoML_830bd105-83b1-4a29-97f8-2458b6cd4c04_12\", \"run_number\": 18, \"metric\": null, \"status\": \"Completed\", \"run_type\": \"azureml.scriptrun\", \"training_percent\": \"100\", \"start_time\": \"2020-12-21T13:16:42.780892Z\", \"end_time\": \"2020-12-21T13:17:25.689362Z\", \"created_time\": \"2020-12-21T13:16:30.383282Z\", \"created_time_dt\": \"2020-12-21T13:16:30.383282Z\", \"duration\": \"0:00:55\", \"iteration\": \"12\", \"goal\": \"accuracy_max\", \"run_name\": \"MinMaxScaler, LogisticRegression\", \"run_properties\": \"copy=True, feature_range=(0, 1\", \"primary_metric\": 0.80148297, \"best_metric\": 0.80148297}, {\"run_id\": \"AutoML_830bd105-83b1-4a29-97f8-2458b6cd4c04_14\", \"run_number\": 19, \"metric\": null, \"status\": \"Completed\", \"run_type\": \"azureml.scriptrun\", \"training_percent\": \"100\", \"start_time\": \"2020-12-21T13:16:50.901859Z\", \"end_time\": \"2020-12-21T13:17:35.74177Z\", \"created_time\": \"2020-12-21T13:16:37.7914Z\", \"created_time_dt\": \"2020-12-21T13:16:37.7914Z\", \"duration\": \"0:00:57\", \"iteration\": \"14\", \"goal\": \"accuracy_max\", \"run_name\": \"StandardScalerWrapper, LightGBM\", \"run_properties\": \"<azureml.automl.runtime.shared.model_wrappers.StandardScalerWrapper object at 0x7effa36304a8\", \"primary_metric\": 0.78991373, \"best_metric\": 0.80148297}, {\"run_id\": \"AutoML_830bd105-83b1-4a29-97f8-2458b6cd4c04_15\", \"run_number\": 20, \"metric\": null, \"status\": \"Completed\", \"run_type\": \"azureml.scriptrun\", \"training_percent\": \"100\", \"start_time\": \"2020-12-21T13:17:44.63423Z\", \"end_time\": \"2020-12-21T13:18:38.307926Z\", \"created_time\": \"2020-12-21T13:17:28.998941Z\", \"created_time_dt\": \"2020-12-21T13:17:28.998941Z\", \"duration\": \"0:01:09\", \"iteration\": \"15\", \"goal\": \"accuracy_max\", \"run_name\": \"MinMaxScaler, LightGBM\", \"run_properties\": \"copy=True, feature_range=(0, 1\", \"primary_metric\": 0.78972351, \"best_metric\": 0.80148297}, {\"run_id\": \"AutoML_830bd105-83b1-4a29-97f8-2458b6cd4c04_17\", \"run_number\": 21, \"metric\": null, \"status\": \"Completed\", \"run_type\": \"azureml.scriptrun\", \"training_percent\": \"100\", \"start_time\": \"2020-12-21T13:17:51.229312Z\", \"end_time\": \"2020-12-21T13:18:42.04057Z\", \"created_time\": \"2020-12-21T13:17:38.491593Z\", \"created_time_dt\": \"2020-12-21T13:17:38.491593Z\", \"duration\": \"0:01:03\", \"iteration\": \"17\", \"goal\": \"accuracy_max\", \"run_name\": \"StandardScalerWrapper, LightGBM\", \"run_properties\": \"<azureml.automl.runtime.shared.model_wrappers.StandardScalerWrapper object at 0x7fb83d15af28\", \"primary_metric\": 0.7882098, \"best_metric\": 0.80148297}, {\"run_id\": \"AutoML_830bd105-83b1-4a29-97f8-2458b6cd4c04_18\", \"run_number\": 22, \"metric\": null, \"status\": \"Completed\", \"run_type\": \"azureml.scriptrun\", \"training_percent\": \"100\", \"start_time\": \"2020-12-21T13:17:51.477398Z\", \"end_time\": \"2020-12-21T13:18:32.190279Z\", \"created_time\": \"2020-12-21T13:17:38.659547Z\", \"created_time_dt\": \"2020-12-21T13:17:38.659547Z\", \"duration\": \"0:00:53\", \"iteration\": \"18\", \"goal\": \"accuracy_max\", \"run_name\": \"MinMaxScaler, LightGBM\", \"run_properties\": \"copy=True, feature_range=(0, 1\", \"primary_metric\": 0.80224033, \"best_metric\": 0.80224033}, {\"run_id\": \"AutoML_830bd105-83b1-4a29-97f8-2458b6cd4c04_16\", \"run_number\": 23, \"metric\": null, \"status\": \"Completed\", \"run_type\": \"azureml.scriptrun\", \"training_percent\": \"100\", \"start_time\": \"2020-12-21T13:17:53.205661Z\", \"end_time\": \"2020-12-21T13:18:42.045137Z\", \"created_time\": \"2020-12-21T13:17:38.648707Z\", \"created_time_dt\": \"2020-12-21T13:17:38.648707Z\", \"duration\": \"0:01:03\", \"iteration\": \"16\", \"goal\": \"accuracy_max\", \"run_name\": \"MaxAbsScaler, LightGBM\", \"run_properties\": \"copy=True\", \"primary_metric\": 0.77568896, \"best_metric\": 0.80148297}, {\"run_id\": \"AutoML_830bd105-83b1-4a29-97f8-2458b6cd4c04_19\", \"run_number\": 24, \"metric\": null, \"status\": \"Completed\", \"run_type\": \"azureml.scriptrun\", \"training_percent\": \"100\", \"start_time\": \"2020-12-21T13:19:02.120606Z\", \"end_time\": \"2020-12-21T13:20:00.305781Z\", \"created_time\": \"2020-12-21T13:18:47.97341Z\", \"created_time_dt\": \"2020-12-21T13:18:47.97341Z\", \"duration\": \"0:01:12\", \"iteration\": \"19\", \"goal\": \"accuracy_max\", \"run_name\": \"RobustScaler, RandomForest\", \"run_properties\": \"copy=True, quantile_range=[25, 75], with_centering=True,\\n             with_scaling=True\", \"primary_metric\": 0.78479287, \"best_metric\": 0.80224033}, {\"run_id\": \"AutoML_830bd105-83b1-4a29-97f8-2458b6cd4c04_21\", \"run_number\": 25, \"metric\": null, \"status\": \"Completed\", \"run_type\": \"azureml.scriptrun\", \"training_percent\": \"100\", \"start_time\": \"2020-12-21T13:19:07.973741Z\", \"end_time\": \"2020-12-21T13:19:56.745322Z\", \"created_time\": \"2020-12-21T13:18:54.103076Z\", \"created_time_dt\": \"2020-12-21T13:18:54.103076Z\", \"duration\": \"0:01:02\", \"iteration\": \"21\", \"goal\": \"accuracy_max\", \"run_name\": \"StandardScalerWrapper, LightGBM\", \"run_properties\": \"<azureml.automl.runtime.shared.model_wrappers.StandardScalerWrapper object at 0x7f52e059cc50\", \"primary_metric\": 0.7974984, \"best_metric\": 0.80224033}, {\"run_id\": \"AutoML_830bd105-83b1-4a29-97f8-2458b6cd4c04_20\", \"run_number\": 26, \"metric\": null, \"status\": \"Completed\", \"run_type\": \"azureml.scriptrun\", \"training_percent\": \"100\", \"start_time\": \"2020-12-21T13:19:07.064377Z\", \"end_time\": \"2020-12-21T13:19:53.038613Z\", \"created_time\": \"2020-12-21T13:18:54.107226Z\", \"created_time_dt\": \"2020-12-21T13:18:54.107226Z\", \"duration\": \"0:00:58\", \"iteration\": \"20\", \"goal\": \"accuracy_max\", \"run_name\": \"MaxAbsScaler, LightGBM\", \"run_properties\": \"copy=True\", \"primary_metric\": 0.77341713, \"best_metric\": 0.80224033}, {\"run_id\": \"AutoML_830bd105-83b1-4a29-97f8-2458b6cd4c04_22\", \"run_number\": 27, \"metric\": null, \"status\": \"Completed\", \"run_type\": \"azureml.scriptrun\", \"training_percent\": \"100\", \"start_time\": \"2020-12-21T13:19:05.543415Z\", \"end_time\": \"2020-12-21T13:19:47.522277Z\", \"created_time\": \"2020-12-21T13:18:54.215483Z\", \"created_time_dt\": \"2020-12-21T13:18:54.215483Z\", \"duration\": \"0:00:53\", \"iteration\": \"22\", \"goal\": \"accuracy_max\", \"run_name\": \"SparseNormalizer, XGBoostClassifier\", \"run_properties\": \"<azureml.automl.runtime.shared.model_wrappers.SparseNormalizer object at 0x7f939cbbc668\", \"primary_metric\": 0.78763989, \"best_metric\": 0.80224033}, {\"run_id\": \"AutoML_830bd105-83b1-4a29-97f8-2458b6cd4c04_23\", \"run_number\": 28, \"metric\": null, \"status\": \"Completed\", \"run_type\": \"azureml.scriptrun\", \"training_percent\": \"100\", \"start_time\": \"2020-12-21T13:20:04.135956Z\", \"end_time\": \"2020-12-21T13:20:49.889967Z\", \"created_time\": \"2020-12-21T13:19:50.044417Z\", \"created_time_dt\": \"2020-12-21T13:19:50.044417Z\", \"duration\": \"0:00:59\", \"iteration\": \"23\", \"goal\": \"accuracy_max\", \"run_name\": \"StandardScalerWrapper, RandomForest\", \"run_properties\": \"<azureml.automl.runtime.shared.model_wrappers.StandardScalerWrapper object at 0x7f697c05fc18\", \"primary_metric\": 0.78062111, \"best_metric\": 0.80224033}, {\"run_id\": \"AutoML_830bd105-83b1-4a29-97f8-2458b6cd4c04_24\", \"run_number\": 29, \"metric\": null, \"status\": \"Completed\", \"run_type\": \"azureml.scriptrun\", \"training_percent\": \"100\", \"start_time\": \"2020-12-21T13:20:09.286253Z\", \"end_time\": \"2020-12-21T13:20:59.967247Z\", \"created_time\": \"2020-12-21T13:19:56.255305Z\", \"created_time_dt\": \"2020-12-21T13:19:56.255305Z\", \"duration\": \"0:01:03\", \"iteration\": \"24\", \"goal\": \"accuracy_max\", \"run_name\": \"SparseNormalizer, LightGBM\", \"run_properties\": \"<azureml.automl.runtime.shared.model_wrappers.SparseNormalizer object at 0x7f13e0b8c2b0\", \"primary_metric\": 0.80034391, \"best_metric\": 0.80224033}, {\"run_id\": \"AutoML_830bd105-83b1-4a29-97f8-2458b6cd4c04_25\", \"run_number\": 30, \"metric\": null, \"status\": \"Completed\", \"run_type\": \"azureml.scriptrun\", \"training_percent\": \"100\", \"start_time\": \"2020-12-21T13:20:15.931683Z\", \"end_time\": \"2020-12-21T13:20:58.008869Z\", \"created_time\": \"2020-12-21T13:20:03.667339Z\", \"created_time_dt\": \"2020-12-21T13:20:03.667339Z\", \"duration\": \"0:00:54\", \"iteration\": \"25\", \"goal\": \"accuracy_max\", \"run_name\": \"MaxAbsScaler, LightGBM\", \"run_properties\": \"copy=True\", \"primary_metric\": 0.73567999, \"best_metric\": 0.80224033}, {\"run_id\": \"AutoML_830bd105-83b1-4a29-97f8-2458b6cd4c04_26\", \"run_number\": 31, \"metric\": null, \"status\": \"Completed\", \"run_type\": \"azureml.scriptrun\", \"training_percent\": \"100\", \"start_time\": \"2020-12-21T13:20:15.808405Z\", \"end_time\": \"2020-12-21T13:20:57.880691Z\", \"created_time\": \"2020-12-21T13:20:03.674483Z\", \"created_time_dt\": \"2020-12-21T13:20:03.674483Z\", \"duration\": \"0:00:54\", \"iteration\": \"26\", \"goal\": \"accuracy_max\", \"run_name\": \"StandardScalerWrapper, XGBoostClassifier\", \"run_properties\": \"<azureml.automl.runtime.shared.model_wrappers.StandardScalerWrapper object at 0x7fdc900ab470\", \"primary_metric\": 0.79636261, \"best_metric\": 0.80224033}, {\"run_id\": \"AutoML_830bd105-83b1-4a29-97f8-2458b6cd4c04_27\", \"run_number\": 32, \"metric\": null, \"status\": \"Completed\", \"run_type\": \"azureml.scriptrun\", \"training_percent\": \"100\", \"start_time\": \"2020-12-21T13:21:10.791752Z\", \"end_time\": \"2020-12-21T13:22:08.703027Z\", \"created_time\": \"2020-12-21T13:20:52.422794Z\", \"created_time_dt\": \"2020-12-21T13:20:52.422794Z\", \"duration\": \"0:01:16\", \"iteration\": \"27\", \"goal\": \"accuracy_max\", \"run_name\": \"MinMaxScaler, LightGBM\", \"run_properties\": \"copy=True, feature_range=(0, 1\", \"primary_metric\": 0.78213733, \"best_metric\": 0.80224033}, {\"run_id\": \"AutoML_830bd105-83b1-4a29-97f8-2458b6cd4c04_28\", \"run_number\": 33, \"metric\": null, \"status\": \"Completed\", \"run_type\": \"azureml.scriptrun\", \"training_percent\": \"100\", \"start_time\": \"2020-12-21T13:21:17.577798Z\", \"end_time\": \"2020-12-21T13:22:00.547091Z\", \"created_time\": \"2020-12-21T13:21:03.585629Z\", \"created_time_dt\": \"2020-12-21T13:21:03.585629Z\", \"duration\": \"0:00:56\", \"iteration\": \"28\", \"goal\": \"accuracy_max\", \"run_name\": \"MinMaxScaler, LightGBM\", \"run_properties\": \"copy=True, feature_range=(0, 1\", \"primary_metric\": 0.79541528, \"best_metric\": 0.80224033}, {\"run_id\": \"AutoML_830bd105-83b1-4a29-97f8-2458b6cd4c04_29\", \"run_number\": 34, \"metric\": null, \"status\": \"Completed\", \"run_type\": \"azureml.scriptrun\", \"training_percent\": \"100\", \"start_time\": \"2020-12-21T13:21:14.703938Z\", \"end_time\": \"2020-12-21T13:21:59.35896Z\", \"created_time\": \"2020-12-21T13:21:03.599959Z\", \"created_time_dt\": \"2020-12-21T13:21:03.599959Z\", \"duration\": \"0:00:55\", \"iteration\": \"29\", \"goal\": \"accuracy_max\", \"run_name\": \"StandardScalerWrapper, RandomForest\", \"run_properties\": \"<azureml.automl.runtime.shared.model_wrappers.StandardScalerWrapper object at 0x7fa200e6d9b0\", \"primary_metric\": 0.72165575, \"best_metric\": 0.80224033}, {\"run_id\": \"AutoML_830bd105-83b1-4a29-97f8-2458b6cd4c04_30\", \"run_number\": 35, \"metric\": null, \"status\": \"Completed\", \"run_type\": \"azureml.scriptrun\", \"training_percent\": \"100\", \"start_time\": \"2020-12-21T13:21:16.107321Z\", \"end_time\": \"2020-12-21T13:22:01.853608Z\", \"created_time\": \"2020-12-21T13:21:03.718205Z\", \"created_time_dt\": \"2020-12-21T13:21:03.718205Z\", \"duration\": \"0:00:58\", \"iteration\": \"30\", \"goal\": \"accuracy_max\", \"run_name\": \"StandardScalerWrapper, ExtremeRandomTrees\", \"run_properties\": \"<azureml.automl.runtime.shared.model_wrappers.StandardScalerWrapper object at 0x7f620dd8e160\", \"primary_metric\": 0.7264002, \"best_metric\": 0.80224033}, {\"run_id\": \"AutoML_830bd105-83b1-4a29-97f8-2458b6cd4c04_31\", \"run_number\": 36, \"metric\": null, \"status\": \"Completed\", \"run_type\": \"azureml.scriptrun\", \"training_percent\": \"100\", \"start_time\": \"2020-12-21T13:22:16.761684Z\", \"end_time\": \"2020-12-21T13:22:56.733787Z\", \"created_time\": \"2020-12-21T13:22:02.438339Z\", \"created_time_dt\": \"2020-12-21T13:22:02.438339Z\", \"duration\": \"0:00:54\", \"iteration\": \"31\", \"goal\": \"accuracy_max\", \"run_name\": \"MaxAbsScaler, LightGBM\", \"run_properties\": \"copy=True\", \"primary_metric\": 0.78536278, \"best_metric\": 0.80224033}, {\"run_id\": \"AutoML_830bd105-83b1-4a29-97f8-2458b6cd4c04_32\", \"run_number\": 37, \"metric\": null, \"status\": \"Completed\", \"run_type\": \"azureml.scriptrun\", \"training_percent\": \"100\", \"start_time\": \"2020-12-21T13:22:21.568842Z\", \"end_time\": \"2020-12-21T13:23:07.406603Z\", \"created_time\": \"2020-12-21T13:22:09.07834Z\", \"created_time_dt\": \"2020-12-21T13:22:09.07834Z\", \"duration\": \"0:00:58\", \"iteration\": \"32\", \"goal\": \"accuracy_max\", \"run_name\": \"StandardScalerWrapper, XGBoostClassifier\", \"run_properties\": \"<azureml.automl.runtime.shared.model_wrappers.StandardScalerWrapper object at 0x7f767ccd1ef0\", \"primary_metric\": 0.79655333, \"best_metric\": 0.80224033}, {\"run_id\": \"AutoML_830bd105-83b1-4a29-97f8-2458b6cd4c04_33\", \"run_number\": 38, \"metric\": null, \"status\": \"Canceled\", \"run_type\": \"azureml.scriptrun\", \"training_percent\": \"100\", \"start_time\": \"2020-12-21T13:22:21.247654Z\", \"end_time\": \"2020-12-21T13:23:15.697657Z\", \"created_time\": \"2020-12-21T13:22:09.084585Z\", \"created_time_dt\": \"2020-12-21T13:22:09.084585Z\", \"duration\": \"0:01:06\", \"iteration\": \"33\", \"goal\": \"accuracy_max\", \"run_name\": \"StandardScalerWrapper, XGBoostClassifier\", \"run_properties\": \"<azureml.automl.runtime.shared.model_wrappers.StandardScalerWrapper object at 0x7f97efc356d8\", \"primary_metric\": 0.79617566, \"best_metric\": 0.80224033}, {\"run_id\": \"AutoML_830bd105-83b1-4a29-97f8-2458b6cd4c04_34\", \"run_number\": 39, \"metric\": null, \"status\": \"Canceled\", \"run_type\": \"azureml.scriptrun\", \"training_percent\": \"100\", \"start_time\": \"2020-12-21T13:22:28.657538Z\", \"end_time\": \"2020-12-21T13:23:14.325469Z\", \"created_time\": \"2020-12-21T13:22:14.847321Z\", \"created_time_dt\": \"2020-12-21T13:22:14.847321Z\", \"duration\": \"0:00:59\", \"iteration\": \"34\", \"goal\": \"accuracy_max\", \"run_name\": \"MaxAbsScaler, LightGBM\", \"run_properties\": \"copy=True\", \"primary_metric\": 0.79219109, \"best_metric\": 0.80224033}, {\"run_id\": \"AutoML_830bd105-83b1-4a29-97f8-2458b6cd4c04_35\", \"run_number\": 40, \"metric\": null, \"status\": \"Canceled\", \"run_type\": \"azureml.scriptrun\", \"training_percent\": \"100\", \"start_time\": \"2020-12-21T13:23:00.132603Z\", \"end_time\": \"2020-12-21T13:23:18.355529Z\", \"created_time\": \"2020-12-21T13:23:00.132603Z\", \"created_time_dt\": \"2020-12-21T13:23:00.132603Z\", \"duration\": \"0:00:18\", \"iteration\": \"35\", \"goal\": null, \"run_name\": \"Canceled\", \"run_properties\": null}, {\"run_id\": \"AutoML_830bd105-83b1-4a29-97f8-2458b6cd4c04_36\", \"run_number\": 41, \"metric\": null, \"status\": \"Completed\", \"run_type\": \"azureml.scriptrun\", \"training_percent\": \"100\", \"start_time\": \"2020-12-21T13:23:31.737288Z\", \"end_time\": \"2020-12-21T13:25:34.872603Z\", \"created_time\": \"2020-12-21T13:23:20.01742Z\", \"created_time_dt\": \"2020-12-21T13:23:20.01742Z\", \"duration\": \"0:02:14\", \"iteration\": \"36\", \"goal\": \"accuracy_max\", \"run_name\": \"VotingEnsemble\", \"run_properties\": \"classification_labels=None,\\n                              estimators=[('18',\\n                                           Pipeline(memory=None,\\n                                                    steps=[('minmaxscaler',\\n                                                            MinMaxScaler(copy=True,\\n                                                                         feature_range=(0,\\n                                                                                        1\", \"primary_metric\": 0.80793059, \"best_metric\": 0.80793059}, {\"run_id\": \"AutoML_830bd105-83b1-4a29-97f8-2458b6cd4c04_37\", \"run_number\": 42, \"metric\": null, \"status\": \"Completed\", \"run_type\": \"azureml.scriptrun\", \"training_percent\": \"100\", \"start_time\": \"2020-12-21T13:23:33.06586Z\", \"end_time\": \"2020-12-21T13:25:08.394592Z\", \"created_time\": \"2020-12-21T13:23:20.083651Z\", \"created_time_dt\": \"2020-12-21T13:23:20.083651Z\", \"duration\": \"0:01:48\", \"iteration\": \"37\", \"goal\": \"accuracy_max\", \"run_name\": \"StackEnsemble\", \"run_properties\": \"base_learners=[('18',\\n                                        Pipeline(memory=None,\\n                                                 steps=[('minmaxscaler',\\n                                                         MinMaxScaler(copy=True,\\n                                                                      feature_range=(0,\\n                                                                                     1\", \"primary_metric\": 0.80489612, \"best_metric\": 0.80793059}], \"children_metrics\": {\"categories\": [0], \"series\": {\"AUC_macro\": [{\"categories\": [\"0\", \"1\", \"2\", \"3\", \"4\", \"5\", \"6\", \"7\", \"8\", \"9\", \"10\", \"11\", \"12\", \"13\", \"14\", \"15\", \"16\", \"17\", \"18\", \"19\", \"20\", \"21\", \"22\", \"23\", \"24\", \"25\", \"26\", \"27\", \"28\", \"29\", \"30\", \"31\", \"32\", \"33\", \"34\", \"36\", \"37\"], \"mode\": \"markers\", \"name\": \"AUC_macro\", \"stepped\": false, \"type\": \"scatter\", \"data\": [0.8377155679840433, 0.8461704954080288, 0.8381896555846071, 0.8357174114223733, 0.846650456306911, 0.8296521244366942, 0.8108178932733535, 0.7467695447631822, 0.8331919778070646, 0.8337238166276629, 0.8348533962422703, 0.8413575181122674, 0.8457314970261937, 0.8333011667377314, 0.844284866208597, 0.84521967915032, 0.841510915449121, 0.8422740381576518, 0.848503823883559, 0.8289243443943407, 0.8409834024402537, 0.8381508523172629, 0.8403436164088556, 0.8405546055875632, 0.84661848785405, 0.796966315235479, 0.8453060521860811, 0.8448331123726343, 0.8467294167696453, 0.8324231238175751, 0.8301910826085457, 0.8436949771330182, 0.8444545753999869, 0.8427765439141115, 0.8425222513255528, 0.8502103781564495, 0.8501124233266532]}, {\"categories\": [\"0\", \"1\", \"2\", \"3\", \"4\", \"5\", \"6\", \"7\", \"8\", \"9\", \"10\", \"11\", \"12\", \"13\", \"14\", \"15\", \"16\", \"17\", \"18\", \"19\", \"20\", \"21\", \"22\", \"23\", \"24\", \"25\", \"26\", \"27\", \"28\", \"29\", \"30\", \"31\", \"32\", \"33\", \"34\", \"36\", \"37\"], \"mode\": \"lines\", \"name\": \"AUC_macro_max\", \"stepped\": true, \"type\": \"scatter\", \"data\": [0.8377155679840433, 0.8461704954080288, 0.8461704954080288, 0.8461704954080288, 0.846650456306911, 0.846650456306911, 0.846650456306911, 0.846650456306911, 0.846650456306911, 0.846650456306911, 0.846650456306911, 0.846650456306911, 0.846650456306911, 0.846650456306911, 0.846650456306911, 0.846650456306911, 0.846650456306911, 0.846650456306911, 0.848503823883559, 0.848503823883559, 0.848503823883559, 0.848503823883559, 0.848503823883559, 0.848503823883559, 0.848503823883559, 0.848503823883559, 0.848503823883559, 0.848503823883559, 0.848503823883559, 0.848503823883559, 0.848503823883559, 0.848503823883559, 0.848503823883559, 0.848503823883559, 0.848503823883559, 0.8502103781564495, 0.8502103781564495]}], \"matthews_correlation\": [{\"categories\": [\"0\", \"1\", \"2\", \"3\", \"4\", \"5\", \"6\", \"7\", \"8\", \"9\", \"10\", \"11\", \"12\", \"13\", \"14\", \"15\", \"16\", \"17\", \"18\", \"19\", \"20\", \"21\", \"22\", \"23\", \"24\", \"25\", \"26\", \"27\", \"28\", \"29\", \"30\", \"31\", \"32\", \"33\", \"34\", \"36\", \"37\"], \"mode\": \"markers\", \"name\": \"matthews_correlation\", \"stepped\": false, \"type\": \"scatter\", \"data\": [0.4380561778601248, 0.45082259886879833, 0.3835965046241157, 0.350620702092076, 0.48652747749455505, 0.4279232015964486, 0.40169241211016077, 0.2342899583876241, 0.42589764640901817, 0.3558081796815836, 0.371899590521206, 0.38418071103543644, 0.4674771899161111, 0.43097561285748087, 0.3942917513198102, 0.3956692337728294, 0.32479035606343576, 0.3870919467037953, 0.46003206789043344, 0.37422120351198923, 0.31423367231683, 0.43989982099368236, 0.3959987490706088, 0.3459113381475226, 0.44176250315675497, 0.0, 0.43583194227297095, 0.3552379435230474, 0.42248750526575807, 0.45267067793112936, 0.45874970251732844, 0.3703973508694612, 0.44489010958548586, 0.43929984275298267, 0.40491525180199794, 0.4770502008953533, 0.46934293395353305]}, {\"categories\": [\"0\", \"1\", \"2\", \"3\", \"4\", \"5\", \"6\", \"7\", \"8\", \"9\", \"10\", \"11\", \"12\", \"13\", \"14\", \"15\", \"16\", \"17\", \"18\", \"19\", \"20\", \"21\", \"22\", \"23\", \"24\", \"25\", \"26\", \"27\", \"28\", \"29\", \"30\", \"31\", \"32\", \"33\", \"34\", \"36\", \"37\"], \"mode\": \"lines\", \"name\": \"matthews_correlation_max\", \"stepped\": true, \"type\": \"scatter\", \"data\": [0.4380561778601248, 0.45082259886879833, 0.45082259886879833, 0.45082259886879833, 0.48652747749455505, 0.48652747749455505, 0.48652747749455505, 0.48652747749455505, 0.48652747749455505, 0.48652747749455505, 0.48652747749455505, 0.48652747749455505, 0.48652747749455505, 0.48652747749455505, 0.48652747749455505, 0.48652747749455505, 0.48652747749455505, 0.48652747749455505, 0.48652747749455505, 0.48652747749455505, 0.48652747749455505, 0.48652747749455505, 0.48652747749455505, 0.48652747749455505, 0.48652747749455505, 0.48652747749455505, 0.48652747749455505, 0.48652747749455505, 0.48652747749455505, 0.48652747749455505, 0.48652747749455505, 0.48652747749455505, 0.48652747749455505, 0.48652747749455505, 0.48652747749455505, 0.48652747749455505, 0.48652747749455505]}], \"AUC_weighted\": [{\"categories\": [\"0\", \"1\", \"2\", \"3\", \"4\", \"5\", \"6\", \"7\", \"8\", \"9\", \"10\", \"11\", \"12\", \"13\", \"14\", \"15\", \"16\", \"17\", \"18\", \"19\", \"20\", \"21\", \"22\", \"23\", \"24\", \"25\", \"26\", \"27\", \"28\", \"29\", \"30\", \"31\", \"32\", \"33\", \"34\", \"36\", \"37\"], \"mode\": \"markers\", \"name\": \"AUC_weighted\", \"stepped\": false, \"type\": \"scatter\", \"data\": [0.8377155679840433, 0.8461704954080288, 0.8381896555846071, 0.8357174114223733, 0.846650456306911, 0.8296521244366942, 0.8108178932733535, 0.7467695447631822, 0.8331919778070646, 0.8337238166276629, 0.8348533962422703, 0.8413575181122676, 0.8457314970261937, 0.8333011667377314, 0.8442848662085968, 0.84521967915032, 0.8415109154491212, 0.8422740381576518, 0.848503823883559, 0.8289243443943407, 0.8409834024402538, 0.8381508523172629, 0.8403436164088556, 0.8405546055875632, 0.84661848785405, 0.7969663152354791, 0.8453060521860812, 0.8448331123726344, 0.8467294167696455, 0.8324231238175751, 0.8301910826085457, 0.8436949771330182, 0.8444545753999869, 0.8427765439141116, 0.8425222513255528, 0.8502103781564496, 0.8501124233266532]}, {\"categories\": [\"0\", \"1\", \"2\", \"3\", \"4\", \"5\", \"6\", \"7\", \"8\", \"9\", \"10\", \"11\", \"12\", \"13\", \"14\", \"15\", \"16\", \"17\", \"18\", \"19\", \"20\", \"21\", \"22\", \"23\", \"24\", \"25\", \"26\", \"27\", \"28\", \"29\", \"30\", \"31\", \"32\", \"33\", \"34\", \"36\", \"37\"], \"mode\": \"lines\", \"name\": \"AUC_weighted_max\", \"stepped\": true, \"type\": \"scatter\", \"data\": [0.8377155679840433, 0.8461704954080288, 0.8461704954080288, 0.8461704954080288, 0.846650456306911, 0.846650456306911, 0.846650456306911, 0.846650456306911, 0.846650456306911, 0.846650456306911, 0.846650456306911, 0.846650456306911, 0.846650456306911, 0.846650456306911, 0.846650456306911, 0.846650456306911, 0.846650456306911, 0.846650456306911, 0.848503823883559, 0.848503823883559, 0.848503823883559, 0.848503823883559, 0.848503823883559, 0.848503823883559, 0.848503823883559, 0.848503823883559, 0.848503823883559, 0.848503823883559, 0.848503823883559, 0.848503823883559, 0.848503823883559, 0.848503823883559, 0.848503823883559, 0.848503823883559, 0.848503823883559, 0.8502103781564496, 0.8502103781564496]}], \"weighted_accuracy\": [{\"categories\": [\"0\", \"1\", \"2\", \"3\", \"4\", \"5\", \"6\", \"7\", \"8\", \"9\", \"10\", \"11\", \"12\", \"13\", \"14\", \"15\", \"16\", \"17\", \"18\", \"19\", \"20\", \"21\", \"22\", \"23\", \"24\", \"25\", \"26\", \"27\", \"28\", \"29\", \"30\", \"31\", \"32\", \"33\", \"34\", \"36\", \"37\"], \"mode\": \"markers\", \"name\": \"weighted_accuracy\", \"stepped\": false, \"type\": \"scatter\", \"data\": [0.849620062571438, 0.8557798099376557, 0.8735150766169347, 0.8777287536519838, 0.7486344238458905, 0.8392053317293662, 0.8447523604009733, 0.8508029329639598, 0.850261532726423, 0.8777197784734757, 0.8725524523835736, 0.8741723236439759, 0.8529667277153401, 0.8491120375684439, 0.8744751169298499, 0.8722497787498777, 0.8908044117355916, 0.8741972910129074, 0.8596435110948274, 0.8739954839579258, 0.8863777304809963, 0.8616298024077091, 0.8649612071466974, 0.8852448423215253, 0.8689164753404768, 0.8847229595018253, 0.8611667239947989, 0.8824116565366793, 0.8677401968877151, 0.7006851475288152, 0.706168866466504, 0.8793779843421226, 0.8545772147345602, 0.8573317622817633, 0.8727345969381781, 0.8637582505804096, 0.8609014463161556]}, {\"categories\": [\"0\", \"1\", \"2\", \"3\", \"4\", \"5\", \"6\", \"7\", \"8\", \"9\", \"10\", \"11\", \"12\", \"13\", \"14\", \"15\", \"16\", \"17\", \"18\", \"19\", \"20\", \"21\", \"22\", \"23\", \"24\", \"25\", \"26\", \"27\", \"28\", \"29\", \"30\", \"31\", \"32\", \"33\", \"34\", \"36\", \"37\"], \"mode\": \"lines\", \"name\": \"weighted_accuracy_max\", \"stepped\": true, \"type\": \"scatter\", \"data\": [0.849620062571438, 0.8557798099376557, 0.8735150766169347, 0.8777287536519838, 0.8777287536519838, 0.8777287536519838, 0.8777287536519838, 0.8777287536519838, 0.8777287536519838, 0.8777287536519838, 0.8777287536519838, 0.8777287536519838, 0.8777287536519838, 0.8777287536519838, 0.8777287536519838, 0.8777287536519838, 0.8908044117355916, 0.8908044117355916, 0.8908044117355916, 0.8908044117355916, 0.8908044117355916, 0.8908044117355916, 0.8908044117355916, 0.8908044117355916, 0.8908044117355916, 0.8908044117355916, 0.8908044117355916, 0.8908044117355916, 0.8908044117355916, 0.8908044117355916, 0.8908044117355916, 0.8908044117355916, 0.8908044117355916, 0.8908044117355916, 0.8908044117355916, 0.8908044117355916, 0.8908044117355916]}], \"accuracy\": [{\"categories\": [\"0\", \"1\", \"2\", \"3\", \"4\", \"5\", \"6\", \"7\", \"8\", \"9\", \"10\", \"11\", \"12\", \"13\", \"14\", \"15\", \"16\", \"17\", \"18\", \"19\", \"20\", \"21\", \"22\", \"23\", \"24\", \"25\", \"26\", \"27\", \"28\", \"29\", \"30\", \"31\", \"32\", \"33\", \"34\", \"36\", \"37\"], \"mode\": \"markers\", \"name\": \"accuracy\", \"stepped\": false, \"type\": \"scatter\", \"data\": [0.7931379194602165, 0.7984495012246077, 0.7866913047569731, 0.7810035593384955, 0.7569263177176353, 0.7863151411028868, 0.7819486233416718, 0.7470595073287752, 0.7901052100804815, 0.7815706983861952, 0.7838457965535862, 0.7872579405757041, 0.8014829654477958, 0.7910510289271109, 0.7899137314578997, 0.7897235109077396, 0.7756889582002923, 0.7882097981699576, 0.8022403250456556, 0.7847928734726372, 0.7734171310211976, 0.7974983984738072, 0.7876398913629303, 0.7806211053223006, 0.8003439066771943, 0.7356799906600705, 0.7963626106915022, 0.7821373342049259, 0.7954152821579666, 0.7216557541464811, 0.7264001968631727, 0.7853627802796647, 0.7965533344706309, 0.7961756611296383, 0.7921910941556497, 0.8079305866089765, 0.804896115927851]}, {\"categories\": [\"0\", \"1\", \"2\", \"3\", \"4\", \"5\", \"6\", \"7\", \"8\", \"9\", \"10\", \"11\", \"12\", \"13\", \"14\", \"15\", \"16\", \"17\", \"18\", \"19\", \"20\", \"21\", \"22\", \"23\", \"24\", \"25\", \"26\", \"27\", \"28\", \"29\", \"30\", \"31\", \"32\", \"33\", \"34\", \"36\", \"37\"], \"mode\": \"lines\", \"name\": \"accuracy_max\", \"stepped\": true, \"type\": \"scatter\", \"data\": [0.7931379194602165, 0.7984495012246077, 0.7984495012246077, 0.7984495012246077, 0.7984495012246077, 0.7984495012246077, 0.7984495012246077, 0.7984495012246077, 0.7984495012246077, 0.7984495012246077, 0.7984495012246077, 0.7984495012246077, 0.8014829654477958, 0.8014829654477958, 0.8014829654477958, 0.8014829654477958, 0.8014829654477958, 0.8014829654477958, 0.8022403250456556, 0.8022403250456556, 0.8022403250456556, 0.8022403250456556, 0.8022403250456556, 0.8022403250456556, 0.8022403250456556, 0.8022403250456556, 0.8022403250456556, 0.8022403250456556, 0.8022403250456556, 0.8022403250456556, 0.8022403250456556, 0.8022403250456556, 0.8022403250456556, 0.8022403250456556, 0.8022403250456556, 0.8079305866089765, 0.8079305866089765]}], \"recall_score_macro\": [{\"categories\": [\"0\", \"1\", \"2\", \"3\", \"4\", \"5\", \"6\", \"7\", \"8\", \"9\", \"10\", \"11\", \"12\", \"13\", \"14\", \"15\", \"16\", \"17\", \"18\", \"19\", \"20\", \"21\", \"22\", \"23\", \"24\", \"25\", \"26\", \"27\", \"28\", \"29\", \"30\", \"31\", \"32\", \"33\", \"34\", \"36\", \"37\"], \"mode\": \"markers\", \"name\": \"recall_score_macro\", \"stepped\": false, \"type\": \"scatter\", \"data\": [0.7039916949040528, 0.7082627817550782, 0.6498904077075832, 0.6276496121764967, 0.7704134454190005, 0.703147361657206, 0.6831695242809023, 0.5835979650597921, 0.695388389902906, 0.6296889498099227, 0.6440574317650919, 0.6501799107121353, 0.7204869357450524, 0.6995749208314397, 0.6564926184349895, 0.65950115446268, 0.5937458518058515, 0.6525157627470584, 0.7118611137889507, 0.6441713139238567, 0.5948657317524285, 0.696501723642406, 0.6657927419630043, 0.6150701316425057, 0.6923591852300935, 0.5, 0.6944173102909446, 0.6238004301570943, 0.6811263244324729, 0.7552871276191203, 0.7585895061064335, 0.6368127074855588, 0.7051197312348997, 0.6997468455228792, 0.6650941251022662, 0.720016786145175, 0.7168756560018194]}, {\"categories\": [\"0\", \"1\", \"2\", \"3\", \"4\", \"5\", \"6\", \"7\", \"8\", \"9\", \"10\", \"11\", \"12\", \"13\", \"14\", \"15\", \"16\", \"17\", \"18\", \"19\", \"20\", \"21\", \"22\", \"23\", \"24\", \"25\", \"26\", \"27\", \"28\", \"29\", \"30\", \"31\", \"32\", \"33\", \"34\", \"36\", \"37\"], \"mode\": \"lines\", \"name\": \"recall_score_macro_max\", \"stepped\": true, \"type\": \"scatter\", \"data\": [0.7039916949040528, 0.7082627817550782, 0.7082627817550782, 0.7082627817550782, 0.7704134454190005, 0.7704134454190005, 0.7704134454190005, 0.7704134454190005, 0.7704134454190005, 0.7704134454190005, 0.7704134454190005, 0.7704134454190005, 0.7704134454190005, 0.7704134454190005, 0.7704134454190005, 0.7704134454190005, 0.7704134454190005, 0.7704134454190005, 0.7704134454190005, 0.7704134454190005, 0.7704134454190005, 0.7704134454190005, 0.7704134454190005, 0.7704134454190005, 0.7704134454190005, 0.7704134454190005, 0.7704134454190005, 0.7704134454190005, 0.7704134454190005, 0.7704134454190005, 0.7704134454190005, 0.7704134454190005, 0.7704134454190005, 0.7704134454190005, 0.7704134454190005, 0.7704134454190005, 0.7704134454190005]}], \"recall_score_micro\": [{\"categories\": [\"0\", \"1\", \"2\", \"3\", \"4\", \"5\", \"6\", \"7\", \"8\", \"9\", \"10\", \"11\", \"12\", \"13\", \"14\", \"15\", \"16\", \"17\", \"18\", \"19\", \"20\", \"21\", \"22\", \"23\", \"24\", \"25\", \"26\", \"27\", \"28\", \"29\", \"30\", \"31\", \"32\", \"33\", \"34\", \"36\", \"37\"], \"mode\": \"markers\", \"name\": \"recall_score_micro\", \"stepped\": false, \"type\": \"scatter\", \"data\": [0.7931379194602165, 0.7984495012246077, 0.7866913047569731, 0.7810035593384955, 0.7569263177176353, 0.7863151411028868, 0.7819486233416718, 0.7470595073287752, 0.7901052100804815, 0.7815706983861952, 0.7838457965535862, 0.7872579405757041, 0.8014829654477958, 0.7910510289271109, 0.7899137314578997, 0.7897235109077396, 0.7756889582002923, 0.7882097981699576, 0.8022403250456556, 0.7847928734726372, 0.7734171310211976, 0.7974983984738072, 0.7876398913629303, 0.7806211053223006, 0.8003439066771943, 0.7356799906600705, 0.7963626106915022, 0.7821373342049259, 0.7954152821579666, 0.7216557541464811, 0.7264001968631727, 0.7853627802796647, 0.7965533344706309, 0.7961756611296383, 0.7921910941556497, 0.8079305866089765, 0.804896115927851]}, {\"categories\": [\"0\", \"1\", \"2\", \"3\", \"4\", \"5\", \"6\", \"7\", \"8\", \"9\", \"10\", \"11\", \"12\", \"13\", \"14\", \"15\", \"16\", \"17\", \"18\", \"19\", \"20\", \"21\", \"22\", \"23\", \"24\", \"25\", \"26\", \"27\", \"28\", \"29\", \"30\", \"31\", \"32\", \"33\", \"34\", \"36\", \"37\"], \"mode\": \"lines\", \"name\": \"recall_score_micro_max\", \"stepped\": true, \"type\": \"scatter\", \"data\": [0.7931379194602165, 0.7984495012246077, 0.7984495012246077, 0.7984495012246077, 0.7984495012246077, 0.7984495012246077, 0.7984495012246077, 0.7984495012246077, 0.7984495012246077, 0.7984495012246077, 0.7984495012246077, 0.7984495012246077, 0.8014829654477958, 0.8014829654477958, 0.8014829654477958, 0.8014829654477958, 0.8014829654477958, 0.8014829654477958, 0.8022403250456556, 0.8022403250456556, 0.8022403250456556, 0.8022403250456556, 0.8022403250456556, 0.8022403250456556, 0.8022403250456556, 0.8022403250456556, 0.8022403250456556, 0.8022403250456556, 0.8022403250456556, 0.8022403250456556, 0.8022403250456556, 0.8022403250456556, 0.8022403250456556, 0.8022403250456556, 0.8022403250456556, 0.8079305866089765, 0.8079305866089765]}], \"f1_score_weighted\": [{\"categories\": [\"0\", \"1\", \"2\", \"3\", \"4\", \"5\", \"6\", \"7\", \"8\", \"9\", \"10\", \"11\", \"12\", \"13\", \"14\", \"15\", \"16\", \"17\", \"18\", \"19\", \"20\", \"21\", \"22\", \"23\", \"24\", \"25\", \"26\", \"27\", \"28\", \"29\", \"30\", \"31\", \"32\", \"33\", \"34\", \"36\", \"37\"], \"mode\": \"markers\", \"name\": \"f1_score_weighted\", \"stepped\": false, \"type\": \"scatter\", \"data\": [0.7858593424354977, 0.7903463238162617, 0.7613785541950412, 0.7469461327664345, 0.7696310629324247, 0.7808351637285643, 0.7719547905756686, 0.7076335349847752, 0.781167890047388, 0.7490610641861031, 0.7572645133357919, 0.7620320827845593, 0.7959920941409347, 0.7830684852697473, 0.7664902562551452, 0.7677308082100941, 0.7233814536083679, 0.763501401310277, 0.7939874541774864, 0.7577396839991167, 0.7236855512946583, 0.7862070554792944, 0.7690649654619957, 0.7401496521953961, 0.7865783322898147, 0.6237731515680167, 0.784749392538325, 0.745866144155303, 0.7798971403948374, 0.7378912988903837, 0.7423080155046534, 0.7546584641216038, 0.7883852684351823, 0.7865207525308675, 0.7714239603591422, 0.80015449368721, 0.7970172542809174]}, {\"categories\": [\"0\", \"1\", \"2\", \"3\", \"4\", \"5\", \"6\", \"7\", \"8\", \"9\", \"10\", \"11\", \"12\", \"13\", \"14\", \"15\", \"16\", \"17\", \"18\", \"19\", \"20\", \"21\", \"22\", \"23\", \"24\", \"25\", \"26\", \"27\", \"28\", \"29\", \"30\", \"31\", \"32\", \"33\", \"34\", \"36\", \"37\"], \"mode\": \"lines\", \"name\": \"f1_score_weighted_max\", \"stepped\": true, \"type\": \"scatter\", \"data\": [0.7858593424354977, 0.7903463238162617, 0.7903463238162617, 0.7903463238162617, 0.7903463238162617, 0.7903463238162617, 0.7903463238162617, 0.7903463238162617, 0.7903463238162617, 0.7903463238162617, 0.7903463238162617, 0.7903463238162617, 0.7959920941409347, 0.7959920941409347, 0.7959920941409347, 0.7959920941409347, 0.7959920941409347, 0.7959920941409347, 0.7959920941409347, 0.7959920941409347, 0.7959920941409347, 0.7959920941409347, 0.7959920941409347, 0.7959920941409347, 0.7959920941409347, 0.7959920941409347, 0.7959920941409347, 0.7959920941409347, 0.7959920941409347, 0.7959920941409347, 0.7959920941409347, 0.7959920941409347, 0.7959920941409347, 0.7959920941409347, 0.7959920941409347, 0.80015449368721, 0.80015449368721]}], \"f1_score_micro\": [{\"categories\": [\"0\", \"1\", \"2\", \"3\", \"4\", \"5\", \"6\", \"7\", \"8\", \"9\", \"10\", \"11\", \"12\", \"13\", \"14\", \"15\", \"16\", \"17\", \"18\", \"19\", \"20\", \"21\", \"22\", \"23\", \"24\", \"25\", \"26\", \"27\", \"28\", \"29\", \"30\", \"31\", \"32\", \"33\", \"34\", \"36\", \"37\"], \"mode\": \"markers\", \"name\": \"f1_score_micro\", \"stepped\": false, \"type\": \"scatter\", \"data\": [0.7931379194602165, 0.7984495012246076, 0.7866913047569731, 0.7810035593384955, 0.7569263177176353, 0.7863151411028867, 0.781948623341672, 0.747059507328775, 0.7901052100804815, 0.7815706983861952, 0.7838457965535862, 0.7872579405757041, 0.8014829654477958, 0.7910510289271109, 0.7899137314578997, 0.7897235109077396, 0.7756889582002923, 0.7882097981699576, 0.8022403250456556, 0.7847928734726374, 0.7734171310211976, 0.7974983984738072, 0.7876398913629303, 0.7806211053223006, 0.8003439066771943, 0.7356799906600705, 0.7963626106915022, 0.7821373342049259, 0.7954152821579665, 0.7216557541464811, 0.7264001968631727, 0.7853627802796644, 0.7965533344706309, 0.7961756611296383, 0.7921910941556497, 0.8079305866089765, 0.804896115927851]}, {\"categories\": [\"0\", \"1\", \"2\", \"3\", \"4\", \"5\", \"6\", \"7\", \"8\", \"9\", \"10\", \"11\", \"12\", \"13\", \"14\", \"15\", \"16\", \"17\", \"18\", \"19\", \"20\", \"21\", \"22\", \"23\", \"24\", \"25\", \"26\", \"27\", \"28\", \"29\", \"30\", \"31\", \"32\", \"33\", \"34\", \"36\", \"37\"], \"mode\": \"lines\", \"name\": \"f1_score_micro_max\", \"stepped\": true, \"type\": \"scatter\", \"data\": [0.7931379194602165, 0.7984495012246076, 0.7984495012246076, 0.7984495012246076, 0.7984495012246076, 0.7984495012246076, 0.7984495012246076, 0.7984495012246076, 0.7984495012246076, 0.7984495012246076, 0.7984495012246076, 0.7984495012246076, 0.8014829654477958, 0.8014829654477958, 0.8014829654477958, 0.8014829654477958, 0.8014829654477958, 0.8014829654477958, 0.8022403250456556, 0.8022403250456556, 0.8022403250456556, 0.8022403250456556, 0.8022403250456556, 0.8022403250456556, 0.8022403250456556, 0.8022403250456556, 0.8022403250456556, 0.8022403250456556, 0.8022403250456556, 0.8022403250456556, 0.8022403250456556, 0.8022403250456556, 0.8022403250456556, 0.8022403250456556, 0.8022403250456556, 0.8079305866089765, 0.8079305866089765]}], \"AUC_micro\": [{\"categories\": [\"0\", \"1\", \"2\", \"3\", \"4\", \"5\", \"6\", \"7\", \"8\", \"9\", \"10\", \"11\", \"12\", \"13\", \"14\", \"15\", \"16\", \"17\", \"18\", \"19\", \"20\", \"21\", \"22\", \"23\", \"24\", \"25\", \"26\", \"27\", \"28\", \"29\", \"30\", \"31\", \"32\", \"33\", \"34\", \"36\", \"37\"], \"mode\": \"markers\", \"name\": \"AUC_micro\", \"stepped\": false, \"type\": \"scatter\", \"data\": [0.8839182146033231, 0.8894384141803767, 0.8822405061822564, 0.8781256330089601, 0.8422042749255608, 0.8779082988432034, 0.8667924366531299, 0.8327881913753206, 0.881129715580283, 0.8742025829073166, 0.8768102916722504, 0.8834028273771759, 0.888619996192816, 0.8804400291516249, 0.8845168624233984, 0.8855221177708674, 0.8736328535828026, 0.883796568828303, 0.8909166574235279, 0.8731366024296446, 0.8751535237060162, 0.884531574621818, 0.8845060291324864, 0.8759922072801098, 0.8898271978043919, 0.8510572261570536, 0.8885280551442503, 0.8814080183089418, 0.8888430742517187, 0.8188921036326473, 0.8109700490112176, 0.882491842894064, 0.8884734779602715, 0.8874970714825349, 0.8847312616948656, 0.8919249111097953, 0.8916711606007952]}, {\"categories\": [\"0\", \"1\", \"2\", \"3\", \"4\", \"5\", \"6\", \"7\", \"8\", \"9\", \"10\", \"11\", \"12\", \"13\", \"14\", \"15\", \"16\", \"17\", \"18\", \"19\", \"20\", \"21\", \"22\", \"23\", \"24\", \"25\", \"26\", \"27\", \"28\", \"29\", \"30\", \"31\", \"32\", \"33\", \"34\", \"36\", \"37\"], \"mode\": \"lines\", \"name\": \"AUC_micro_max\", \"stepped\": true, \"type\": \"scatter\", \"data\": [0.8839182146033231, 0.8894384141803767, 0.8894384141803767, 0.8894384141803767, 0.8894384141803767, 0.8894384141803767, 0.8894384141803767, 0.8894384141803767, 0.8894384141803767, 0.8894384141803767, 0.8894384141803767, 0.8894384141803767, 0.8894384141803767, 0.8894384141803767, 0.8894384141803767, 0.8894384141803767, 0.8894384141803767, 0.8894384141803767, 0.8909166574235279, 0.8909166574235279, 0.8909166574235279, 0.8909166574235279, 0.8909166574235279, 0.8909166574235279, 0.8909166574235279, 0.8909166574235279, 0.8909166574235279, 0.8909166574235279, 0.8909166574235279, 0.8909166574235279, 0.8909166574235279, 0.8909166574235279, 0.8909166574235279, 0.8909166574235279, 0.8909166574235279, 0.8919249111097953, 0.8919249111097953]}], \"balanced_accuracy\": [{\"categories\": [\"0\", \"1\", \"2\", \"3\", \"4\", \"5\", \"6\", \"7\", \"8\", \"9\", \"10\", \"11\", \"12\", \"13\", \"14\", \"15\", \"16\", \"17\", \"18\", \"19\", \"20\", \"21\", \"22\", \"23\", \"24\", \"25\", \"26\", \"27\", \"28\", \"29\", \"30\", \"31\", \"32\", \"33\", \"34\", \"36\", \"37\"], \"mode\": \"markers\", \"name\": \"balanced_accuracy\", \"stepped\": false, \"type\": \"scatter\", \"data\": [0.7039916949040528, 0.7082627817550782, 0.6498904077075832, 0.6276496121764967, 0.7704134454190005, 0.703147361657206, 0.6831695242809023, 0.5835979650597921, 0.695388389902906, 0.6296889498099227, 0.6440574317650919, 0.6501799107121353, 0.7204869357450524, 0.6995749208314397, 0.6564926184349895, 0.65950115446268, 0.5937458518058515, 0.6525157627470584, 0.7118611137889507, 0.6441713139238567, 0.5948657317524285, 0.696501723642406, 0.6657927419630043, 0.6150701316425057, 0.6923591852300935, 0.5, 0.6944173102909446, 0.6238004301570943, 0.6811263244324729, 0.7552871276191203, 0.7585895061064335, 0.6368127074855588, 0.7051197312348997, 0.6997468455228792, 0.6650941251022662, 0.720016786145175, 0.7168756560018194]}, {\"categories\": [\"0\", \"1\", \"2\", \"3\", \"4\", \"5\", \"6\", \"7\", \"8\", \"9\", \"10\", \"11\", \"12\", \"13\", \"14\", \"15\", \"16\", \"17\", \"18\", \"19\", \"20\", \"21\", \"22\", \"23\", \"24\", \"25\", \"26\", \"27\", \"28\", \"29\", \"30\", \"31\", \"32\", \"33\", \"34\", \"36\", \"37\"], \"mode\": \"lines\", \"name\": \"balanced_accuracy_max\", \"stepped\": true, \"type\": \"scatter\", \"data\": [0.7039916949040528, 0.7082627817550782, 0.7082627817550782, 0.7082627817550782, 0.7704134454190005, 0.7704134454190005, 0.7704134454190005, 0.7704134454190005, 0.7704134454190005, 0.7704134454190005, 0.7704134454190005, 0.7704134454190005, 0.7704134454190005, 0.7704134454190005, 0.7704134454190005, 0.7704134454190005, 0.7704134454190005, 0.7704134454190005, 0.7704134454190005, 0.7704134454190005, 0.7704134454190005, 0.7704134454190005, 0.7704134454190005, 0.7704134454190005, 0.7704134454190005, 0.7704134454190005, 0.7704134454190005, 0.7704134454190005, 0.7704134454190005, 0.7704134454190005, 0.7704134454190005, 0.7704134454190005, 0.7704134454190005, 0.7704134454190005, 0.7704134454190005, 0.7704134454190005, 0.7704134454190005]}], \"average_precision_score_weighted\": [{\"categories\": [\"0\", \"1\", \"2\", \"3\", \"4\", \"5\", \"6\", \"7\", \"8\", \"9\", \"10\", \"11\", \"12\", \"13\", \"14\", \"15\", \"16\", \"17\", \"18\", \"19\", \"20\", \"21\", \"22\", \"23\", \"24\", \"25\", \"26\", \"27\", \"28\", \"29\", \"30\", \"31\", \"32\", \"33\", \"34\", \"36\", \"37\"], \"mode\": \"markers\", \"name\": \"average_precision_score_weighted\", \"stepped\": false, \"type\": \"scatter\", \"data\": [0.8579127557924713, 0.8645406529438173, 0.8575022959058678, 0.8529471131828661, 0.8634944483518258, 0.8500113479380985, 0.8370797624942437, 0.7798365273867435, 0.8537534705795877, 0.8521911147752375, 0.8429300031502059, 0.8601654640861093, 0.8624273395618385, 0.8530490595629666, 0.86168583620901, 0.8628239099727025, 0.8576758557513445, 0.8610295210031447, 0.8656311260682076, 0.8488268494285987, 0.8593069173946221, 0.8558358489034338, 0.8581170165457047, 0.8578907013319851, 0.8652918756980031, 0.8227765093172305, 0.8624912890141541, 0.8625767845526704, 0.864158005222218, 0.8463251659486115, 0.8487748979076329, 0.8620236181631425, 0.8633223822517447, 0.8618757296583899, 0.8605178577647948, 0.8673749962038627, 0.8679235522279678]}, {\"categories\": [\"0\", \"1\", \"2\", \"3\", \"4\", \"5\", \"6\", \"7\", \"8\", \"9\", \"10\", \"11\", \"12\", \"13\", \"14\", \"15\", \"16\", \"17\", \"18\", \"19\", \"20\", \"21\", \"22\", \"23\", \"24\", \"25\", \"26\", \"27\", \"28\", \"29\", \"30\", \"31\", \"32\", \"33\", \"34\", \"36\", \"37\"], \"mode\": \"lines\", \"name\": \"average_precision_score_weighted_max\", \"stepped\": true, \"type\": \"scatter\", \"data\": [0.8579127557924713, 0.8645406529438173, 0.8645406529438173, 0.8645406529438173, 0.8645406529438173, 0.8645406529438173, 0.8645406529438173, 0.8645406529438173, 0.8645406529438173, 0.8645406529438173, 0.8645406529438173, 0.8645406529438173, 0.8645406529438173, 0.8645406529438173, 0.8645406529438173, 0.8645406529438173, 0.8645406529438173, 0.8645406529438173, 0.8656311260682076, 0.8656311260682076, 0.8656311260682076, 0.8656311260682076, 0.8656311260682076, 0.8656311260682076, 0.8656311260682076, 0.8656311260682076, 0.8656311260682076, 0.8656311260682076, 0.8656311260682076, 0.8656311260682076, 0.8656311260682076, 0.8656311260682076, 0.8656311260682076, 0.8656311260682076, 0.8656311260682076, 0.8673749962038627, 0.8679235522279678]}], \"precision_score_weighted\": [{\"categories\": [\"0\", \"1\", \"2\", \"3\", \"4\", \"5\", \"6\", \"7\", \"8\", \"9\", \"10\", \"11\", \"12\", \"13\", \"14\", \"15\", \"16\", \"17\", \"18\", \"19\", \"20\", \"21\", \"22\", \"23\", \"24\", \"25\", \"26\", \"27\", \"28\", \"29\", \"30\", \"31\", \"32\", \"33\", \"34\", \"36\", \"37\"], \"mode\": \"markers\", \"name\": \"precision_score_weighted\", \"stepped\": false, \"type\": \"scatter\", \"data\": [0.7839128253834872, 0.7897437180397502, 0.7747290779317515, 0.7676847223249467, 0.8103259174568785, 0.7794611779235077, 0.7710495083604558, 0.7170903055909097, 0.7801237250137393, 0.7681563555130987, 0.7698674469698893, 0.7746071407642606, 0.7957986817182234, 0.7817096938530687, 0.7772181817232047, 0.7765425304291377, 0.7793530490784775, 0.7751451480185318, 0.7933743358250602, 0.7712825322646761, 0.7689438413475482, 0.7874440555939073, 0.7737960080081904, 0.7728441628061162, 0.7893980175472993, 0.5415554212492691, 0.7854868921765722, 0.772391940410867, 0.7828218420450858, 0.8032007992955438, 0.8050642950444272, 0.7733177988080266, 0.7874002645044376, 0.7857527918698991, 0.7794233324743134, 0.8003522606727468, 0.7972777152958058]}, {\"categories\": [\"0\", \"1\", \"2\", \"3\", \"4\", \"5\", \"6\", \"7\", \"8\", \"9\", \"10\", \"11\", \"12\", \"13\", \"14\", \"15\", \"16\", \"17\", \"18\", \"19\", \"20\", \"21\", \"22\", \"23\", \"24\", \"25\", \"26\", \"27\", \"28\", \"29\", \"30\", \"31\", \"32\", \"33\", \"34\", \"36\", \"37\"], \"mode\": \"lines\", \"name\": \"precision_score_weighted_max\", \"stepped\": true, \"type\": \"scatter\", \"data\": [0.7839128253834872, 0.7897437180397502, 0.7897437180397502, 0.7897437180397502, 0.8103259174568785, 0.8103259174568785, 0.8103259174568785, 0.8103259174568785, 0.8103259174568785, 0.8103259174568785, 0.8103259174568785, 0.8103259174568785, 0.8103259174568785, 0.8103259174568785, 0.8103259174568785, 0.8103259174568785, 0.8103259174568785, 0.8103259174568785, 0.8103259174568785, 0.8103259174568785, 0.8103259174568785, 0.8103259174568785, 0.8103259174568785, 0.8103259174568785, 0.8103259174568785, 0.8103259174568785, 0.8103259174568785, 0.8103259174568785, 0.8103259174568785, 0.8103259174568785, 0.8103259174568785, 0.8103259174568785, 0.8103259174568785, 0.8103259174568785, 0.8103259174568785, 0.8103259174568785, 0.8103259174568785]}], \"average_precision_score_micro\": [{\"categories\": [\"0\", \"1\", \"2\", \"3\", \"4\", \"5\", \"6\", \"7\", \"8\", \"9\", \"10\", \"11\", \"12\", \"13\", \"14\", \"15\", \"16\", \"17\", \"18\", \"19\", \"20\", \"21\", \"22\", \"23\", \"24\", \"25\", \"26\", \"27\", \"28\", \"29\", \"30\", \"31\", \"32\", \"33\", \"34\", \"36\", \"37\"], \"mode\": \"markers\", \"name\": \"average_precision_score_micro\", \"stepped\": false, \"type\": \"scatter\", \"data\": [0.8860814622900566, 0.8916671356800298, 0.8845525169290447, 0.8798556926765178, 0.8462256396821732, 0.8798616282414047, 0.8672016829213194, 0.8271096548841783, 0.8827557819113971, 0.8771920080608625, 0.875688691460928, 0.8861748302247016, 0.8906463371671544, 0.8828310524795838, 0.8872206912979695, 0.8883099250699146, 0.8775851745552378, 0.8861978946072141, 0.8930514861862221, 0.8763348095227033, 0.8791294890710161, 0.8855016285254316, 0.8864219330353391, 0.8801020487559859, 0.8920650945152332, 0.8491750805660113, 0.8899428929029344, 0.8849361519313815, 0.8912114008442168, 0.8206524879703954, 0.8185938229499278, 0.8851568773732746, 0.890797697493072, 0.8899532830814837, 0.8866642222153772, 0.8940362198482502, 0.8938769063483153]}, {\"categories\": [\"0\", \"1\", \"2\", \"3\", \"4\", \"5\", \"6\", \"7\", \"8\", \"9\", \"10\", \"11\", \"12\", \"13\", \"14\", \"15\", \"16\", \"17\", \"18\", \"19\", \"20\", \"21\", \"22\", \"23\", \"24\", \"25\", \"26\", \"27\", \"28\", \"29\", \"30\", \"31\", \"32\", \"33\", \"34\", \"36\", \"37\"], \"mode\": \"lines\", \"name\": \"average_precision_score_micro_max\", \"stepped\": true, \"type\": \"scatter\", \"data\": [0.8860814622900566, 0.8916671356800298, 0.8916671356800298, 0.8916671356800298, 0.8916671356800298, 0.8916671356800298, 0.8916671356800298, 0.8916671356800298, 0.8916671356800298, 0.8916671356800298, 0.8916671356800298, 0.8916671356800298, 0.8916671356800298, 0.8916671356800298, 0.8916671356800298, 0.8916671356800298, 0.8916671356800298, 0.8916671356800298, 0.8930514861862221, 0.8930514861862221, 0.8930514861862221, 0.8930514861862221, 0.8930514861862221, 0.8930514861862221, 0.8930514861862221, 0.8930514861862221, 0.8930514861862221, 0.8930514861862221, 0.8930514861862221, 0.8930514861862221, 0.8930514861862221, 0.8930514861862221, 0.8930514861862221, 0.8930514861862221, 0.8930514861862221, 0.8940362198482502, 0.8940362198482502]}], \"log_loss\": [{\"categories\": [\"0\", \"1\", \"2\", \"3\", \"4\", \"5\", \"6\", \"7\", \"8\", \"9\", \"10\", \"11\", \"12\", \"13\", \"14\", \"15\", \"16\", \"17\", \"18\", \"19\", \"20\", \"21\", \"22\", \"23\", \"24\", \"25\", \"26\", \"27\", \"28\", \"29\", \"30\", \"31\", \"32\", \"33\", \"34\", \"36\", \"37\"], \"mode\": \"markers\", \"name\": \"log_loss\", \"stepped\": false, \"type\": \"scatter\", \"data\": [0.433278670391099, 0.4151032800727324, 0.43416333787830635, 0.44368103403051135, 0.4888990668515437, 0.44954267786919244, 0.523479290542801, 0.5050665857797059, 0.432859018601162, 0.44696934210919526, 0.5036657820988585, 0.4319995744664336, 0.41810491803870803, 0.4344811395763229, 0.4322781123753384, 0.43095068594864233, 0.4643468283013422, 0.4366817407960117, 0.41314567974476174, 0.4469377349719546, 0.4587341430339006, 0.42546413553058043, 0.43716140016454863, 0.45012750152199027, 0.4167889612725849, 0.5714518407993046, 0.4272102719539544, 0.44288906828822944, 0.4220339255387601, 0.515510949660498, 0.5240671362416789, 0.44036844355938387, 0.41801392148024874, 0.4202128276110108, 0.433419061775224, 0.41159178324906026, 0.4198065119566687]}, {\"categories\": [\"0\", \"1\", \"2\", \"3\", \"4\", \"5\", \"6\", \"7\", \"8\", \"9\", \"10\", \"11\", \"12\", \"13\", \"14\", \"15\", \"16\", \"17\", \"18\", \"19\", \"20\", \"21\", \"22\", \"23\", \"24\", \"25\", \"26\", \"27\", \"28\", \"29\", \"30\", \"31\", \"32\", \"33\", \"34\", \"36\", \"37\"], \"mode\": \"lines\", \"name\": \"log_loss_min\", \"stepped\": true, \"type\": \"scatter\", \"data\": [0.433278670391099, 0.4151032800727324, 0.4151032800727324, 0.4151032800727324, 0.4151032800727324, 0.4151032800727324, 0.4151032800727324, 0.4151032800727324, 0.4151032800727324, 0.4151032800727324, 0.4151032800727324, 0.4151032800727324, 0.4151032800727324, 0.4151032800727324, 0.4151032800727324, 0.4151032800727324, 0.4151032800727324, 0.4151032800727324, 0.41314567974476174, 0.41314567974476174, 0.41314567974476174, 0.41314567974476174, 0.41314567974476174, 0.41314567974476174, 0.41314567974476174, 0.41314567974476174, 0.41314567974476174, 0.41314567974476174, 0.41314567974476174, 0.41314567974476174, 0.41314567974476174, 0.41314567974476174, 0.41314567974476174, 0.41314567974476174, 0.41314567974476174, 0.41159178324906026, 0.41159178324906026]}], \"precision_score_micro\": [{\"categories\": [\"0\", \"1\", \"2\", \"3\", \"4\", \"5\", \"6\", \"7\", \"8\", \"9\", \"10\", \"11\", \"12\", \"13\", \"14\", \"15\", \"16\", \"17\", \"18\", \"19\", \"20\", \"21\", \"22\", \"23\", \"24\", \"25\", \"26\", \"27\", \"28\", \"29\", \"30\", \"31\", \"32\", \"33\", \"34\", \"36\", \"37\"], \"mode\": \"markers\", \"name\": \"precision_score_micro\", \"stepped\": false, \"type\": \"scatter\", \"data\": [0.7931379194602165, 0.7984495012246077, 0.7866913047569731, 0.7810035593384955, 0.7569263177176353, 0.7863151411028868, 0.7819486233416718, 0.7470595073287752, 0.7901052100804815, 0.7815706983861952, 0.7838457965535862, 0.7872579405757041, 0.8014829654477958, 0.7910510289271109, 0.7899137314578997, 0.7897235109077396, 0.7756889582002923, 0.7882097981699576, 0.8022403250456556, 0.7847928734726372, 0.7734171310211976, 0.7974983984738072, 0.7876398913629303, 0.7806211053223006, 0.8003439066771943, 0.7356799906600705, 0.7963626106915022, 0.7821373342049259, 0.7954152821579666, 0.7216557541464811, 0.7264001968631727, 0.7853627802796647, 0.7965533344706309, 0.7961756611296383, 0.7921910941556497, 0.8079305866089765, 0.804896115927851]}, {\"categories\": [\"0\", \"1\", \"2\", \"3\", \"4\", \"5\", \"6\", \"7\", \"8\", \"9\", \"10\", \"11\", \"12\", \"13\", \"14\", \"15\", \"16\", \"17\", \"18\", \"19\", \"20\", \"21\", \"22\", \"23\", \"24\", \"25\", \"26\", \"27\", \"28\", \"29\", \"30\", \"31\", \"32\", \"33\", \"34\", \"36\", \"37\"], \"mode\": \"lines\", \"name\": \"precision_score_micro_max\", \"stepped\": true, \"type\": \"scatter\", \"data\": [0.7931379194602165, 0.7984495012246077, 0.7984495012246077, 0.7984495012246077, 0.7984495012246077, 0.7984495012246077, 0.7984495012246077, 0.7984495012246077, 0.7984495012246077, 0.7984495012246077, 0.7984495012246077, 0.7984495012246077, 0.8014829654477958, 0.8014829654477958, 0.8014829654477958, 0.8014829654477958, 0.8014829654477958, 0.8014829654477958, 0.8022403250456556, 0.8022403250456556, 0.8022403250456556, 0.8022403250456556, 0.8022403250456556, 0.8022403250456556, 0.8022403250456556, 0.8022403250456556, 0.8022403250456556, 0.8022403250456556, 0.8022403250456556, 0.8022403250456556, 0.8022403250456556, 0.8022403250456556, 0.8022403250456556, 0.8022403250456556, 0.8022403250456556, 0.8079305866089765, 0.8079305866089765]}], \"average_precision_score_macro\": [{\"categories\": [\"0\", \"1\", \"2\", \"3\", \"4\", \"5\", \"6\", \"7\", \"8\", \"9\", \"10\", \"11\", \"12\", \"13\", \"14\", \"15\", \"16\", \"17\", \"18\", \"19\", \"20\", \"21\", \"22\", \"23\", \"24\", \"25\", \"26\", \"27\", \"28\", \"29\", \"30\", \"31\", \"32\", \"33\", \"34\", \"36\", \"37\"], \"mode\": \"markers\", \"name\": \"average_precision_score_macro\", \"stepped\": false, \"type\": \"scatter\", \"data\": [0.7887192925047197, 0.7980419692249539, 0.7877181805457971, 0.7814723870404569, 0.7950763572140293, 0.7770297992936727, 0.7620260983465769, 0.6861690054331706, 0.7834294548238887, 0.7797326132852717, 0.7650590856423098, 0.7911241530228842, 0.793860280749185, 0.7804007011427254, 0.7929144981742814, 0.7946609565096164, 0.7872294460016057, 0.792825357474997, 0.7990956281828625, 0.774917384978557, 0.7898956883803901, 0.7857663779993805, 0.7882269067371063, 0.787255772427888, 0.7991627573581356, 0.7457901959540886, 0.7953851948025478, 0.7942293037559477, 0.7966807126101296, 0.7695359243451945, 0.7738699333963971, 0.7943791743533163, 0.7960257349808594, 0.7937661039065914, 0.7922581607136349, 0.8016536782327258, 0.8027209086843667]}, {\"categories\": [\"0\", \"1\", \"2\", \"3\", \"4\", \"5\", \"6\", \"7\", \"8\", \"9\", \"10\", \"11\", \"12\", \"13\", \"14\", \"15\", \"16\", \"17\", \"18\", \"19\", \"20\", \"21\", \"22\", \"23\", \"24\", \"25\", \"26\", \"27\", \"28\", \"29\", \"30\", \"31\", \"32\", \"33\", \"34\", \"36\", \"37\"], \"mode\": \"lines\", \"name\": \"average_precision_score_macro_max\", \"stepped\": true, \"type\": \"scatter\", \"data\": [0.7887192925047197, 0.7980419692249539, 0.7980419692249539, 0.7980419692249539, 0.7980419692249539, 0.7980419692249539, 0.7980419692249539, 0.7980419692249539, 0.7980419692249539, 0.7980419692249539, 0.7980419692249539, 0.7980419692249539, 0.7980419692249539, 0.7980419692249539, 0.7980419692249539, 0.7980419692249539, 0.7980419692249539, 0.7980419692249539, 0.7990956281828625, 0.7990956281828625, 0.7990956281828625, 0.7990956281828625, 0.7990956281828625, 0.7990956281828625, 0.7991627573581356, 0.7991627573581356, 0.7991627573581356, 0.7991627573581356, 0.7991627573581356, 0.7991627573581356, 0.7991627573581356, 0.7991627573581356, 0.7991627573581356, 0.7991627573581356, 0.7991627573581356, 0.8016536782327258, 0.8027209086843667]}], \"recall_score_weighted\": [{\"categories\": [\"0\", \"1\", \"2\", \"3\", \"4\", \"5\", \"6\", \"7\", \"8\", \"9\", \"10\", \"11\", \"12\", \"13\", \"14\", \"15\", \"16\", \"17\", \"18\", \"19\", \"20\", \"21\", \"22\", \"23\", \"24\", \"25\", \"26\", \"27\", \"28\", \"29\", \"30\", \"31\", \"32\", \"33\", \"34\", \"36\", \"37\"], \"mode\": \"markers\", \"name\": \"recall_score_weighted\", \"stepped\": false, \"type\": \"scatter\", \"data\": [0.7931379194602165, 0.7984495012246077, 0.7866913047569731, 0.7810035593384955, 0.7569263177176353, 0.7863151411028868, 0.7819486233416718, 0.7470595073287752, 0.7901052100804815, 0.7815706983861952, 0.7838457965535862, 0.7872579405757041, 0.8014829654477958, 0.7910510289271109, 0.7899137314578997, 0.7897235109077396, 0.7756889582002923, 0.7882097981699576, 0.8022403250456556, 0.7847928734726372, 0.7734171310211976, 0.7974983984738072, 0.7876398913629303, 0.7806211053223006, 0.8003439066771943, 0.7356799906600705, 0.7963626106915022, 0.7821373342049259, 0.7954152821579666, 0.7216557541464811, 0.7264001968631727, 0.7853627802796647, 0.7965533344706309, 0.7961756611296383, 0.7921910941556497, 0.8079305866089765, 0.804896115927851]}, {\"categories\": [\"0\", \"1\", \"2\", \"3\", \"4\", \"5\", \"6\", \"7\", \"8\", \"9\", \"10\", \"11\", \"12\", \"13\", \"14\", \"15\", \"16\", \"17\", \"18\", \"19\", \"20\", \"21\", \"22\", \"23\", \"24\", \"25\", \"26\", \"27\", \"28\", \"29\", \"30\", \"31\", \"32\", \"33\", \"34\", \"36\", \"37\"], \"mode\": \"lines\", \"name\": \"recall_score_weighted_max\", \"stepped\": true, \"type\": \"scatter\", \"data\": [0.7931379194602165, 0.7984495012246077, 0.7984495012246077, 0.7984495012246077, 0.7984495012246077, 0.7984495012246077, 0.7984495012246077, 0.7984495012246077, 0.7984495012246077, 0.7984495012246077, 0.7984495012246077, 0.7984495012246077, 0.8014829654477958, 0.8014829654477958, 0.8014829654477958, 0.8014829654477958, 0.8014829654477958, 0.8014829654477958, 0.8022403250456556, 0.8022403250456556, 0.8022403250456556, 0.8022403250456556, 0.8022403250456556, 0.8022403250456556, 0.8022403250456556, 0.8022403250456556, 0.8022403250456556, 0.8022403250456556, 0.8022403250456556, 0.8022403250456556, 0.8022403250456556, 0.8022403250456556, 0.8022403250456556, 0.8022403250456556, 0.8022403250456556, 0.8079305866089765, 0.8079305866089765]}], \"f1_score_macro\": [{\"categories\": [\"0\", \"1\", \"2\", \"3\", \"4\", \"5\", \"6\", \"7\", \"8\", \"9\", \"10\", \"11\", \"12\", \"13\", \"14\", \"15\", \"16\", \"17\", \"18\", \"19\", \"20\", \"21\", \"22\", \"23\", \"24\", \"25\", \"26\", \"27\", \"28\", \"29\", \"30\", \"31\", \"32\", \"33\", \"34\", \"36\", \"37\"], \"mode\": \"markers\", \"name\": \"f1_score_macro\", \"stepped\": false, \"type\": \"scatter\", \"data\": [0.7156649971709851, 0.7207111817345059, 0.6675978006705651, 0.6405818271851498, 0.7258655274150255, 0.7114293461990967, 0.6951471853861165, 0.5861761068548592, 0.7079894789604915, 0.6452176385827414, 0.661221304606489, 0.6682317421104564, 0.7304632162697438, 0.7113277459905883, 0.675512575650359, 0.6782943796525941, 0.5966174465175129, 0.6705357272339738, 0.7252086481192345, 0.6614542529197822, 0.5986986615628526, 0.7120828107274259, 0.68326970790602, 0.6270778593150333, 0.7104045199671675, 0.423793414876062, 0.7101522857075725, 0.6382136738739029, 0.6995098424693876, 0.6966957267902584, 0.7010095982362651, 0.6539474542636664, 0.7179443712743109, 0.7140436868841922, 0.6841943641596293, 0.7335319447241133, 0.7295820089739813]}, {\"categories\": [\"0\", \"1\", \"2\", \"3\", \"4\", \"5\", \"6\", \"7\", \"8\", \"9\", \"10\", \"11\", \"12\", \"13\", \"14\", \"15\", \"16\", \"17\", \"18\", \"19\", \"20\", \"21\", \"22\", \"23\", \"24\", \"25\", \"26\", \"27\", \"28\", \"29\", \"30\", \"31\", \"32\", \"33\", \"34\", \"36\", \"37\"], \"mode\": \"lines\", \"name\": \"f1_score_macro_max\", \"stepped\": true, \"type\": \"scatter\", \"data\": [0.7156649971709851, 0.7207111817345059, 0.7207111817345059, 0.7207111817345059, 0.7258655274150255, 0.7258655274150255, 0.7258655274150255, 0.7258655274150255, 0.7258655274150255, 0.7258655274150255, 0.7258655274150255, 0.7258655274150255, 0.7304632162697438, 0.7304632162697438, 0.7304632162697438, 0.7304632162697438, 0.7304632162697438, 0.7304632162697438, 0.7304632162697438, 0.7304632162697438, 0.7304632162697438, 0.7304632162697438, 0.7304632162697438, 0.7304632162697438, 0.7304632162697438, 0.7304632162697438, 0.7304632162697438, 0.7304632162697438, 0.7304632162697438, 0.7304632162697438, 0.7304632162697438, 0.7304632162697438, 0.7304632162697438, 0.7304632162697438, 0.7304632162697438, 0.7335319447241133, 0.7335319447241133]}], \"precision_score_macro\": [{\"categories\": [\"0\", \"1\", \"2\", \"3\", \"4\", \"5\", \"6\", \"7\", \"8\", \"9\", \"10\", \"11\", \"12\", \"13\", \"14\", \"15\", \"16\", \"17\", \"18\", \"19\", \"20\", \"21\", \"22\", \"23\", \"24\", \"25\", \"26\", \"27\", \"28\", \"29\", \"30\", \"31\", \"32\", \"33\", \"34\", \"36\", \"37\"], \"mode\": \"markers\", \"name\": \"precision_score_macro\", \"stepped\": false, \"type\": \"scatter\", \"data\": [0.7352911121442626, 0.7443935193312383, 0.746537907610404, 0.7441055172666422, 0.7189684747206305, 0.7256650635884787, 0.7207043286991457, 0.66539578565166, 0.7324262351854138, 0.7443868829410595, 0.7405913404283854, 0.7464378502471606, 0.748254241072834, 0.7329596220260834, 0.7487754090521562, 0.74584420381416, 0.7820075579879692, 0.7465013506051564, 0.7500583523857138, 0.7435150380065416, 0.7609602124951752, 0.7467496540676735, 0.7369508767465478, 0.7605463643444682, 0.7540622554821604, 0.36783999533003525, 0.7446322510107637, 0.75521250831356, 0.7465915451718591, 0.7007795437534889, 0.7035587075367195, 0.751075486664746, 0.7414989712494789, 0.7417566506103305, 0.7487841526805086, 0.7590804459494404, 0.7545419194931674]}, {\"categories\": [\"0\", \"1\", \"2\", \"3\", \"4\", \"5\", \"6\", \"7\", \"8\", \"9\", \"10\", \"11\", \"12\", \"13\", \"14\", \"15\", \"16\", \"17\", \"18\", \"19\", \"20\", \"21\", \"22\", \"23\", \"24\", \"25\", \"26\", \"27\", \"28\", \"29\", \"30\", \"31\", \"32\", \"33\", \"34\", \"36\", \"37\"], \"mode\": \"lines\", \"name\": \"precision_score_macro_max\", \"stepped\": true, \"type\": \"scatter\", \"data\": [0.7352911121442626, 0.7443935193312383, 0.746537907610404, 0.746537907610404, 0.746537907610404, 0.746537907610404, 0.746537907610404, 0.746537907610404, 0.746537907610404, 0.746537907610404, 0.746537907610404, 0.746537907610404, 0.748254241072834, 0.748254241072834, 0.7487754090521562, 0.7487754090521562, 0.7820075579879692, 0.7820075579879692, 0.7820075579879692, 0.7820075579879692, 0.7820075579879692, 0.7820075579879692, 0.7820075579879692, 0.7820075579879692, 0.7820075579879692, 0.7820075579879692, 0.7820075579879692, 0.7820075579879692, 0.7820075579879692, 0.7820075579879692, 0.7820075579879692, 0.7820075579879692, 0.7820075579879692, 0.7820075579879692, 0.7820075579879692, 0.7820075579879692, 0.7820075579879692]}], \"norm_macro_recall\": [{\"categories\": [\"0\", \"1\", \"2\", \"3\", \"4\", \"5\", \"6\", \"7\", \"8\", \"9\", \"10\", \"11\", \"12\", \"13\", \"14\", \"15\", \"16\", \"17\", \"18\", \"19\", \"20\", \"21\", \"22\", \"23\", \"24\", \"25\", \"26\", \"27\", \"28\", \"29\", \"30\", \"31\", \"32\", \"33\", \"34\", \"36\", \"37\"], \"mode\": \"markers\", \"name\": \"norm_macro_recall\", \"stepped\": false, \"type\": \"scatter\", \"data\": [0.4079833898081056, 0.4165255635101566, 0.2997808154151664, 0.2552992243529934, 0.5408268908380008, 0.40629472331441213, 0.36633904856180466, 0.16719593011958409, 0.390776779805812, 0.25937789961984536, 0.2881148635301837, 0.3003598214242705, 0.4409738714901051, 0.3991498416628794, 0.31298523686997887, 0.3190023089253602, 0.18749170361170292, 0.30503152549411655, 0.4237222275779014, 0.2883426278477135, 0.18973146350485695, 0.39300344728481207, 0.33158548392600845, 0.2301402632850115, 0.3847183704601874, 0.0, 0.3888346205818891, 0.24760086031418868, 0.36225264886494596, 0.5105742552382405, 0.517179012212867, 0.27362541497111764, 0.41023946246979914, 0.3994936910457584, 0.33018825020453246, 0.4400335722903498, 0.43375131200363887]}, {\"categories\": [\"0\", \"1\", \"2\", \"3\", \"4\", \"5\", \"6\", \"7\", \"8\", \"9\", \"10\", \"11\", \"12\", \"13\", \"14\", \"15\", \"16\", \"17\", \"18\", \"19\", \"20\", \"21\", \"22\", \"23\", \"24\", \"25\", \"26\", \"27\", \"28\", \"29\", \"30\", \"31\", \"32\", \"33\", \"34\", \"36\", \"37\"], \"mode\": \"lines\", \"name\": \"norm_macro_recall_max\", \"stepped\": true, \"type\": \"scatter\", \"data\": [0.4079833898081056, 0.4165255635101566, 0.4165255635101566, 0.4165255635101566, 0.5408268908380008, 0.5408268908380008, 0.5408268908380008, 0.5408268908380008, 0.5408268908380008, 0.5408268908380008, 0.5408268908380008, 0.5408268908380008, 0.5408268908380008, 0.5408268908380008, 0.5408268908380008, 0.5408268908380008, 0.5408268908380008, 0.5408268908380008, 0.5408268908380008, 0.5408268908380008, 0.5408268908380008, 0.5408268908380008, 0.5408268908380008, 0.5408268908380008, 0.5408268908380008, 0.5408268908380008, 0.5408268908380008, 0.5408268908380008, 0.5408268908380008, 0.5408268908380008, 0.5408268908380008, 0.5408268908380008, 0.5408268908380008, 0.5408268908380008, 0.5408268908380008, 0.5408268908380008, 0.5408268908380008]}]}, \"metricName\": null, \"primaryMetricName\": \"accuracy\", \"showLegend\": false}, \"run_metrics\": [{\"name\": \"experiment_status\", \"run_id\": \"AutoML_830bd105-83b1-4a29-97f8-2458b6cd4c04\", \"categories\": [0, 1, 2, 3, 4, 5], \"series\": [{\"data\": [\"DatasetEvaluation\", \"FeaturesGeneration\", \"DatasetFeaturization\", \"DatasetFeaturizationCompleted\", \"DatasetCrossValidationSplit\", \"ModelSelection\"]}]}, {\"name\": \"experiment_status_description\", \"run_id\": \"AutoML_830bd105-83b1-4a29-97f8-2458b6cd4c04\", \"categories\": [0, 1, 2, 3, 4, 5], \"series\": [{\"data\": [\"Gathering dataset statistics.\", \"Generating features for the dataset.\", \"Beginning to fit featurizers and featurize the dataset.\", \"Completed fit featurizers and featurizing the dataset.\", \"Generating individually featurized CV splits.\", \"Beginning model selection.\"]}]}, {\"name\": \"accuracy\", \"run_id\": \"AutoML_830bd105-83b1-4a29-97f8-2458b6cd4c04\", \"categories\": [0], \"series\": [{\"data\": [0.8079305866089765]}]}, {\"name\": \"log_loss\", \"run_id\": \"AutoML_830bd105-83b1-4a29-97f8-2458b6cd4c04\", \"categories\": [0], \"series\": [{\"data\": [0.41159178324906026]}]}, {\"name\": \"f1_score_micro\", \"run_id\": \"AutoML_830bd105-83b1-4a29-97f8-2458b6cd4c04\", \"categories\": [0], \"series\": [{\"data\": [0.8079305866089765]}]}, {\"name\": \"matthews_correlation\", \"run_id\": \"AutoML_830bd105-83b1-4a29-97f8-2458b6cd4c04\", \"categories\": [0], \"series\": [{\"data\": [0.4770502008953533]}]}, {\"name\": \"recall_score_macro\", \"run_id\": \"AutoML_830bd105-83b1-4a29-97f8-2458b6cd4c04\", \"categories\": [0], \"series\": [{\"data\": [0.720016786145175]}]}, {\"name\": \"recall_score_micro\", \"run_id\": \"AutoML_830bd105-83b1-4a29-97f8-2458b6cd4c04\", \"categories\": [0], \"series\": [{\"data\": [0.8079305866089765]}]}, {\"name\": \"balanced_accuracy\", \"run_id\": \"AutoML_830bd105-83b1-4a29-97f8-2458b6cd4c04\", \"categories\": [0], \"series\": [{\"data\": [0.720016786145175]}]}, {\"name\": \"average_precision_score_micro\", \"run_id\": \"AutoML_830bd105-83b1-4a29-97f8-2458b6cd4c04\", \"categories\": [0], \"series\": [{\"data\": [0.8940362198482502]}]}, {\"name\": \"average_precision_score_macro\", \"run_id\": \"AutoML_830bd105-83b1-4a29-97f8-2458b6cd4c04\", \"categories\": [0], \"series\": [{\"data\": [0.8016536782327258]}]}, {\"name\": \"precision_score_weighted\", \"run_id\": \"AutoML_830bd105-83b1-4a29-97f8-2458b6cd4c04\", \"categories\": [0], \"series\": [{\"data\": [0.8003522606727468]}]}, {\"name\": \"AUC_macro\", \"run_id\": \"AutoML_830bd105-83b1-4a29-97f8-2458b6cd4c04\", \"categories\": [0], \"series\": [{\"data\": [0.8502103781564495]}]}, {\"name\": \"norm_macro_recall\", \"run_id\": \"AutoML_830bd105-83b1-4a29-97f8-2458b6cd4c04\", \"categories\": [0], \"series\": [{\"data\": [0.4400335722903498]}]}, {\"name\": \"AUC_weighted\", \"run_id\": \"AutoML_830bd105-83b1-4a29-97f8-2458b6cd4c04\", \"categories\": [0], \"series\": [{\"data\": [0.8502103781564496]}]}, {\"name\": \"AUC_micro\", \"run_id\": \"AutoML_830bd105-83b1-4a29-97f8-2458b6cd4c04\", \"categories\": [0], \"series\": [{\"data\": [0.8919249111097953]}]}, {\"name\": \"precision_score_macro\", \"run_id\": \"AutoML_830bd105-83b1-4a29-97f8-2458b6cd4c04\", \"categories\": [0], \"series\": [{\"data\": [0.7590804459494404]}]}, {\"name\": \"average_precision_score_weighted\", \"run_id\": \"AutoML_830bd105-83b1-4a29-97f8-2458b6cd4c04\", \"categories\": [0], \"series\": [{\"data\": [0.8673749962038627]}]}, {\"name\": \"f1_score_weighted\", \"run_id\": \"AutoML_830bd105-83b1-4a29-97f8-2458b6cd4c04\", \"categories\": [0], \"series\": [{\"data\": [0.80015449368721]}]}, {\"name\": \"recall_score_weighted\", \"run_id\": \"AutoML_830bd105-83b1-4a29-97f8-2458b6cd4c04\", \"categories\": [0], \"series\": [{\"data\": [0.8079305866089765]}]}, {\"name\": \"weighted_accuracy\", \"run_id\": \"AutoML_830bd105-83b1-4a29-97f8-2458b6cd4c04\", \"categories\": [0], \"series\": [{\"data\": [0.8637582505804096]}]}, {\"name\": \"f1_score_macro\", \"run_id\": \"AutoML_830bd105-83b1-4a29-97f8-2458b6cd4c04\", \"categories\": [0], \"series\": [{\"data\": [0.7335319447241133]}]}, {\"name\": \"precision_score_micro\", \"run_id\": \"AutoML_830bd105-83b1-4a29-97f8-2458b6cd4c04\", \"categories\": [0], \"series\": [{\"data\": [0.8079305866089765]}]}], \"run_logs\": \"\\nRun is completed.\", \"graph\": {}, \"widget_settings\": {\"childWidgetDisplay\": \"popup\", \"send_telemetry\": false, \"log_level\": \"INFO\", \"sdk_version\": \"1.19.0\"}, \"loading\": false}"
     },
     "metadata": {},
     "output_type": "display_data"
    },
    {
     "name": "stdout",
     "output_type": "stream",
     "text": [
      "\n",
      "\n",
      "****************************************************************************************************\n",
      "DATA GUARDRAILS: \n",
      "\n",
      "TYPE:         Class balancing detection\n",
      "STATUS:       PASSED\n",
      "DESCRIPTION:  Your inputs were analyzed, and all classes are balanced in your training data.\n",
      "              Learn more about imbalanced data: https://aka.ms/AutomatedMLImbalancedData\n",
      "\n",
      "****************************************************************************************************\n",
      "\n",
      "TYPE:         Missing feature values imputation\n",
      "STATUS:       PASSED\n",
      "DESCRIPTION:  No feature missing values were detected in the training data.\n",
      "              Learn more about missing value imputation: https://aka.ms/AutomatedMLFeaturization\n",
      "\n",
      "****************************************************************************************************\n",
      "\n",
      "TYPE:         High cardinality feature detection\n",
      "STATUS:       PASSED\n",
      "DESCRIPTION:  Your inputs were analyzed, and no high cardinality features were detected.\n",
      "              Learn more about high cardinality feature handling: https://aka.ms/AutomatedMLFeaturization\n",
      "\n",
      "****************************************************************************************************\n",
      "\n",
      "****************************************************************************************************\n",
      "ITERATION: The iteration being evaluated.\n",
      "PIPELINE: A summary description of the pipeline being evaluated.\n",
      "DURATION: Time taken for the current iteration.\n",
      "METRIC: The result of computing score on the fitted pipeline.\n",
      "BEST: The best observed score thus far.\n",
      "****************************************************************************************************\n",
      "\n",
      " ITERATION   PIPELINE                                       DURATION      METRIC      BEST\n",
      "         0   MaxAbsScaler LightGBM                          0:00:46       0.7931    0.7931\n",
      "         1   MaxAbsScaler XGBoostClassifier                 0:00:50       0.7984    0.7984\n",
      "         2   MinMaxScaler RandomForest                      0:03:26       0.7867    0.7984\n",
      "         3   MinMaxScaler RandomForest                      0:00:57       0.7810    0.7984\n",
      "         4   MinMaxScaler RandomForest                      0:03:16       0.7569    0.7984\n",
      "         5   StandardScalerWrapper XGBoostClassifier        0:03:27       0.7863    0.7984\n",
      "         6   TruncatedSVDWrapper XGBoostClassifier          0:01:40       0.7819    0.7984\n",
      "         7   MinMaxScaler SVM                               0:02:09       0.7471    0.7984\n",
      "        10   StandardScalerWrapper XGBoostClassifier        0:00:47       0.7838    0.7984\n",
      "        11   StandardScalerWrapper RandomForest             0:00:52       0.7873    0.7984\n",
      "         8   SparseNormalizer XGBoostClassifier             0:00:53       0.7901    0.7984\n",
      "         9   RobustScaler RandomForest                      0:00:49       0.7816    0.7984\n",
      "        12   MinMaxScaler LogisticRegression                0:00:43       0.8015    0.8015\n",
      "        13   SparseNormalizer XGBoostClassifier             0:00:51       0.7911    0.8015\n",
      "        14   StandardScalerWrapper LightGBM                 0:00:45       0.7899    0.8015\n",
      "        15   MinMaxScaler LightGBM                          0:00:54       0.7897    0.8015\n",
      "        16   MaxAbsScaler LightGBM                          0:00:49       0.7757    0.8015\n",
      "        17   StandardScalerWrapper LightGBM                 0:00:51       0.7882    0.8015\n",
      "        18   MinMaxScaler LightGBM                          0:00:41       0.8022    0.8022\n",
      "        19   RobustScaler RandomForest                      0:00:58       0.7848    0.8022\n",
      "        20   MaxAbsScaler LightGBM                          0:00:46       0.7734    0.8022\n",
      "        21   StandardScalerWrapper LightGBM                 0:00:49       0.7975    0.8022\n",
      "        22   SparseNormalizer XGBoostClassifier             0:00:42       0.7876    0.8022\n",
      "        23   StandardScalerWrapper RandomForest             0:00:46       0.7806    0.8022\n",
      "        24   SparseNormalizer LightGBM                      0:00:51       0.8003    0.8022\n",
      "        25   MaxAbsScaler LightGBM                          0:00:42       0.7357    0.8022\n",
      "        26   StandardScalerWrapper XGBoostClassifier        0:00:42       0.7964    0.8022\n",
      "        27   MinMaxScaler LightGBM                          0:00:58       0.7821    0.8022\n",
      "        28   MinMaxScaler LightGBM                          0:00:43       0.7954    0.8022\n",
      "        29   StandardScalerWrapper RandomForest             0:00:45       0.7217    0.8022\n",
      "        30   StandardScalerWrapper ExtremeRandomTrees       0:00:46       0.7264    0.8022\n",
      "        31   MaxAbsScaler LightGBM                          0:00:40       0.7854    0.8022\n",
      "        32   StandardScalerWrapper XGBoostClassifier        0:00:46       0.7966    0.8022\n",
      "        33   StandardScalerWrapper XGBoostClassifier        0:00:54       0.7962    0.8022\n",
      "        34   MaxAbsScaler LightGBM                          0:00:46       0.7922    0.8022\n",
      "        35                                                  0:00:18          nan    0.8022\n",
      "        36    VotingEnsemble                                0:02:03       0.8079    0.8079\n",
      "        37    StackEnsemble                                 0:01:35       0.8049    0.8079\n"
     ]
    },
    {
     "data": {
      "text/plain": [
       "{'runId': 'AutoML_830bd105-83b1-4a29-97f8-2458b6cd4c04',\n",
       " 'target': 'automl-cluster',\n",
       " 'status': 'Completed',\n",
       " 'startTimeUtc': '2020-12-21T13:00:54.754284Z',\n",
       " 'endTimeUtc': '2020-12-21T13:25:42.470351Z',\n",
       " 'properties': {'num_iterations': '1000',\n",
       "  'training_type': 'TrainFull',\n",
       "  'acquisition_function': 'EI',\n",
       "  'primary_metric': 'accuracy',\n",
       "  'train_split': '0',\n",
       "  'acquisition_parameter': '0',\n",
       "  'num_cross_validation': '7',\n",
       "  'target': 'automl-cluster',\n",
       "  'AMLSettingsJsonString': '{\"path\":null,\"name\":\"capstone-project\",\"subscription_id\":\"1b944a9b-fdae-4f97-aeb1-b7eea0beac53\",\"resource_group\":\"aml-quickstarts-131255\",\"workspace_name\":\"quick-starts-ws-131255\",\"region\":\"southcentralus\",\"compute_target\":\"automl-cluster\",\"spark_service\":null,\"azure_service\":\"remote\",\"many_models\":false,\"pipeline_fetch_max_batch_size\":1,\"iterations\":1000,\"primary_metric\":\"accuracy\",\"task_type\":\"classification\",\"data_script\":null,\"validation_size\":0.0,\"n_cross_validations\":7,\"y_min\":null,\"y_max\":null,\"num_classes\":null,\"featurization\":\"auto\",\"_ignore_package_version_incompatibilities\":false,\"is_timeseries\":false,\"max_cores_per_iteration\":1,\"max_concurrent_iterations\":4,\"iteration_timeout_minutes\":null,\"mem_in_mb\":null,\"enforce_time_on_windows\":false,\"experiment_timeout_minutes\":25,\"experiment_exit_score\":null,\"whitelist_models\":null,\"blacklist_algos\":[\"TensorFlowLinearClassifier\",\"TensorFlowDNN\"],\"supported_models\":[\"DecisionTree\",\"SVM\",\"XGBoostClassifier\",\"LightGBM\",\"LinearSVM\",\"GradientBoosting\",\"MultinomialNaiveBayes\",\"RandomForest\",\"KNN\",\"ExtremeRandomTrees\",\"LogisticRegression\",\"SGD\",\"TensorFlowDNN\",\"TensorFlowLinearClassifier\",\"BernoulliNaiveBayes\",\"AveragedPerceptronClassifier\"],\"auto_blacklist\":true,\"blacklist_samples_reached\":false,\"exclude_nan_labels\":true,\"verbosity\":20,\"_debug_log\":\"azureml_automl.log\",\"show_warnings\":false,\"model_explainability\":true,\"service_url\":null,\"sdk_url\":null,\"sdk_packages\":null,\"enable_onnx_compatible_models\":false,\"enable_split_onnx_featurizer_estimator_models\":false,\"vm_type\":\"STANDARD_D2_V2\",\"telemetry_verbosity\":20,\"send_telemetry\":true,\"enable_dnn\":false,\"scenario\":\"SDK-1.13.0\",\"environment_label\":null,\"force_text_dnn\":false,\"enable_feature_sweeping\":true,\"enable_early_stopping\":true,\"early_stopping_n_iters\":10,\"metrics\":null,\"enable_ensembling\":true,\"enable_stack_ensembling\":true,\"ensemble_iterations\":15,\"enable_tf\":false,\"enable_subsampling\":null,\"subsample_seed\":null,\"enable_nimbusml\":false,\"enable_streaming\":false,\"force_streaming\":false,\"track_child_runs\":true,\"allowed_private_models\":[],\"label_column_name\":\"Churn\",\"weight_column_name\":null,\"cv_split_column_names\":null,\"enable_local_managed\":false,\"_local_managed_run_id\":null,\"cost_mode\":1,\"lag_length\":0,\"metric_operation\":\"maximize\",\"preprocess\":true}',\n",
       "  'DataPrepJsonString': '{\\\\\"training_data\\\\\": \\\\\"{\\\\\\\\\\\\\"blocks\\\\\\\\\\\\\": [{\\\\\\\\\\\\\"id\\\\\\\\\\\\\": \\\\\\\\\\\\\"06e57bd6-9e08-44a6-b0a4-0ed1edefca75\\\\\\\\\\\\\", \\\\\\\\\\\\\"type\\\\\\\\\\\\\": \\\\\\\\\\\\\"Microsoft.DPrep.GetDatastoreFilesBlock\\\\\\\\\\\\\", \\\\\\\\\\\\\"arguments\\\\\\\\\\\\\": {\\\\\\\\\\\\\"datastores\\\\\\\\\\\\\": [{\\\\\\\\\\\\\"datastoreName\\\\\\\\\\\\\": \\\\\\\\\\\\\"workspaceblobstore\\\\\\\\\\\\\", \\\\\\\\\\\\\"path\\\\\\\\\\\\\": \\\\\\\\\\\\\"./customer_churn_traindata.csv\\\\\\\\\\\\\", \\\\\\\\\\\\\"resourceGroup\\\\\\\\\\\\\": \\\\\\\\\\\\\"aml-quickstarts-131255\\\\\\\\\\\\\", \\\\\\\\\\\\\"subscription\\\\\\\\\\\\\": \\\\\\\\\\\\\"1b944a9b-fdae-4f97-aeb1-b7eea0beac53\\\\\\\\\\\\\", \\\\\\\\\\\\\"workspaceName\\\\\\\\\\\\\": \\\\\\\\\\\\\"quick-starts-ws-131255\\\\\\\\\\\\\"}]}, \\\\\\\\\\\\\"localData\\\\\\\\\\\\\": {}, \\\\\\\\\\\\\"isEnabled\\\\\\\\\\\\\": true, \\\\\\\\\\\\\"name\\\\\\\\\\\\\": null, \\\\\\\\\\\\\"annotation\\\\\\\\\\\\\": null}, {\\\\\\\\\\\\\"id\\\\\\\\\\\\\": \\\\\\\\\\\\\"17f87506-81c9-41ce-94ac-1333e85841d5\\\\\\\\\\\\\", \\\\\\\\\\\\\"type\\\\\\\\\\\\\": \\\\\\\\\\\\\"Microsoft.DPrep.ParseDelimitedBlock\\\\\\\\\\\\\", \\\\\\\\\\\\\"arguments\\\\\\\\\\\\\": {\\\\\\\\\\\\\"columnHeadersMode\\\\\\\\\\\\\": 3, \\\\\\\\\\\\\"fileEncoding\\\\\\\\\\\\\": 0, \\\\\\\\\\\\\"handleQuotedLineBreaks\\\\\\\\\\\\\": false, \\\\\\\\\\\\\"preview\\\\\\\\\\\\\": false, \\\\\\\\\\\\\"separator\\\\\\\\\\\\\": \\\\\\\\\\\\\",\\\\\\\\\\\\\", \\\\\\\\\\\\\"skipRows\\\\\\\\\\\\\": 0, \\\\\\\\\\\\\"skipRowsMode\\\\\\\\\\\\\": 0}, \\\\\\\\\\\\\"localData\\\\\\\\\\\\\": {}, \\\\\\\\\\\\\"isEnabled\\\\\\\\\\\\\": true, \\\\\\\\\\\\\"name\\\\\\\\\\\\\": null, \\\\\\\\\\\\\"annotation\\\\\\\\\\\\\": null}, {\\\\\\\\\\\\\"id\\\\\\\\\\\\\": \\\\\\\\\\\\\"3e86f52c-f82b-4b5a-89bd-4a97c2f3831e\\\\\\\\\\\\\", \\\\\\\\\\\\\"type\\\\\\\\\\\\\": \\\\\\\\\\\\\"Microsoft.DPrep.DropColumnsBlock\\\\\\\\\\\\\", \\\\\\\\\\\\\"arguments\\\\\\\\\\\\\": {\\\\\\\\\\\\\"columns\\\\\\\\\\\\\": {\\\\\\\\\\\\\"type\\\\\\\\\\\\\": 0, \\\\\\\\\\\\\"details\\\\\\\\\\\\\": {\\\\\\\\\\\\\"selectedColumns\\\\\\\\\\\\\": [\\\\\\\\\\\\\"Path\\\\\\\\\\\\\"]}}}, \\\\\\\\\\\\\"localData\\\\\\\\\\\\\": {}, \\\\\\\\\\\\\"isEnabled\\\\\\\\\\\\\": true, \\\\\\\\\\\\\"name\\\\\\\\\\\\\": null, \\\\\\\\\\\\\"annotation\\\\\\\\\\\\\": null}, {\\\\\\\\\\\\\"id\\\\\\\\\\\\\": \\\\\\\\\\\\\"a0eac3f5-4de7-47cc-a0a0-88131a450c86\\\\\\\\\\\\\", \\\\\\\\\\\\\"type\\\\\\\\\\\\\": \\\\\\\\\\\\\"Microsoft.DPrep.SetColumnTypesBlock\\\\\\\\\\\\\", \\\\\\\\\\\\\"arguments\\\\\\\\\\\\\": {\\\\\\\\\\\\\"columnConversion\\\\\\\\\\\\\": [{\\\\\\\\\\\\\"column\\\\\\\\\\\\\": {\\\\\\\\\\\\\"type\\\\\\\\\\\\\": 2, \\\\\\\\\\\\\"details\\\\\\\\\\\\\": {\\\\\\\\\\\\\"selectedColumn\\\\\\\\\\\\\": \\\\\\\\\\\\\"Column1\\\\\\\\\\\\\"}}, \\\\\\\\\\\\\"typeProperty\\\\\\\\\\\\\": 2}, {\\\\\\\\\\\\\"column\\\\\\\\\\\\\": {\\\\\\\\\\\\\"type\\\\\\\\\\\\\": 2, \\\\\\\\\\\\\"details\\\\\\\\\\\\\": {\\\\\\\\\\\\\"selectedColumn\\\\\\\\\\\\\": \\\\\\\\\\\\\"SeniorCitizen\\\\\\\\\\\\\"}}, \\\\\\\\\\\\\"typeProperty\\\\\\\\\\\\\": 2}, {\\\\\\\\\\\\\"column\\\\\\\\\\\\\": {\\\\\\\\\\\\\"type\\\\\\\\\\\\\": 2, \\\\\\\\\\\\\"details\\\\\\\\\\\\\": {\\\\\\\\\\\\\"selectedColumn\\\\\\\\\\\\\": \\\\\\\\\\\\\"Partner\\\\\\\\\\\\\"}}, \\\\\\\\\\\\\"typeProperty\\\\\\\\\\\\\": 2}, {\\\\\\\\\\\\\"column\\\\\\\\\\\\\": {\\\\\\\\\\\\\"type\\\\\\\\\\\\\": 2, \\\\\\\\\\\\\"details\\\\\\\\\\\\\": {\\\\\\\\\\\\\"selectedColumn\\\\\\\\\\\\\": \\\\\\\\\\\\\"Dependents\\\\\\\\\\\\\"}}, \\\\\\\\\\\\\"typeProperty\\\\\\\\\\\\\": 2}, {\\\\\\\\\\\\\"column\\\\\\\\\\\\\": {\\\\\\\\\\\\\"type\\\\\\\\\\\\\": 2, \\\\\\\\\\\\\"details\\\\\\\\\\\\\": {\\\\\\\\\\\\\"selectedColumn\\\\\\\\\\\\\": \\\\\\\\\\\\\"tenure\\\\\\\\\\\\\"}}, \\\\\\\\\\\\\"typeProperty\\\\\\\\\\\\\": 2}, {\\\\\\\\\\\\\"column\\\\\\\\\\\\\": {\\\\\\\\\\\\\"type\\\\\\\\\\\\\": 2, \\\\\\\\\\\\\"details\\\\\\\\\\\\\": {\\\\\\\\\\\\\"selectedColumn\\\\\\\\\\\\\": \\\\\\\\\\\\\"PhoneService\\\\\\\\\\\\\"}}, \\\\\\\\\\\\\"typeProperty\\\\\\\\\\\\\": 2}, {\\\\\\\\\\\\\"column\\\\\\\\\\\\\": {\\\\\\\\\\\\\"type\\\\\\\\\\\\\": 2, \\\\\\\\\\\\\"details\\\\\\\\\\\\\": {\\\\\\\\\\\\\"selectedColumn\\\\\\\\\\\\\": \\\\\\\\\\\\\"MultipleLines\\\\\\\\\\\\\"}}, \\\\\\\\\\\\\"typeProperty\\\\\\\\\\\\\": 2}, {\\\\\\\\\\\\\"column\\\\\\\\\\\\\": {\\\\\\\\\\\\\"type\\\\\\\\\\\\\": 2, \\\\\\\\\\\\\"details\\\\\\\\\\\\\": {\\\\\\\\\\\\\"selectedColumn\\\\\\\\\\\\\": \\\\\\\\\\\\\"OnlineSecurity\\\\\\\\\\\\\"}}, \\\\\\\\\\\\\"typeProperty\\\\\\\\\\\\\": 2}, {\\\\\\\\\\\\\"column\\\\\\\\\\\\\": {\\\\\\\\\\\\\"type\\\\\\\\\\\\\": 2, \\\\\\\\\\\\\"details\\\\\\\\\\\\\": {\\\\\\\\\\\\\"selectedColumn\\\\\\\\\\\\\": \\\\\\\\\\\\\"OnlineBackup\\\\\\\\\\\\\"}}, \\\\\\\\\\\\\"typeProperty\\\\\\\\\\\\\": 2}, {\\\\\\\\\\\\\"column\\\\\\\\\\\\\": {\\\\\\\\\\\\\"type\\\\\\\\\\\\\": 2, \\\\\\\\\\\\\"details\\\\\\\\\\\\\": {\\\\\\\\\\\\\"selectedColumn\\\\\\\\\\\\\": \\\\\\\\\\\\\"DeviceProtection\\\\\\\\\\\\\"}}, \\\\\\\\\\\\\"typeProperty\\\\\\\\\\\\\": 2}, {\\\\\\\\\\\\\"column\\\\\\\\\\\\\": {\\\\\\\\\\\\\"type\\\\\\\\\\\\\": 2, \\\\\\\\\\\\\"details\\\\\\\\\\\\\": {\\\\\\\\\\\\\"selectedColumn\\\\\\\\\\\\\": \\\\\\\\\\\\\"TechSupport\\\\\\\\\\\\\"}}, \\\\\\\\\\\\\"typeProperty\\\\\\\\\\\\\": 2}, {\\\\\\\\\\\\\"column\\\\\\\\\\\\\": {\\\\\\\\\\\\\"type\\\\\\\\\\\\\": 2, \\\\\\\\\\\\\"details\\\\\\\\\\\\\": {\\\\\\\\\\\\\"selectedColumn\\\\\\\\\\\\\": \\\\\\\\\\\\\"StreamingTV\\\\\\\\\\\\\"}}, \\\\\\\\\\\\\"typeProperty\\\\\\\\\\\\\": 2}, {\\\\\\\\\\\\\"column\\\\\\\\\\\\\": {\\\\\\\\\\\\\"type\\\\\\\\\\\\\": 2, \\\\\\\\\\\\\"details\\\\\\\\\\\\\": {\\\\\\\\\\\\\"selectedColumn\\\\\\\\\\\\\": \\\\\\\\\\\\\"StreamingMovies\\\\\\\\\\\\\"}}, \\\\\\\\\\\\\"typeProperty\\\\\\\\\\\\\": 2}, {\\\\\\\\\\\\\"column\\\\\\\\\\\\\": {\\\\\\\\\\\\\"type\\\\\\\\\\\\\": 2, \\\\\\\\\\\\\"details\\\\\\\\\\\\\": {\\\\\\\\\\\\\"selectedColumn\\\\\\\\\\\\\": \\\\\\\\\\\\\"PaperlessBilling\\\\\\\\\\\\\"}}, \\\\\\\\\\\\\"typeProperty\\\\\\\\\\\\\": 2}, {\\\\\\\\\\\\\"column\\\\\\\\\\\\\": {\\\\\\\\\\\\\"type\\\\\\\\\\\\\": 2, \\\\\\\\\\\\\"details\\\\\\\\\\\\\": {\\\\\\\\\\\\\"selectedColumn\\\\\\\\\\\\\": \\\\\\\\\\\\\"MonthlyCharges\\\\\\\\\\\\\"}}, \\\\\\\\\\\\\"typeProperty\\\\\\\\\\\\\": 3}, {\\\\\\\\\\\\\"column\\\\\\\\\\\\\": {\\\\\\\\\\\\\"type\\\\\\\\\\\\\": 2, \\\\\\\\\\\\\"details\\\\\\\\\\\\\": {\\\\\\\\\\\\\"selectedColumn\\\\\\\\\\\\\": \\\\\\\\\\\\\"TotalCharges\\\\\\\\\\\\\"}}, \\\\\\\\\\\\\"typeProperty\\\\\\\\\\\\\": 3}, {\\\\\\\\\\\\\"column\\\\\\\\\\\\\": {\\\\\\\\\\\\\"type\\\\\\\\\\\\\": 2, \\\\\\\\\\\\\"details\\\\\\\\\\\\\": {\\\\\\\\\\\\\"selectedColumn\\\\\\\\\\\\\": \\\\\\\\\\\\\"gender_Male\\\\\\\\\\\\\"}}, \\\\\\\\\\\\\"typeProperty\\\\\\\\\\\\\": 2}, {\\\\\\\\\\\\\"column\\\\\\\\\\\\\": {\\\\\\\\\\\\\"type\\\\\\\\\\\\\": 2, \\\\\\\\\\\\\"details\\\\\\\\\\\\\": {\\\\\\\\\\\\\"selectedColumn\\\\\\\\\\\\\": \\\\\\\\\\\\\"InternetService_Fiber optic\\\\\\\\\\\\\"}}, \\\\\\\\\\\\\"typeProperty\\\\\\\\\\\\\": 2}, {\\\\\\\\\\\\\"column\\\\\\\\\\\\\": {\\\\\\\\\\\\\"type\\\\\\\\\\\\\": 2, \\\\\\\\\\\\\"details\\\\\\\\\\\\\": {\\\\\\\\\\\\\"selectedColumn\\\\\\\\\\\\\": \\\\\\\\\\\\\"InternetService_No\\\\\\\\\\\\\"}}, \\\\\\\\\\\\\"typeProperty\\\\\\\\\\\\\": 2}, {\\\\\\\\\\\\\"column\\\\\\\\\\\\\": {\\\\\\\\\\\\\"type\\\\\\\\\\\\\": 2, \\\\\\\\\\\\\"details\\\\\\\\\\\\\": {\\\\\\\\\\\\\"selectedColumn\\\\\\\\\\\\\": \\\\\\\\\\\\\"PaymentMethod_Bank transfer (automatic)\\\\\\\\\\\\\"}}, \\\\\\\\\\\\\"typeProperty\\\\\\\\\\\\\": 2}, {\\\\\\\\\\\\\"column\\\\\\\\\\\\\": {\\\\\\\\\\\\\"type\\\\\\\\\\\\\": 2, \\\\\\\\\\\\\"details\\\\\\\\\\\\\": {\\\\\\\\\\\\\"selectedColumn\\\\\\\\\\\\\": \\\\\\\\\\\\\"PaymentMethod_Credit card (automatic)\\\\\\\\\\\\\"}}, \\\\\\\\\\\\\"typeProperty\\\\\\\\\\\\\": 2}, {\\\\\\\\\\\\\"column\\\\\\\\\\\\\": {\\\\\\\\\\\\\"type\\\\\\\\\\\\\": 2, \\\\\\\\\\\\\"details\\\\\\\\\\\\\": {\\\\\\\\\\\\\"selectedColumn\\\\\\\\\\\\\": \\\\\\\\\\\\\"PaymentMethod_Electronic check\\\\\\\\\\\\\"}}, \\\\\\\\\\\\\"typeProperty\\\\\\\\\\\\\": 2}, {\\\\\\\\\\\\\"column\\\\\\\\\\\\\": {\\\\\\\\\\\\\"type\\\\\\\\\\\\\": 2, \\\\\\\\\\\\\"details\\\\\\\\\\\\\": {\\\\\\\\\\\\\"selectedColumn\\\\\\\\\\\\\": \\\\\\\\\\\\\"PaymentMethod_Mailed check\\\\\\\\\\\\\"}}, \\\\\\\\\\\\\"typeProperty\\\\\\\\\\\\\": 2}, {\\\\\\\\\\\\\"column\\\\\\\\\\\\\": {\\\\\\\\\\\\\"type\\\\\\\\\\\\\": 2, \\\\\\\\\\\\\"details\\\\\\\\\\\\\": {\\\\\\\\\\\\\"selectedColumn\\\\\\\\\\\\\": \\\\\\\\\\\\\"Contract_One year\\\\\\\\\\\\\"}}, \\\\\\\\\\\\\"typeProperty\\\\\\\\\\\\\": 2}, {\\\\\\\\\\\\\"column\\\\\\\\\\\\\": {\\\\\\\\\\\\\"type\\\\\\\\\\\\\": 2, \\\\\\\\\\\\\"details\\\\\\\\\\\\\": {\\\\\\\\\\\\\"selectedColumn\\\\\\\\\\\\\": \\\\\\\\\\\\\"Contract_Two year\\\\\\\\\\\\\"}}, \\\\\\\\\\\\\"typeProperty\\\\\\\\\\\\\": 2}, {\\\\\\\\\\\\\"column\\\\\\\\\\\\\": {\\\\\\\\\\\\\"type\\\\\\\\\\\\\": 2, \\\\\\\\\\\\\"details\\\\\\\\\\\\\": {\\\\\\\\\\\\\"selectedColumn\\\\\\\\\\\\\": \\\\\\\\\\\\\"Churn\\\\\\\\\\\\\"}}, \\\\\\\\\\\\\"typeProperty\\\\\\\\\\\\\": 2}]}, \\\\\\\\\\\\\"localData\\\\\\\\\\\\\": {}, \\\\\\\\\\\\\"isEnabled\\\\\\\\\\\\\": true, \\\\\\\\\\\\\"name\\\\\\\\\\\\\": null, \\\\\\\\\\\\\"annotation\\\\\\\\\\\\\": null}, {\\\\\\\\\\\\\"id\\\\\\\\\\\\\": \\\\\\\\\\\\\"201e0403-896e-4e43-85c6-7791c1df3a26\\\\\\\\\\\\\", \\\\\\\\\\\\\"type\\\\\\\\\\\\\": \\\\\\\\\\\\\"Microsoft.DPrep.DropColumnsBlock\\\\\\\\\\\\\", \\\\\\\\\\\\\"arguments\\\\\\\\\\\\\": {\\\\\\\\\\\\\"columns\\\\\\\\\\\\\": {\\\\\\\\\\\\\"type\\\\\\\\\\\\\": 0, \\\\\\\\\\\\\"details\\\\\\\\\\\\\": {\\\\\\\\\\\\\"selectedColumns\\\\\\\\\\\\\": [\\\\\\\\\\\\\"Column1\\\\\\\\\\\\\"]}}}, \\\\\\\\\\\\\"localData\\\\\\\\\\\\\": {}, \\\\\\\\\\\\\"isEnabled\\\\\\\\\\\\\": true, \\\\\\\\\\\\\"name\\\\\\\\\\\\\": null, \\\\\\\\\\\\\"annotation\\\\\\\\\\\\\": null}], \\\\\\\\\\\\\"inspectors\\\\\\\\\\\\\": [], \\\\\\\\\\\\\"meta\\\\\\\\\\\\\": {\\\\\\\\\\\\\"savedDatasetId\\\\\\\\\\\\\": \\\\\\\\\\\\\"71040a24-478d-4afa-9723-26306e63acf3\\\\\\\\\\\\\", \\\\\\\\\\\\\"datasetType\\\\\\\\\\\\\": \\\\\\\\\\\\\"tabular\\\\\\\\\\\\\", \\\\\\\\\\\\\"subscriptionId\\\\\\\\\\\\\": \\\\\\\\\\\\\"1b944a9b-fdae-4f97-aeb1-b7eea0beac53\\\\\\\\\\\\\", \\\\\\\\\\\\\"workspaceId\\\\\\\\\\\\\": \\\\\\\\\\\\\"6751617e-3a90-44f5-a47f-e0e400e83f24\\\\\\\\\\\\\", \\\\\\\\\\\\\"workspaceLocation\\\\\\\\\\\\\": \\\\\\\\\\\\\"southcentralus\\\\\\\\\\\\\"}}\\\\\", \\\\\"activities\\\\\": 0}',\n",
       "  'EnableSubsampling': None,\n",
       "  'runTemplate': 'AutoML',\n",
       "  'azureml.runsource': 'automl',\n",
       "  'display_task_type': 'classification',\n",
       "  'dependencies_versions': '{\"azureml-widgets\": \"1.19.0\", \"azureml-train\": \"1.19.0\", \"azureml-train-restclients-hyperdrive\": \"1.19.0\", \"azureml-train-core\": \"1.19.0\", \"azureml-train-automl\": \"1.19.0\", \"azureml-train-automl-runtime\": \"1.19.0\", \"azureml-train-automl-client\": \"1.19.0\", \"azureml-tensorboard\": \"1.19.0\", \"azureml-telemetry\": \"1.19.0\", \"azureml-sdk\": \"1.19.0\", \"azureml-samples\": \"0+unknown\", \"azureml-pipeline\": \"1.19.0\", \"azureml-pipeline-steps\": \"1.19.0\", \"azureml-pipeline-core\": \"1.19.0\", \"azureml-opendatasets\": \"1.19.0\", \"azureml-model-management-sdk\": \"1.0.1b6.post1\", \"azureml-mlflow\": \"1.19.0\", \"azureml-interpret\": \"1.19.0\", \"azureml-explain-model\": \"1.19.0\", \"azureml-defaults\": \"1.19.0\", \"azureml-dataset-runtime\": \"1.19.0\", \"azureml-dataprep\": \"2.6.1\", \"azureml-dataprep-rslex\": \"1.4.0\", \"azureml-dataprep-native\": \"26.0.0\", \"azureml-datadrift\": \"1.19.0\", \"azureml-core\": \"1.19.0\", \"azureml-contrib-services\": \"1.19.0\", \"azureml-contrib-server\": \"1.19.0\", \"azureml-contrib-reinforcementlearning\": \"1.19.0\", \"azureml-contrib-pipeline-steps\": \"1.19.0\", \"azureml-contrib-notebook\": \"1.19.0\", \"azureml-contrib-interpret\": \"1.19.0\", \"azureml-contrib-gbdt\": \"1.19.0\", \"azureml-contrib-fairness\": \"1.19.0\", \"azureml-contrib-dataset\": \"1.19.0\", \"azureml-cli-common\": \"1.19.0\", \"azureml-automl-runtime\": \"1.19.0\", \"azureml-automl-core\": \"1.19.0\", \"azureml-accel-models\": \"1.19.0\"}',\n",
       "  '_aml_system_scenario_identification': 'Remote.Parent',\n",
       "  'ClientType': 'SDK',\n",
       "  'environment_cpu_name': 'AzureML-AutoML',\n",
       "  'environment_cpu_version': '49',\n",
       "  'environment_gpu_name': 'AzureML-AutoML-GPU',\n",
       "  'environment_gpu_version': '37',\n",
       "  'root_attribution': 'automl',\n",
       "  'attribution': 'AutoML',\n",
       "  'Orchestrator': 'AutoML',\n",
       "  'CancelUri': 'https://southcentralus.experiments.azureml.net/jasmine/v1.0/subscriptions/1b944a9b-fdae-4f97-aeb1-b7eea0beac53/resourceGroups/aml-quickstarts-131255/providers/Microsoft.MachineLearningServices/workspaces/quick-starts-ws-131255/experimentids/532eba26-00e7-4a9e-88a5-576788f7937f/cancel/AutoML_830bd105-83b1-4a29-97f8-2458b6cd4c04',\n",
       "  'ClientSdkVersion': '1.18.0.post1',\n",
       "  'snapshotId': '00000000-0000-0000-0000-000000000000',\n",
       "  'SetupRunId': 'AutoML_830bd105-83b1-4a29-97f8-2458b6cd4c04_setup',\n",
       "  'SetupRunContainerId': 'dcid.AutoML_830bd105-83b1-4a29-97f8-2458b6cd4c04_setup',\n",
       "  'FeaturizationRunJsonPath': 'featurizer_container.json',\n",
       "  'FeaturizationRunId': 'AutoML_830bd105-83b1-4a29-97f8-2458b6cd4c04_featurize',\n",
       "  'ProblemInfoJsonString': '{\"dataset_num_categorical\": 0, \"is_sparse\": false, \"subsampling\": false, \"dataset_classes\": 2, \"dataset_features\": 24, \"dataset_samples\": 5274, \"single_frequency_class_detected\": false}',\n",
       "  'ModelExplainRunId': 'AutoML_830bd105-83b1-4a29-97f8-2458b6cd4c04_ModelExplain'},\n",
       " 'inputDatasets': [{'dataset': {'id': '71040a24-478d-4afa-9723-26306e63acf3'}, 'consumptionDetails': {'type': 'RunInput', 'inputName': 'training_data', 'mechanism': 'Direct'}}],\n",
       " 'outputDatasets': [],\n",
       " 'logFiles': {}}"
      ]
     },
     "execution_count": 12,
     "metadata": {},
     "output_type": "execute_result"
    }
   ],
   "source": [
    "from azureml.widgets import RunDetails\n",
    "RunDetails(remote_run).show()\n",
    "remote_run.wait_for_completion(show_output=True)"
   ]
  },
  {
   "cell_type": "markdown",
   "metadata": {},
   "source": [
    "## Best Model\n",
    "\n",
    "TODO: In the cell below, get the best model from the automl experiments and display all the properties of the model.\n",
    "\n"
   ]
  },
  {
   "cell_type": "code",
   "execution_count": 13,
   "metadata": {
    "gather": {
     "logged": 1598431425670
    },
    "jupyter": {
     "outputs_hidden": false,
     "source_hidden": false
    },
    "nteract": {
     "transient": {
      "deleting": false
     }
    }
   },
   "outputs": [
    {
     "name": "stdout",
     "output_type": "stream",
     "text": [
      "Pipeline(memory=None,\n",
      "         steps=[('datatransformer',\n",
      "                 DataTransformer(enable_dnn=None, enable_feature_sweeping=None,\n",
      "                                 feature_sweeping_config=None,\n",
      "                                 feature_sweeping_timeout=None,\n",
      "                                 featurization_config=None, force_text_dnn=None,\n",
      "                                 is_cross_validation=None,\n",
      "                                 is_onnx_compatible=None, logger=None,\n",
      "                                 observer=None, task=None, working_dir=None)),\n",
      "                ('prefittedsoftvotingclassifier',...\n",
      "                                                                                                min_child_samples=455,\n",
      "                                                                                                min_child_weight=0,\n",
      "                                                                                                min_split_gain=0.7368421052631579,\n",
      "                                                                                                n_estimators=800,\n",
      "                                                                                                n_jobs=1,\n",
      "                                                                                                num_leaves=11,\n",
      "                                                                                                objective=None,\n",
      "                                                                                                random_state=None,\n",
      "                                                                                                reg_alpha=0,\n",
      "                                                                                                reg_lambda=0.21052631578947367,\n",
      "                                                                                                silent=True,\n",
      "                                                                                                subsample=1,\n",
      "                                                                                                subsample_for_bin=200000,\n",
      "                                                                                                subsample_freq=0,\n",
      "                                                                                                verbose=-10))],\n",
      "                                                                     verbose=False))],\n",
      "                                               flatten_transform=None,\n",
      "                                               weights=[0.25, 0.375, 0.125,\n",
      "                                                        0.125, 0.125]))],\n",
      "         verbose=False)\n"
     ]
    }
   ],
   "source": [
    "best_automl, best_fit_model = remote_run.get_output()\n",
    "print(best_fit_model)"
   ]
  },
  {
   "cell_type": "code",
   "execution_count": 14,
   "metadata": {},
   "outputs": [
    {
     "name": "stdout",
     "output_type": "stream",
     "text": [
      "Run(Experiment: capstone-project,\n",
      "Id: AutoML_830bd105-83b1-4a29-97f8-2458b6cd4c04_36,\n",
      "Type: azureml.scriptrun,\n",
      "Status: Completed)\n"
     ]
    }
   ],
   "source": [
    "print(best_automl)"
   ]
  },
  {
   "cell_type": "code",
   "execution_count": 16,
   "metadata": {
    "gather": {
     "logged": 1598431426111
    },
    "jupyter": {
     "outputs_hidden": false,
     "source_hidden": false
    },
    "nteract": {
     "transient": {
      "deleting": false
     }
    }
   },
   "outputs": [
    {
     "data": {
      "text/plain": [
       "['best_fit_automl_model.pkl']"
      ]
     },
     "execution_count": 16,
     "metadata": {},
     "output_type": "execute_result"
    }
   ],
   "source": [
    "#TODO: Save the best model\n",
    "joblib.dump(best_fit_model, 'best_fit_automl_model.pkl')"
   ]
  },
  {
   "cell_type": "markdown",
   "metadata": {},
   "source": [
    "## Model Deployment\n",
    "\n",
    "Remember you have to deploy only one of the two models you trained.. Perform the steps in the rest of this notebook only if you wish to deploy this model.\n",
    "\n",
    "TODO: In the cell below, register the model, create an inference config and deploy the model as a web service."
   ]
  },
  {
   "cell_type": "code",
   "execution_count": 17,
   "metadata": {
    "gather": {
     "logged": 1598431435189
    },
    "jupyter": {
     "outputs_hidden": false,
     "source_hidden": false
    },
    "nteract": {
     "transient": {
      "deleting": false
     }
    }
   },
   "outputs": [
    {
     "name": "stdout",
     "output_type": "stream",
     "text": [
      "Registering model best_fit_automl_model\n",
      "best_fit_automl_model\tbest_fit_automl_model:1\t1\n"
     ]
    }
   ],
   "source": [
    "# Register the Model\n",
    "from azureml.core.model import Model\n",
    "model = Model.register(workspace = ws, model_name = 'best_fit_automl_model', model_path = 'best_fit_automl_model.pkl')\n",
    "print(model.name, model.id, model.version, sep='\\t')"
   ]
  },
  {
   "cell_type": "code",
   "execution_count": 18,
   "metadata": {},
   "outputs": [
    {
     "name": "stdout",
     "output_type": "stream",
     "text": [
      "Tips: You can try get_logs(): https://aka.ms/debugimage#dockerlog or local deployment: https://aka.ms/debugimage#debug-locally to debug if deployment takes longer than 10 minutes.\n",
      "Running..............\n",
      "Succeeded\n",
      "ACI service creation operation finished, operation \"Succeeded\"\n",
      "Healthy\n",
      "http://cf4e6ab2-17dc-4a7e-9c00-6d04b9e8a24c.southcentralus.azurecontainer.io/score\n",
      "http://cf4e6ab2-17dc-4a7e-9c00-6d04b9e8a24c.southcentralus.azurecontainer.io/swagger.json\n"
     ]
    }
   ],
   "source": [
    "# Deploy the Model\n",
    "from azureml.core.environment import Environment\n",
    "from azureml.core.model import InferenceConfig\n",
    "from azureml.core.webservice import LocalWebservice, Webservice, AciWebservice\n",
    "from azureml.core.conda_dependencies import CondaDependencies\n",
    "import azureml.train.automl\n",
    "\n",
    "# Create the environment\n",
    "env = best_automl.get_environment()\n",
    "conda_dep = CondaDependencies()\n",
    "\n",
    "# Define the packages needed by the model and the script\n",
    "#conda_dep.add_conda_package(\"numpy\")\n",
    "#conda_dep.add_conda_package(\"scikit-learn\")\n",
    "#conda_dep.add_conda_package(\"pandas\")\n",
    "# Define azureml-defaults as a pip dependency\n",
    "#conda_dep.add_pip_package(\"azureml-defaults\")\n",
    "#conda_dep.add_pip_package(\"azureml-train\")\n",
    "\n",
    "# Adds dependencies to PythonSection of myenv\n",
    "#env.python.conda_dependencies=conda_dep\n",
    "\n",
    "inference_config = InferenceConfig(entry_script='score.py', environment=env)\n",
    "\n",
    "deployment_config = AciWebservice.deploy_configuration(cpu_cores=1, memory_gb=4, enable_app_insights=True)\n",
    "service = Model.deploy(ws, \"customerservice\", [model], inference_config, deployment_config)\n",
    "service.wait_for_deployment(show_output = True)\n",
    "\n",
    "print(service.state)\n",
    "print(service.scoring_uri)\n",
    "print(service.swagger_uri)"
   ]
  },
  {
   "cell_type": "markdown",
   "metadata": {
    "collapsed": true,
    "gather": {
     "logged": 1598431657736
    },
    "jupyter": {
     "outputs_hidden": false,
     "source_hidden": false
    },
    "nteract": {
     "transient": {
      "deleting": false
     }
    }
   },
   "source": [
    "TODO: In the cell below, send a request to the web service you deployed to test it."
   ]
  },
  {
   "cell_type": "code",
   "execution_count": 19,
   "metadata": {
    "gather": {
     "logged": 1598432707604
    },
    "jupyter": {
     "outputs_hidden": false,
     "source_hidden": false
    },
    "nteract": {
     "transient": {
      "deleting": false
     }
    }
   },
   "outputs": [
    {
     "name": "stdout",
     "output_type": "stream",
     "text": [
      "Response Code :  200\n",
      "Predicted Value :  [1]\n"
     ]
    }
   ],
   "source": [
    "import requests\n",
    "import json\n",
    "\n",
    "# URL for the web service\n",
    "scoring_uri = 'http://cf4e6ab2-17dc-4a7e-9c00-6d04b9e8a24c.southcentralus.azurecontainer.io/score'\n",
    "\n",
    "# Set the content type\n",
    "headers = {'Content-Type': 'application/json'}\n",
    "\n",
    "# Two sets of data to score, so we get two results back\n",
    "data = {\"data\":\n",
    "        [{\n",
    "                \"gender_Male\" :0,\n",
    "                \"SeniorCitizen\":0,\n",
    "                \"Dependents\" :0,\n",
    "                \"Partner\" :0,\n",
    "                \"tenure\":2,\n",
    "                \"PhoneService\" :1,\n",
    "                \"MultipleLines\" :1,\n",
    "                \"InternetService_Fiber optic\" :1,\n",
    "                \"InternetService_No\":0,\n",
    "                \"OnlineSecurity\" :0,\n",
    "                \"OnlineBackup\" :0,\n",
    "                \"DeviceProtection\" :0,\n",
    "                \"TechSupport\" :0,\n",
    "                \"StreamingTV\" :0,\n",
    "                \"StreamingMovies\" :1,\n",
    "                \"Contract_One year\" : 0,\n",
    "                \"Contract_Two year\":0,\n",
    "                \"PaperlessBilling\" :1,\n",
    "                \"PaymentMethod_Bank transfer (automatic)\":0,\n",
    "                \"PaymentMethod_Credit card (automatic)\":0,\n",
    "                \"PaymentMethod_Mailed check\":0,\n",
    "                \"PaymentMethod_Electronic check\" :1,\n",
    "                \"MonthlyCharges\" : 85.7,\n",
    "                \"TotalCharges\" : 169.8 }\n",
    "        ]\n",
    "        }\n",
    "# Convert to JSON string\n",
    "input_data = json.dumps(data)\n",
    "\n",
    "# Make the request and display the response\n",
    "resp = requests.post(scoring_uri, input_data, headers=headers)\n",
    "\n",
    "print(\"Response Code : \", resp.status_code)\n",
    "print(\"Predicted Value : \",resp.text)"
   ]
  },
  {
   "cell_type": "markdown",
   "metadata": {
    "collapsed": true,
    "gather": {
     "logged": 1598432765711
    },
    "jupyter": {
     "outputs_hidden": false,
     "source_hidden": false
    },
    "nteract": {
     "transient": {
      "deleting": false
     }
    }
   },
   "source": [
    "TODO: In the cell below, print the logs of the web service and delete the service"
   ]
  },
  {
   "cell_type": "code",
   "execution_count": 20,
   "metadata": {},
   "outputs": [
    {
     "name": "stdout",
     "output_type": "stream",
     "text": [
      "2020-12-21T13:38:45,508544100+00:00 - iot-server/run \n",
      "2020-12-21T13:38:45,508293600+00:00 - nginx/run \n",
      "2020-12-21T13:38:45,509451900+00:00 - rsyslog/run \n",
      "2020-12-21T13:38:45,510476900+00:00 - gunicorn/run \n",
      "/usr/sbin/nginx: /azureml-envs/azureml_e1251fbb90896de9de2cde1255eba7bb/lib/libcrypto.so.1.0.0: no version information available (required by /usr/sbin/nginx)\n",
      "/usr/sbin/nginx: /azureml-envs/azureml_e1251fbb90896de9de2cde1255eba7bb/lib/libcrypto.so.1.0.0: no version information available (required by /usr/sbin/nginx)\n",
      "/usr/sbin/nginx: /azureml-envs/azureml_e1251fbb90896de9de2cde1255eba7bb/lib/libssl.so.1.0.0: no version information available (required by /usr/sbin/nginx)\n",
      "/usr/sbin/nginx: /azureml-envs/azureml_e1251fbb90896de9de2cde1255eba7bb/lib/libssl.so.1.0.0: no version information available (required by /usr/sbin/nginx)\n",
      "/usr/sbin/nginx: /azureml-envs/azureml_e1251fbb90896de9de2cde1255eba7bb/lib/libssl.so.1.0.0: no version information available (required by /usr/sbin/nginx)\n",
      "rsyslogd: /azureml-envs/azureml_e1251fbb90896de9de2cde1255eba7bb/lib/libuuid.so.1: no version information available (required by rsyslogd)\n",
      "EdgeHubConnectionString and IOTEDGE_IOTHUBHOSTNAME are not set. Exiting...\n",
      "2020-12-21T13:38:47,465995900+00:00 - iot-server/finish 1 0\n",
      "2020-12-21T13:38:47,473932500+00:00 - Exit code 1 is normal. Not restarting iot-server.\n",
      "Starting gunicorn 19.9.0\n",
      "Listening at: http://127.0.0.1:31311 (71)\n",
      "Using worker: sync\n",
      "worker timeout is set to 300\n",
      "Booting worker with pid: 100\n",
      "SPARK_HOME not set. Skipping PySpark Initialization.\n",
      "Generating new fontManager, this may take some time...\n",
      "Initializing logger\n",
      "2020-12-21 13:38:58,887 | root | INFO | Starting up app insights client\n",
      "Starting up app insights client\n",
      "2020-12-21 13:38:58,888 | root | INFO | Starting up request id generator\n",
      "Starting up request id generator\n",
      "2020-12-21 13:38:58,888 | root | INFO | Starting up app insight hooks\n",
      "Starting up app insight hooks\n",
      "2020-12-21 13:38:58,888 | root | INFO | Invoking user's init function\n",
      "Invoking user's init function\n",
      "2020-12-21 13:39:03,522 | root | INFO | Users's init has completed successfully\n",
      "Users's init has completed successfully\n",
      "/azureml-envs/azureml_e1251fbb90896de9de2cde1255eba7bb/lib/python3.6/site-packages/sklearn/externals/joblib/__init__.py:15: FutureWarning: sklearn.externals.joblib is deprecated in 0.21 and will be removed in 0.23. Please import this functionality directly from joblib, which can be installed with: pip install joblib. If this warning is raised when loading pickled models, you may need to re-serialize those models with scikit-learn 0.21+.\n",
      "  warnings.warn(msg, category=FutureWarning)\n",
      "2020-12-21 13:39:03,538 | root | INFO | Skipping middleware: dbg_model_info as it's not enabled.\n",
      "Skipping middleware: dbg_model_info as it's not enabled.\n",
      "2020-12-21 13:39:03,538 | root | INFO | Skipping middleware: dbg_resource_usage as it's not enabled.\n",
      "Skipping middleware: dbg_resource_usage as it's not enabled.\n",
      "2020-12-21 13:39:03,543 | root | INFO | Scoring timeout is found from os.environ: 60000 ms\n",
      "Scoring timeout is found from os.environ: 60000 ms\n",
      "2020-12-21 13:39:04,044 | root | INFO | Swagger file not present\n",
      "Swagger file not present\n",
      "2020-12-21 13:39:04,045 | root | INFO | 404\n",
      "404\n",
      "127.0.0.1 - - [21/Dec/2020:13:39:04 +0000] \"GET /swagger.json HTTP/1.0\" 404 19 \"-\" \"Go-http-client/1.1\"\n",
      "2020-12-21 13:39:07,438 | root | INFO | Swagger file not present\n",
      "Swagger file not present\n",
      "2020-12-21 13:39:07,439 | root | INFO | 404\n",
      "404\n",
      "127.0.0.1 - - [21/Dec/2020:13:39:07 +0000] \"GET /swagger.json HTTP/1.0\" 404 19 \"-\" \"Go-http-client/1.1\"\n",
      "2020-12-21 13:39:55,830 | root | INFO | Validation Request Content-Type\n",
      "Validation Request Content-Type\n",
      "2020-12-21 13:39:55,831 | root | INFO | \tHost: localhost:5001\n",
      "\tHost: localhost:5001\n",
      "2020-12-21 13:39:55,831 | root | INFO | \tX-Real-Ip: 127.0.0.1\n",
      "\tX-Real-Ip: 127.0.0.1\n",
      "2020-12-21 13:39:55,832 | root | INFO | \tX-Forwarded-For: 127.0.0.1\n",
      "\tX-Forwarded-For: 127.0.0.1\n",
      "2020-12-21 13:39:55,832 | root | INFO | \tX-Forwarded-Proto: http\n",
      "\tX-Forwarded-Proto: http\n",
      "2020-12-21 13:39:55,833 | root | INFO | \tConnection: close\n",
      "\tConnection: close\n",
      "2020-12-21 13:39:55,833 | root | INFO | \tContent-Length: 591\n",
      "\tContent-Length: 591\n",
      "2020-12-21 13:39:55,833 | root | INFO | \tUser-Agent: python-requests/2.25.0\n",
      "\tUser-Agent: python-requests/2.25.0\n",
      "2020-12-21 13:39:55,834 | root | INFO | \tAccept: */*\n",
      "\tAccept: */*\n",
      "2020-12-21 13:39:55,834 | root | INFO | \tAccept-Encoding: gzip, deflate\n",
      "\tAccept-Encoding: gzip, deflate\n",
      "2020-12-21 13:39:55,834 | root | INFO | \tContent-Type: application/json\n",
      "\tContent-Type: application/json\n",
      "2020-12-21 13:39:55,835 | root | INFO | \tX-Ms-Request-Id: 4a37f1b1-547a-47b8-95c5-c1d154c911a4\n",
      "\tX-Ms-Request-Id: 4a37f1b1-547a-47b8-95c5-c1d154c911a4\n",
      "2020-12-21 13:39:55,835 | root | INFO | Scoring Timer is set to 60.0 seconds\n",
      "Scoring Timer is set to 60.0 seconds\n",
      "2020-12-21 13:39:55,977 | root | INFO | 200\n",
      "200\n",
      "127.0.0.1 - - [21/Dec/2020:13:39:55 +0000] \"POST /score HTTP/1.0\" 200 3 \"-\" \"python-requests/2.25.0\"\n",
      "\n"
     ]
    }
   ],
   "source": [
    "# Web Service Logs\n",
    "print(service.get_logs())"
   ]
  },
  {
   "cell_type": "code",
   "execution_count": 22,
   "metadata": {
    "jupyter": {
     "outputs_hidden": false,
     "source_hidden": false
    },
    "nteract": {
     "transient": {
      "deleting": false
     }
    }
   },
   "outputs": [
    {
     "name": "stdout",
     "output_type": "stream",
     "text": [
      "No service with name customerservice found to delete.\n"
     ]
    }
   ],
   "source": [
    "# Delete the service\n",
    "service.delete()"
   ]
  },
  {
   "cell_type": "code",
   "execution_count": null,
   "metadata": {},
   "outputs": [],
   "source": []
  }
 ],
 "metadata": {
  "kernel_info": {
   "name": "python3-azureml"
  },
  "kernelspec": {
   "display_name": "Python 3",
   "language": "python",
   "name": "python3"
  },
  "language_info": {
   "codemirror_mode": {
    "name": "ipython",
    "version": 3
   },
   "file_extension": ".py",
   "mimetype": "text/x-python",
   "name": "python",
   "nbconvert_exporter": "python",
   "pygments_lexer": "ipython3",
   "version": "3.6.9"
  },
  "nteract": {
   "version": "nteract-front-end@1.0.0"
  }
 },
 "nbformat": 4,
 "nbformat_minor": 2
}
